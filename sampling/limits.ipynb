{
 "cells": [
  {
   "cell_type": "markdown",
   "metadata": {},
   "source": [
    "# Calculating limits for sampling"
   ]
  },
  {
   "cell_type": "markdown",
   "metadata": {},
   "source": [
    "From a random sample, these percentages obtained:\n",
    "\n",
    "HI: 225753 (4.9%)\n",
    "    HI, re: 49016 (1.1%)\n",
    "    HI, other: 176737 (3.8%)\n",
    "ID: 220351 (4.8%)\n",
    "    ID, other: 220351 (4.8%)\n",
    "IN: 2252366 (48.8%)\n",
    "    IN, dtp: 1116067 (24.2%)\n",
    "    IN, en: 42425 (0.9%)\n",
    "    IN, fi: 2709 (0.1%)\n",
    "    IN, lt: 26150 (0.6%)\n",
    "    IN, ra: 49788 (1.1%)\n",
    "    IN, other: 1015227 (22.0%)\n",
    "IP: 739136 (16.0%)\n",
    "    IP, ds: 560168 (12.1%)\n",
    "    IP, other: 178968 (3.9%)\n",
    "LY: 17925 (0.4%)\n",
    "    LY, other: 17925 (0.4%)\n",
    "MT: 138730 (3.0%)\n",
    "    MT, other: 138730 (3.0%)\n",
    "NA: 1541299 (33.4%)\n",
    "    NA, nb: 289080 (6.3%)\n",
    "    NA, ne: 836345 (18.1%)\n",
    "    NA, sr: 164895 (3.6%)\n",
    "    NA, other: 250979 (5.4%)\n",
    "OP: 651281 (14.1%)\n",
    "    OP, av: 48197 (1.0%)\n",
    "    OP, ob: 141351 (3.1%)\n",
    "    OP, rs: 50705 (1.1%)\n",
    "    OP, rv: 164476 (3.6%)\n",
    "    OP, other: 246552 (5.3%)\n",
    "SP: 29393 (0.6%)\n",
    "    SP, it: 22948 (0.5%)\n",
    "    SP, other: 6445 (0.1%)\n",
    "no register: 66038 (1.4%)\n",
    "TOTAL: 4613048"
   ]
  },
  {
   "cell_type": "code",
   "execution_count": 2,
   "metadata": {},
   "outputs": [],
   "source": [
    "# what we want to sample\n",
    "\n",
    "registers = [\"dtp\",\"HI\",\"ID\",\"IN\",\"IP\",\"MT\",\"NA\",\"ne\",\"OP\",\"SP\",\"LY\", \"no-label\"]\n",
    "\n",
    "percentages = {\"HI\": 4.9,\n",
    "               \"ID\":4.8,\n",
    "               \"IN\":48.8-24.2,  # since dpt is under IN\n",
    "               \"dtp\": 24.2,\n",
    "               \"IP\": 16.0,\n",
    "               \"LY\": 0.4,\n",
    "               \"MT\": 3.0,\n",
    "               \"NA\": 33.4-18.1,  # since ne is under NA\n",
    "               \"ne\": 18.1,\n",
    "               \"OP\": 14.1,\n",
    "               \"SP\": 0.6,\n",
    "               \"no-label\": 1.4,\n",
    "               }\n"
   ]
  },
  {
   "cell_type": "markdown",
   "metadata": {},
   "source": [
    "From the hplt website:\n",
    "\n",
    "eng_Latn DEDUPLICATED:\n",
    "\n",
    "Docs: 7.72B\n",
    "Words: 3.75T\n",
    "Size: 23T\n",
    "\n",
    "We want 150-160B tokens == 140-150B words per register.\n",
    "\n",
    "Since we do not know the length distribution per these registers, and we're dropping short docs, so I'm taking a bit more."
   ]
  },
  {
   "cell_type": "code",
   "execution_count": 4,
   "metadata": {},
   "outputs": [
    {
     "name": "stdout",
     "output_type": "stream",
     "text": [
      "limits = {\n",
      "\t\"dtp\": 0.18732782369146006,\n",
      "\t\"HI\": 0.9251700680272109,\n",
      "\t\"ID\": 0.9444444444444444,\n",
      "\t\"IN\": 0.18428184281842822,\n",
      "\t\"IP\": 0.2833333333333333,\n",
      "\t\"MT\": 1,\n",
      "\t\"NA\": 0.29629629629629634,\n",
      "\t\"ne\": 0.2504604051565377,\n",
      "\t\"OP\": 0.3215130023640662,\n",
      "\t\"SP\": 1,\n",
      "\t\"LY\": 1,\n",
      "\t\"no-label\": 1,\n",
      "\t\"HI-IN\": 1,\n",
      "}\n"
     ]
    }
   ],
   "source": [
    "total_words = 3.75e12\n",
    "wanted_words = 170e9   # making this larger than needed\n",
    "\n",
    "millnames = ['',' k',' M',' B',' T']\n",
    "import math\n",
    "def millify(n):\n",
    "    n = float(n)\n",
    "    millidx = max(0,min(len(millnames)-1,\n",
    "                        int(math.floor(0 if n == 0 else math.log10(abs(n))/3))))\n",
    "\n",
    "    return '{:.0f}{}'.format(n / 10**(3 * millidx), millnames[millidx])\n",
    "\n",
    "print(\"limits = {\")\n",
    "for r in registers:\n",
    "    how_many_words_for_this_register_in_total= total_words*(percentages[r]/100)\n",
    "    #print(f'{r} total number of words: {millify(how_many_words_for_this_register_in_total)}')\n",
    "    limit = min(1,wanted_words/how_many_words_for_this_register_in_total)\n",
    "    #print(f'\\tlimit needed: {limit}')\n",
    "    #print(f'\\tAfter limit: {millify(how_many_words_for_this_register_in_total*limit)}')\n",
    "    print(f'\\t\"{r}\": {limit},')\n",
    "print('\\t\"HI-IN\": 1,')   # this manually to 1 since there is probably very little of it\n",
    "print(\"}\")"
   ]
  },
  {
   "cell_type": "code",
   "execution_count": null,
   "metadata": {},
   "outputs": [],
   "source": []
  }
 ],
 "metadata": {
  "kernelspec": {
   "display_name": "Python 3",
   "language": "python",
   "name": "python3"
  },
  "language_info": {
   "codemirror_mode": {
    "name": "ipython",
    "version": 3
   },
   "file_extension": ".py",
   "mimetype": "text/x-python",
   "name": "python",
   "nbconvert_exporter": "python",
   "pygments_lexer": "ipython3",
   "version": "3.6.15"
  }
 },
 "nbformat": 4,
 "nbformat_minor": 2
}
