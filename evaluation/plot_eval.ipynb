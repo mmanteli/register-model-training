{
 "cells": [
  {
   "cell_type": "code",
   "execution_count": 1,
   "metadata": {},
   "outputs": [],
   "source": [
    "! pip -q install pandas plotly\n",
    "! pip -q install nbformat"
   ]
  },
  {
   "cell_type": "code",
   "execution_count": 158,
   "metadata": {},
   "outputs": [],
   "source": [
    "import pandas as pd\n",
    "import plotly.express as px\n",
    "import plotly.graph_objects as go\n",
    "import glob\n",
    "import json\n",
    "from plotly.subplots import make_subplots\n",
    "import math"
   ]
  },
  {
   "cell_type": "code",
   "execution_count": 159,
   "metadata": {},
   "outputs": [
    {
     "name": "stdout",
     "output_type": "stream",
     "text": [
      "['eval_results/multiple/dtp/global_step5000/results_2024-12-12T21-03-54.434108.json', 'eval_results/multiple/dtp/global_step6000/results_2024-12-12T21-19-49.686628.json', 'eval_results/multiple/dtp/global_step2000/results_2024-12-12T20-18-02.706540.json', 'eval_results/multiple/dtp/global_step3000/results_2024-12-12T20-33-18.330995.json', 'eval_results/multiple/dtp/global_step11000/results_2024-12-12T22-36-54.754138.json', 'eval_results/multiple/dtp/global_step13000/results_2024-12-12T23-07-27.116325.json', 'eval_results/multiple/dtp/global_step1000/results_2024-12-12T20-02-45.250585.json', 'eval_results/multiple/dtp/global_step9000/results_2024-12-12T22-05-42.820256.json', 'eval_results/multiple/dtp/global_step12000/results_2024-12-12T22-52-11.313886.json', 'eval_results/multiple/dtp/global_step10000/results_2024-12-12T22-21-03.081917.json', 'eval_results/multiple/dtp/global_step7000/results_2024-12-12T21-35-07.587617.json', 'eval_results/multiple/dtp/global_step14000/results_2024-12-12T23-22-44.862335.json', 'eval_results/multiple/dtp/global_step8000/results_2024-12-12T21-50-25.401499.json', 'eval_results/multiple/dtp/global_step4000/results_2024-12-12T20-48-36.098794.json', 'eval_results/multiple/ne/global_step5000/results_2024-12-12T21-00-06.958887.json', 'eval_results/multiple/ne/global_step6000/results_2024-12-12T21-15-16.488956.json', 'eval_results/multiple/ne/global_step2000/results_2024-12-12T20-13-40.800781.json', 'eval_results/multiple/ne/global_step3000/results_2024-12-12T20-29-18.403308.json', 'eval_results/multiple/ne/global_step11000/results_2024-12-12T22-31-54.589700.json', 'eval_results/multiple/ne/global_step13000/results_2024-12-12T23-02-36.916150.json', 'eval_results/multiple/ne/global_step1000/results_2024-12-12T19-58-35.730311.json', 'eval_results/multiple/ne/global_step9000/results_2024-12-12T22-01-43.407303.json', 'eval_results/multiple/ne/global_step12000/results_2024-12-12T22-47-32.900377.json', 'eval_results/multiple/ne/global_step10000/results_2024-12-12T22-16-48.573859.json', 'eval_results/multiple/ne/global_step7000/results_2024-12-12T21-30-45.666478.json', 'eval_results/multiple/ne/global_step14000/results_2024-12-12T23-18-17.880808.json', 'eval_results/multiple/ne/global_step8000/results_2024-12-12T21-46-02.237578.json', 'eval_results/multiple/ne/global_step4000/results_2024-12-12T20-44-25.981445.json', 'eval_results/multiple/HI/global_step5000/results_2024-12-12T20-59-17.708207.json', 'eval_results/multiple/HI/global_step6000/results_2024-12-12T21-15-05.017018.json', 'eval_results/multiple/HI/global_step2000/results_2024-12-12T20-13-46.718189.json', 'eval_results/multiple/HI/global_step3000/results_2024-12-12T20-29-00.626983.json', 'eval_results/multiple/HI/global_step11000/results_2024-12-12T22-31-15.510548.json', 'eval_results/multiple/HI/global_step13000/results_2024-12-12T23-01-33.703400.json', 'eval_results/multiple/HI/global_step1000/results_2024-12-12T19-58-39.490043.json', 'eval_results/multiple/HI/global_step9000/results_2024-12-12T22-00-23.681059.json', 'eval_results/multiple/HI/global_step12000/results_2024-12-12T22-46-24.147035.json', 'eval_results/multiple/HI/global_step10000/results_2024-12-12T22-15-31.901318.json', 'eval_results/multiple/HI/global_step7000/results_2024-12-12T21-30-13.549616.json', 'eval_results/multiple/HI/global_step14000/results_2024-12-12T23-16-39.371653.json', 'eval_results/multiple/HI/global_step8000/results_2024-12-12T21-45-19.993154.json', 'eval_results/multiple/HI/global_step4000/results_2024-12-12T20-44-08.676133.json', 'eval_results/multiple/NA/global_step5000/results_2024-12-12T20-59-01.194035.json', 'eval_results/multiple/NA/global_step6000/results_2024-12-12T21-14-44.769766.json', 'eval_results/multiple/NA/global_step2000/results_2024-12-12T20-13-43.385738.json', 'eval_results/multiple/NA/global_step3000/results_2024-12-12T20-28-50.251364.json', 'eval_results/multiple/NA/global_step11000/results_2024-12-12T22-30-03.173485.json', 'eval_results/multiple/NA/global_step13000/results_2024-12-12T23-00-11.480188.json', 'eval_results/multiple/NA/global_step1000/results_2024-12-12T19-58-36.779787.json', 'eval_results/multiple/NA/global_step9000/results_2024-12-12T21-59-54.001109.json', 'eval_results/multiple/NA/global_step12000/results_2024-12-12T22-45-07.565675.json', 'eval_results/multiple/NA/global_step10000/results_2024-12-12T22-14-57.591028.json', 'eval_results/multiple/NA/global_step7000/results_2024-12-12T21-29-49.972028.json', 'eval_results/multiple/NA/global_step14000/results_2024-12-12T23-15-16.619756.json', 'eval_results/multiple/NA/global_step8000/results_2024-12-12T21-44-54.941452.json', 'eval_results/multiple/NA/global_step4000/results_2024-12-12T20-43-55.198839.json', 'eval_results/multiple/IN/global_step5000/results_2024-12-12T20-59-25.951481.json', 'eval_results/multiple/IN/global_step6000/results_2024-12-12T21-15-12.534280.json', 'eval_results/multiple/IN/global_step2000/results_2024-12-12T20-13-50.029133.json', 'eval_results/multiple/IN/global_step3000/results_2024-12-12T20-29-03.483384.json', 'eval_results/multiple/IN/global_step11000/results_2024-12-12T22-31-00.477736.json', 'eval_results/multiple/IN/global_step13000/results_2024-12-12T23-01-20.623578.json', 'eval_results/multiple/IN/global_step1000/results_2024-12-12T19-58-41.531537.json', 'eval_results/multiple/IN/global_step9000/results_2024-12-12T22-00-42.767083.json', 'eval_results/multiple/IN/global_step12000/results_2024-12-12T22-46-10.286765.json', 'eval_results/multiple/IN/global_step10000/results_2024-12-12T22-15-51.281716.json', 'eval_results/multiple/IN/global_step7000/results_2024-12-12T21-30-22.117761.json', 'eval_results/multiple/IN/global_step14000/results_2024-12-12T23-16-28.799493.json', 'eval_results/multiple/IN/global_step8000/results_2024-12-12T21-45-32.592819.json', 'eval_results/multiple/IN/global_step4000/results_2024-12-12T20-44-12.715975.json', 'eval_results/multiple/ID/global_step5000/results_2024-12-12T20-59-18.746015.json', 'eval_results/multiple/ID/global_step6000/results_2024-12-12T21-14-23.862875.json', 'eval_results/multiple/ID/global_step2000/results_2024-12-12T20-13-37.458599.json', 'eval_results/multiple/ID/global_step3000/results_2024-12-12T20-28-39.727571.json', 'eval_results/multiple/ID/global_step11000/results_2024-12-12T22-30-06.888919.json', 'eval_results/multiple/ID/global_step13000/results_2024-12-12T23-00-09.475909.json', 'eval_results/multiple/ID/global_step1000/results_2024-12-12T19-58-33.654760.json', 'eval_results/multiple/ID/global_step9000/results_2024-12-12T22-00-04.112772.json', 'eval_results/multiple/ID/global_step12000/results_2024-12-12T22-45-07.292565.json', 'eval_results/multiple/ID/global_step10000/results_2024-12-12T22-15-06.602269.json', 'eval_results/multiple/ID/global_step7000/results_2024-12-12T21-29-27.315518.json', 'eval_results/multiple/ID/global_step14000/results_2024-12-12T23-15-46.048294.json', 'eval_results/multiple/ID/global_step8000/results_2024-12-12T21-44-29.210829.json', 'eval_results/multiple/ID/global_step4000/results_2024-12-12T20-43-41.726548.json', 'eval_results/multiple/OP/global_step5000/results_2024-12-12T20-59-45.899578.json', 'eval_results/multiple/OP/global_step6000/results_2024-12-12T21-15-35.978849.json', 'eval_results/multiple/OP/global_step2000/results_2024-12-12T20-14-02.193823.json', 'eval_results/multiple/OP/global_step3000/results_2024-12-12T20-29-16.554127.json', 'eval_results/multiple/OP/global_step11000/results_2024-12-12T22-33-00.326166.json', 'eval_results/multiple/OP/global_step13000/results_2024-12-12T23-03-26.857213.json', 'eval_results/multiple/OP/global_step1000/results_2024-12-12T19-58-46.753385.json', 'eval_results/multiple/OP/global_step9000/results_2024-12-12T22-01-57.310661.json', 'eval_results/multiple/OP/global_step12000/results_2024-12-12T22-48-13.315454.json', 'eval_results/multiple/OP/global_step10000/results_2024-12-12T22-17-12.635910.json', 'eval_results/multiple/OP/global_step7000/results_2024-12-12T21-30-52.923569.json', 'eval_results/multiple/OP/global_step14000/results_2024-12-12T23-18-42.665182.json', 'eval_results/multiple/OP/global_step8000/results_2024-12-12T21-46-40.742989.json', 'eval_results/multiple/OP/global_step4000/results_2024-12-12T20-44-30.963654.json', 'eval_results/multiple/IP/global_step5000/results_2024-12-12T20-59-07.153074.json', 'eval_results/multiple/IP/global_step6000/results_2024-12-12T21-14-47.526833.json', 'eval_results/multiple/IP/global_step2000/results_2024-12-12T20-13-45.480281.json', 'eval_results/multiple/IP/global_step3000/results_2024-12-12T20-28-54.895438.json', 'eval_results/multiple/IP/global_step11000/results_2024-12-12T22-30-52.869297.json', 'eval_results/multiple/IP/global_step13000/results_2024-12-12T23-01-04.032338.json', 'eval_results/multiple/IP/global_step1000/results_2024-12-12T19-58-37.837381.json', 'eval_results/multiple/IP/global_step9000/results_2024-12-12T22-00-08.962618.json', 'eval_results/multiple/IP/global_step12000/results_2024-12-12T22-45-57.868224.json', 'eval_results/multiple/IP/global_step10000/results_2024-12-12T22-15-47.772472.json', 'eval_results/multiple/IP/global_step7000/results_2024-12-12T21-29-54.212418.json', 'eval_results/multiple/IP/global_step14000/results_2024-12-12T23-16-10.217201.json', 'eval_results/multiple/IP/global_step8000/results_2024-12-12T21-45-01.201798.json', 'eval_results/multiple/IP/global_step4000/results_2024-12-12T20-44-00.022927.json']\n"
     ]
    }
   ],
   "source": [
    "result_files = glob.glob(\"/scratch/project_462000353/amanda/register-training/register-model-training/eval_results/multiple/*/global_step*/*\")\n",
    "print(result_files)"
   ]
  },
  {
   "cell_type": "code",
   "execution_count": 161,
   "metadata": {},
   "outputs": [
    {
     "data": {
      "text/html": [
       "<div>\n",
       "<style scoped>\n",
       "    .dataframe tbody tr th:only-of-type {\n",
       "        vertical-align: middle;\n",
       "    }\n",
       "\n",
       "    .dataframe tbody tr th {\n",
       "        vertical-align: top;\n",
       "    }\n",
       "\n",
       "    .dataframe thead th {\n",
       "        text-align: right;\n",
       "    }\n",
       "</style>\n",
       "<table border=\"1\" class=\"dataframe\">\n",
       "  <thead>\n",
       "    <tr style=\"text-align: right;\">\n",
       "      <th></th>\n",
       "      <th>register</th>\n",
       "      <th>acc</th>\n",
       "      <th>acc_arc_easy</th>\n",
       "      <th>acc_hellaswag</th>\n",
       "      <th>acc_norm</th>\n",
       "      <th>acc_norm_arc_easy</th>\n",
       "      <th>acc_norm_hellaswag</th>\n",
       "      <th>acc_norm_openbookqa</th>\n",
       "      <th>acc_norm_piqa</th>\n",
       "      <th>acc_norm_stderr</th>\n",
       "      <th>...</th>\n",
       "      <th>acc_norm_stderr_piqa</th>\n",
       "      <th>acc_openbookqa</th>\n",
       "      <th>acc_piqa</th>\n",
       "      <th>acc_stderr</th>\n",
       "      <th>acc_stderr_arc_easy</th>\n",
       "      <th>acc_stderr_hellaswag</th>\n",
       "      <th>acc_stderr_openbookqa</th>\n",
       "      <th>acc_stderr_piqa</th>\n",
       "      <th>step</th>\n",
       "      <th>tokens</th>\n",
       "    </tr>\n",
       "  </thead>\n",
       "  <tbody>\n",
       "    <tr>\n",
       "      <th>104</th>\n",
       "      <td>IP</td>\n",
       "      <td>0.303884</td>\n",
       "      <td>0.270623</td>\n",
       "      <td>0.259211</td>\n",
       "      <td>0.322348</td>\n",
       "      <td>0.263889</td>\n",
       "      <td>0.255726</td>\n",
       "      <td>0.254</td>\n",
       "      <td>0.515778</td>\n",
       "      <td>0.011136</td>\n",
       "      <td>...</td>\n",
       "      <td>0.011660</td>\n",
       "      <td>0.140</td>\n",
       "      <td>0.545702</td>\n",
       "      <td>0.010160</td>\n",
       "      <td>0.009116</td>\n",
       "      <td>0.004373</td>\n",
       "      <td>0.015533</td>\n",
       "      <td>0.011617</td>\n",
       "      <td>1000</td>\n",
       "      <td>2B</td>\n",
       "    </tr>\n",
       "    <tr>\n",
       "      <th>34</th>\n",
       "      <td>HI</td>\n",
       "      <td>0.311792</td>\n",
       "      <td>0.269781</td>\n",
       "      <td>0.260307</td>\n",
       "      <td>0.338167</td>\n",
       "      <td>0.268098</td>\n",
       "      <td>0.254033</td>\n",
       "      <td>0.256</td>\n",
       "      <td>0.574538</td>\n",
       "      <td>0.011127</td>\n",
       "      <td>...</td>\n",
       "      <td>0.011535</td>\n",
       "      <td>0.142</td>\n",
       "      <td>0.575082</td>\n",
       "      <td>0.010161</td>\n",
       "      <td>0.009108</td>\n",
       "      <td>0.004379</td>\n",
       "      <td>0.015626</td>\n",
       "      <td>0.011534</td>\n",
       "      <td>1000</td>\n",
       "      <td>2B</td>\n",
       "    </tr>\n",
       "    <tr>\n",
       "      <th>48</th>\n",
       "      <td>NA</td>\n",
       "      <td>0.299615</td>\n",
       "      <td>0.260943</td>\n",
       "      <td>0.259610</td>\n",
       "      <td>0.328137</td>\n",
       "      <td>0.266414</td>\n",
       "      <td>0.251444</td>\n",
       "      <td>0.280</td>\n",
       "      <td>0.514690</td>\n",
       "      <td>0.011290</td>\n",
       "      <td>...</td>\n",
       "      <td>0.011661</td>\n",
       "      <td>0.142</td>\n",
       "      <td>0.535909</td>\n",
       "      <td>0.010162</td>\n",
       "      <td>0.009011</td>\n",
       "      <td>0.004375</td>\n",
       "      <td>0.015626</td>\n",
       "      <td>0.011636</td>\n",
       "      <td>1000</td>\n",
       "      <td>2B</td>\n",
       "    </tr>\n",
       "    <tr>\n",
       "      <th>6</th>\n",
       "      <td>dtp</td>\n",
       "      <td>0.307218</td>\n",
       "      <td>0.284091</td>\n",
       "      <td>0.258713</td>\n",
       "      <td>0.326932</td>\n",
       "      <td>0.281987</td>\n",
       "      <td>0.256124</td>\n",
       "      <td>0.262</td>\n",
       "      <td>0.507617</td>\n",
       "      <td>0.011235</td>\n",
       "      <td>...</td>\n",
       "      <td>0.011664</td>\n",
       "      <td>0.142</td>\n",
       "      <td>0.544070</td>\n",
       "      <td>0.010218</td>\n",
       "      <td>0.009254</td>\n",
       "      <td>0.004370</td>\n",
       "      <td>0.015626</td>\n",
       "      <td>0.011620</td>\n",
       "      <td>1000</td>\n",
       "      <td>2B</td>\n",
       "    </tr>\n",
       "    <tr>\n",
       "      <th>20</th>\n",
       "      <td>ne</td>\n",
       "      <td>0.297054</td>\n",
       "      <td>0.250842</td>\n",
       "      <td>0.259112</td>\n",
       "      <td>0.326545</td>\n",
       "      <td>0.263047</td>\n",
       "      <td>0.244473</td>\n",
       "      <td>0.272</td>\n",
       "      <td>0.526659</td>\n",
       "      <td>0.011223</td>\n",
       "      <td>...</td>\n",
       "      <td>0.011649</td>\n",
       "      <td>0.138</td>\n",
       "      <td>0.540261</td>\n",
       "      <td>0.010084</td>\n",
       "      <td>0.008895</td>\n",
       "      <td>0.004373</td>\n",
       "      <td>0.015440</td>\n",
       "      <td>0.011628</td>\n",
       "      <td>1000</td>\n",
       "      <td>2B</td>\n",
       "    </tr>\n",
       "    <tr>\n",
       "      <th>...</th>\n",
       "      <td>...</td>\n",
       "      <td>...</td>\n",
       "      <td>...</td>\n",
       "      <td>...</td>\n",
       "      <td>...</td>\n",
       "      <td>...</td>\n",
       "      <td>...</td>\n",
       "      <td>...</td>\n",
       "      <td>...</td>\n",
       "      <td>...</td>\n",
       "      <td>...</td>\n",
       "      <td>...</td>\n",
       "      <td>...</td>\n",
       "      <td>...</td>\n",
       "      <td>...</td>\n",
       "      <td>...</td>\n",
       "      <td>...</td>\n",
       "      <td>...</td>\n",
       "      <td>...</td>\n",
       "      <td>...</td>\n",
       "      <td>...</td>\n",
       "    </tr>\n",
       "    <tr>\n",
       "      <th>53</th>\n",
       "      <td>NA</td>\n",
       "      <td>0.325416</td>\n",
       "      <td>0.326178</td>\n",
       "      <td>0.268771</td>\n",
       "      <td>0.343246</td>\n",
       "      <td>0.313131</td>\n",
       "      <td>0.269667</td>\n",
       "      <td>0.220</td>\n",
       "      <td>0.570185</td>\n",
       "      <td>0.011010</td>\n",
       "      <td>...</td>\n",
       "      <td>0.011550</td>\n",
       "      <td>0.130</td>\n",
       "      <td>0.576714</td>\n",
       "      <td>0.010157</td>\n",
       "      <td>0.009620</td>\n",
       "      <td>0.004424</td>\n",
       "      <td>0.015055</td>\n",
       "      <td>0.011528</td>\n",
       "      <td>14000</td>\n",
       "      <td>29B</td>\n",
       "    </tr>\n",
       "    <tr>\n",
       "      <th>25</th>\n",
       "      <td>ne</td>\n",
       "      <td>0.317650</td>\n",
       "      <td>0.325758</td>\n",
       "      <td>0.264788</td>\n",
       "      <td>0.341378</td>\n",
       "      <td>0.320707</td>\n",
       "      <td>0.265983</td>\n",
       "      <td>0.244</td>\n",
       "      <td>0.534820</td>\n",
       "      <td>0.011213</td>\n",
       "      <td>...</td>\n",
       "      <td>0.011638</td>\n",
       "      <td>0.130</td>\n",
       "      <td>0.550054</td>\n",
       "      <td>0.010171</td>\n",
       "      <td>0.009617</td>\n",
       "      <td>0.004403</td>\n",
       "      <td>0.015055</td>\n",
       "      <td>0.011607</td>\n",
       "      <td>14000</td>\n",
       "      <td>29B</td>\n",
       "    </tr>\n",
       "    <tr>\n",
       "      <th>109</th>\n",
       "      <td>IP</td>\n",
       "      <td>0.316223</td>\n",
       "      <td>0.292508</td>\n",
       "      <td>0.268771</td>\n",
       "      <td>0.345666</td>\n",
       "      <td>0.292929</td>\n",
       "      <td>0.277933</td>\n",
       "      <td>0.234</td>\n",
       "      <td>0.577802</td>\n",
       "      <td>0.011071</td>\n",
       "      <td>...</td>\n",
       "      <td>0.011524</td>\n",
       "      <td>0.122</td>\n",
       "      <td>0.581610</td>\n",
       "      <td>0.009980</td>\n",
       "      <td>0.009335</td>\n",
       "      <td>0.004424</td>\n",
       "      <td>0.014651</td>\n",
       "      <td>0.011509</td>\n",
       "      <td>14000</td>\n",
       "      <td>29B</td>\n",
       "    </tr>\n",
       "    <tr>\n",
       "      <th>95</th>\n",
       "      <td>OP</td>\n",
       "      <td>0.333752</td>\n",
       "      <td>0.327862</td>\n",
       "      <td>0.269568</td>\n",
       "      <td>0.353782</td>\n",
       "      <td>0.316498</td>\n",
       "      <td>0.278829</td>\n",
       "      <td>0.242</td>\n",
       "      <td>0.577802</td>\n",
       "      <td>0.011179</td>\n",
       "      <td>...</td>\n",
       "      <td>0.011524</td>\n",
       "      <td>0.144</td>\n",
       "      <td>0.593580</td>\n",
       "      <td>0.010309</td>\n",
       "      <td>0.009633</td>\n",
       "      <td>0.004428</td>\n",
       "      <td>0.015717</td>\n",
       "      <td>0.011460</td>\n",
       "      <td>14000</td>\n",
       "      <td>29B</td>\n",
       "    </tr>\n",
       "    <tr>\n",
       "      <th>39</th>\n",
       "      <td>HI</td>\n",
       "      <td>0.356520</td>\n",
       "      <td>0.314394</td>\n",
       "      <td>0.291775</td>\n",
       "      <td>0.388375</td>\n",
       "      <td>0.307660</td>\n",
       "      <td>0.314678</td>\n",
       "      <td>0.244</td>\n",
       "      <td>0.687160</td>\n",
       "      <td>0.011037</td>\n",
       "      <td>...</td>\n",
       "      <td>0.010818</td>\n",
       "      <td>0.142</td>\n",
       "      <td>0.677911</td>\n",
       "      <td>0.010148</td>\n",
       "      <td>0.009527</td>\n",
       "      <td>0.004537</td>\n",
       "      <td>0.015626</td>\n",
       "      <td>0.010902</td>\n",
       "      <td>14000</td>\n",
       "      <td>29B</td>\n",
       "    </tr>\n",
       "  </tbody>\n",
       "</table>\n",
       "<p>112 rows × 23 columns</p>\n",
       "</div>"
      ],
      "text/plain": [
       "    register       acc  acc_arc_easy  acc_hellaswag  acc_norm  \\\n",
       "104       IP  0.303884      0.270623       0.259211  0.322348   \n",
       "34        HI  0.311792      0.269781       0.260307  0.338167   \n",
       "48        NA  0.299615      0.260943       0.259610  0.328137   \n",
       "6        dtp  0.307218      0.284091       0.258713  0.326932   \n",
       "20        ne  0.297054      0.250842       0.259112  0.326545   \n",
       "..       ...       ...           ...            ...       ...   \n",
       "53        NA  0.325416      0.326178       0.268771  0.343246   \n",
       "25        ne  0.317650      0.325758       0.264788  0.341378   \n",
       "109       IP  0.316223      0.292508       0.268771  0.345666   \n",
       "95        OP  0.333752      0.327862       0.269568  0.353782   \n",
       "39        HI  0.356520      0.314394       0.291775  0.388375   \n",
       "\n",
       "     acc_norm_arc_easy  acc_norm_hellaswag  acc_norm_openbookqa  \\\n",
       "104           0.263889            0.255726                0.254   \n",
       "34            0.268098            0.254033                0.256   \n",
       "48            0.266414            0.251444                0.280   \n",
       "6             0.281987            0.256124                0.262   \n",
       "20            0.263047            0.244473                0.272   \n",
       "..                 ...                 ...                  ...   \n",
       "53            0.313131            0.269667                0.220   \n",
       "25            0.320707            0.265983                0.244   \n",
       "109           0.292929            0.277933                0.234   \n",
       "95            0.316498            0.278829                0.242   \n",
       "39            0.307660            0.314678                0.244   \n",
       "\n",
       "     acc_norm_piqa  acc_norm_stderr  ...  acc_norm_stderr_piqa  \\\n",
       "104       0.515778         0.011136  ...              0.011660   \n",
       "34        0.574538         0.011127  ...              0.011535   \n",
       "48        0.514690         0.011290  ...              0.011661   \n",
       "6         0.507617         0.011235  ...              0.011664   \n",
       "20        0.526659         0.011223  ...              0.011649   \n",
       "..             ...              ...  ...                   ...   \n",
       "53        0.570185         0.011010  ...              0.011550   \n",
       "25        0.534820         0.011213  ...              0.011638   \n",
       "109       0.577802         0.011071  ...              0.011524   \n",
       "95        0.577802         0.011179  ...              0.011524   \n",
       "39        0.687160         0.011037  ...              0.010818   \n",
       "\n",
       "     acc_openbookqa  acc_piqa  acc_stderr  acc_stderr_arc_easy  \\\n",
       "104           0.140  0.545702    0.010160             0.009116   \n",
       "34            0.142  0.575082    0.010161             0.009108   \n",
       "48            0.142  0.535909    0.010162             0.009011   \n",
       "6             0.142  0.544070    0.010218             0.009254   \n",
       "20            0.138  0.540261    0.010084             0.008895   \n",
       "..              ...       ...         ...                  ...   \n",
       "53            0.130  0.576714    0.010157             0.009620   \n",
       "25            0.130  0.550054    0.010171             0.009617   \n",
       "109           0.122  0.581610    0.009980             0.009335   \n",
       "95            0.144  0.593580    0.010309             0.009633   \n",
       "39            0.142  0.677911    0.010148             0.009527   \n",
       "\n",
       "     acc_stderr_hellaswag  acc_stderr_openbookqa  acc_stderr_piqa   step  \\\n",
       "104              0.004373               0.015533         0.011617   1000   \n",
       "34               0.004379               0.015626         0.011534   1000   \n",
       "48               0.004375               0.015626         0.011636   1000   \n",
       "6                0.004370               0.015626         0.011620   1000   \n",
       "20               0.004373               0.015440         0.011628   1000   \n",
       "..                    ...                    ...              ...    ...   \n",
       "53               0.004424               0.015055         0.011528  14000   \n",
       "25               0.004403               0.015055         0.011607  14000   \n",
       "109              0.004424               0.014651         0.011509  14000   \n",
       "95               0.004428               0.015717         0.011460  14000   \n",
       "39               0.004537               0.015626         0.010902  14000   \n",
       "\n",
       "     tokens  \n",
       "104      2B  \n",
       "34       2B  \n",
       "48       2B  \n",
       "6        2B  \n",
       "20       2B  \n",
       "..      ...  \n",
       "53      29B  \n",
       "25      29B  \n",
       "109     29B  \n",
       "95      29B  \n",
       "39      29B  \n",
       "\n",
       "[112 rows x 23 columns]"
      ]
     },
     "metadata": {},
     "output_type": "display_data"
    }
   ],
   "source": [
    "millnames = ['','k','M','B','T']\n",
    "\n",
    "def millify(n):\n",
    "    n = float(n)\n",
    "    millidx = max(0,min(len(millnames)-1,\n",
    "                        int(math.floor(0 if n == 0 else math.log10(abs(n))/3))))\n",
    "\n",
    "    return '{:.0f}{}'.format(n / 10**(3 * millidx), millnames[millidx])\n",
    "\n",
    "\n",
    "data = []\n",
    "for f in result_files:\n",
    "    register = f.split(\"/\")[2]\n",
    "    step = f.split(\"/\")[3].replace(\"global_step\", \"\")\n",
    "    with open(f, 'r') as result:\n",
    "        j = json.load(result)\n",
    "        results_all = j[\"results\"][\"all\"]\n",
    "        results_hellaswag_0 = {k+\"_hellaswag\":v for k,v in j[\"results\"][\"leaderboard|hellaswag|0\"].items()}\n",
    "        results_arc_easy_0 = {k+\"_arc_easy\":v for k,v in j[\"results\"][\"lighteval|arc:easy|0\"].items()}\n",
    "        results_openbookqa_0 = {k+\"_openbookqa\":v for k,v in j[\"results\"][\"lighteval|openbookqa|0\"].items()}\n",
    "        results_piqa_0 = {k+\"_piqa\":v for k,v in j[\"results\"][\"lighteval|piqa|0\"].items()}\n",
    "        df = pd.DataFrame.from_dict({register:{\"step\":int(step), **results_all, **results_hellaswag_0, **results_arc_easy_0, **results_openbookqa_0, **results_piqa_0}})\n",
    "        #display(df)\n",
    "        data.append(df.T)\n",
    "        #print(register, j[\"results\"][\"all\"])\n",
    "        #data[register] = {step: j[\"results\"][\"all\"]}\n",
    "\n",
    "df = pd.concat(data)\n",
    "df = df.reset_index()\n",
    "df = df.rename(columns={\"index\":\"register\"})\n",
    "# problem: step does not go to correct place on the plot\n",
    "# sort it as numerical, then make it categorical so plotting works\n",
    "# ordered=True does nothing here because plotly does not respect it; only sorting works\n",
    "df=df.sort_values(\"step\")\n",
    "df[\"tokens\"] = df[\"step\"]*2.1e6\n",
    "#df[\"step\"] = pd.Categorical(df['step'], categories=sorted(df['step'].astype(int).unique()), ordered=True)\n",
    "df[\"step\"]= df['step'].apply(lambda x: str(round(x)))\n",
    "df[\"tokens\"]= df['tokens'].apply(lambda x: millify(x))\n",
    "display(df)"
   ]
  },
  {
   "cell_type": "code",
   "execution_count": 175,
   "metadata": {},
   "outputs": [
    {
     "data": {
      "application/vnd.plotly.v1+json": {
       "config": {
        "plotlyServerURL": "https://plot.ly"
       },
       "data": [
        {
         "alignmentgroup": "True",
         "error_y": {
          "array": [
           0.011150876738276841,
           0.011223123828834721,
           0.01116850504704278,
           0.011048246110021413,
           0.011262880434759096,
           0.01097053084763074,
           0.011058010895703883,
           0.011371331909432044
          ]
         },
         "hovertemplate": "step=3000<br>register=%{x}<br>acc_norm=%{y}<extra></extra>",
         "legendgroup": "3000",
         "marker": {
          "color": "#636efa",
          "pattern": {
           "shape": ""
          }
         },
         "name": "3000",
         "offsetgroup": "3000",
         "orientation": "v",
         "showlegend": true,
         "textposition": "auto",
         "type": "bar",
         "x": [
          "ID",
          "HI",
          "ne",
          "OP",
          "IN",
          "IP",
          "NA",
          "dtp"
         ],
         "xaxis": "x",
         "y": [
          0.33073516380409257,
          0.3650912475093716,
          0.32693300705758954,
          0.3298107022139187,
          0.34309729476671996,
          0.3255654853019858,
          0.32822171425120983,
          0.34938728142098485
         ],
         "yaxis": "y"
        },
        {
         "alignmentgroup": "True",
         "error_y": {
          "array": [
           0.011147750820398025,
           0.011086618669131059,
           0.011259167660888978,
           0.011097413803363461,
           0.011126443389669026,
           0.011143478337077555,
           0.011154820042488009,
           0.011298989502464711
          ]
         },
         "hovertemplate": "step=7000<br>register=%{x}<br>acc_norm=%{y}<extra></extra>",
         "legendgroup": "7000",
         "marker": {
          "color": "#EF553B",
          "pattern": {
           "shape": ""
          }
         },
         "name": "7000",
         "offsetgroup": "7000",
         "orientation": "v",
         "showlegend": true,
         "textposition": "auto",
         "type": "bar",
         "x": [
          "ne",
          "ID",
          "IN",
          "HI",
          "NA",
          "IP",
          "OP",
          "dtp"
         ],
         "xaxis": "x",
         "y": [
          0.3330691461498487,
          0.3442283150869593,
          0.35246811359630714,
          0.37281335688080697,
          0.3403144335377022,
          0.3411363331858931,
          0.3410323335463682,
          0.35418869394560515
         ],
         "yaxis": "y"
        },
        {
         "alignmentgroup": "True",
         "error_y": {
          "array": [
           0.011152677043715378,
           0.011005770202865531,
           0.011120139451591939,
           0.01118595124203868,
           0.011160709942156592,
           0.011319200943418251,
           0.011169064107198716,
           0.011137151798269417
          ]
         },
         "hovertemplate": "step=10000<br>register=%{x}<br>acc_norm=%{y}<extra></extra>",
         "legendgroup": "10000",
         "marker": {
          "color": "#00cc96",
          "pattern": {
           "shape": ""
          }
         },
         "name": "10000",
         "offsetgroup": "10000",
         "orientation": "v",
         "showlegend": true,
         "textposition": "auto",
         "type": "bar",
         "x": [
          "ID",
          "NA",
          "OP",
          "IN",
          "HI",
          "dtp",
          "ne",
          "IP"
         ],
         "xaxis": "x",
         "y": [
          0.346112781693103,
          0.33835738522113945,
          0.3472816820973313,
          0.35479288601580256,
          0.3785370653593695,
          0.3556621653746527,
          0.33801177873629584,
          0.3444876574966551
         ],
         "yaxis": "y"
        },
        {
         "alignmentgroup": "True",
         "error_y": {
          "array": [
           0.011276517057040355,
           0.011117404301378394,
           0.011281616547848665,
           0.011009909416140974,
           0.011212807950419838,
           0.011071424768576945,
           0.011178933451766354,
           0.011037281897329228
          ]
         },
         "hovertemplate": "step=14000<br>register=%{x}<br>acc_norm=%{y}<extra></extra>",
         "legendgroup": "14000",
         "marker": {
          "color": "#ab63fa",
          "pattern": {
           "shape": ""
          }
         },
         "name": "14000",
         "offsetgroup": "14000",
         "orientation": "v",
         "showlegend": true,
         "textposition": "auto",
         "type": "bar",
         "x": [
          "dtp",
          "ID",
          "IN",
          "NA",
          "ne",
          "IP",
          "OP",
          "HI"
         ],
         "xaxis": "x",
         "y": [
          0.360549925598243,
          0.3487659361287882,
          0.362771162664203,
          0.34324592343552646,
          0.3413775999158575,
          0.3456659835781309,
          0.35378229842278675,
          0.38837456001511794
         ],
         "yaxis": "y"
        }
       ],
       "layout": {
        "barmode": "group",
        "height": 500,
        "legend": {
         "title": {
          "text": "step"
         },
         "tracegroupgap": 0
        },
        "margin": {
         "t": 60
        },
        "showlegend": true,
        "template": {
         "data": {
          "bar": [
           {
            "error_x": {
             "color": "#2a3f5f"
            },
            "error_y": {
             "color": "#2a3f5f"
            },
            "marker": {
             "line": {
              "color": "#E5ECF6",
              "width": 0.5
             },
             "pattern": {
              "fillmode": "overlay",
              "size": 10,
              "solidity": 0.2
             }
            },
            "type": "bar"
           }
          ],
          "barpolar": [
           {
            "marker": {
             "line": {
              "color": "#E5ECF6",
              "width": 0.5
             },
             "pattern": {
              "fillmode": "overlay",
              "size": 10,
              "solidity": 0.2
             }
            },
            "type": "barpolar"
           }
          ],
          "carpet": [
           {
            "aaxis": {
             "endlinecolor": "#2a3f5f",
             "gridcolor": "white",
             "linecolor": "white",
             "minorgridcolor": "white",
             "startlinecolor": "#2a3f5f"
            },
            "baxis": {
             "endlinecolor": "#2a3f5f",
             "gridcolor": "white",
             "linecolor": "white",
             "minorgridcolor": "white",
             "startlinecolor": "#2a3f5f"
            },
            "type": "carpet"
           }
          ],
          "choropleth": [
           {
            "colorbar": {
             "outlinewidth": 0,
             "ticks": ""
            },
            "type": "choropleth"
           }
          ],
          "contour": [
           {
            "colorbar": {
             "outlinewidth": 0,
             "ticks": ""
            },
            "colorscale": [
             [
              0,
              "#0d0887"
             ],
             [
              0.1111111111111111,
              "#46039f"
             ],
             [
              0.2222222222222222,
              "#7201a8"
             ],
             [
              0.3333333333333333,
              "#9c179e"
             ],
             [
              0.4444444444444444,
              "#bd3786"
             ],
             [
              0.5555555555555556,
              "#d8576b"
             ],
             [
              0.6666666666666666,
              "#ed7953"
             ],
             [
              0.7777777777777778,
              "#fb9f3a"
             ],
             [
              0.8888888888888888,
              "#fdca26"
             ],
             [
              1,
              "#f0f921"
             ]
            ],
            "type": "contour"
           }
          ],
          "contourcarpet": [
           {
            "colorbar": {
             "outlinewidth": 0,
             "ticks": ""
            },
            "type": "contourcarpet"
           }
          ],
          "heatmap": [
           {
            "colorbar": {
             "outlinewidth": 0,
             "ticks": ""
            },
            "colorscale": [
             [
              0,
              "#0d0887"
             ],
             [
              0.1111111111111111,
              "#46039f"
             ],
             [
              0.2222222222222222,
              "#7201a8"
             ],
             [
              0.3333333333333333,
              "#9c179e"
             ],
             [
              0.4444444444444444,
              "#bd3786"
             ],
             [
              0.5555555555555556,
              "#d8576b"
             ],
             [
              0.6666666666666666,
              "#ed7953"
             ],
             [
              0.7777777777777778,
              "#fb9f3a"
             ],
             [
              0.8888888888888888,
              "#fdca26"
             ],
             [
              1,
              "#f0f921"
             ]
            ],
            "type": "heatmap"
           }
          ],
          "heatmapgl": [
           {
            "colorbar": {
             "outlinewidth": 0,
             "ticks": ""
            },
            "colorscale": [
             [
              0,
              "#0d0887"
             ],
             [
              0.1111111111111111,
              "#46039f"
             ],
             [
              0.2222222222222222,
              "#7201a8"
             ],
             [
              0.3333333333333333,
              "#9c179e"
             ],
             [
              0.4444444444444444,
              "#bd3786"
             ],
             [
              0.5555555555555556,
              "#d8576b"
             ],
             [
              0.6666666666666666,
              "#ed7953"
             ],
             [
              0.7777777777777778,
              "#fb9f3a"
             ],
             [
              0.8888888888888888,
              "#fdca26"
             ],
             [
              1,
              "#f0f921"
             ]
            ],
            "type": "heatmapgl"
           }
          ],
          "histogram": [
           {
            "marker": {
             "pattern": {
              "fillmode": "overlay",
              "size": 10,
              "solidity": 0.2
             }
            },
            "type": "histogram"
           }
          ],
          "histogram2d": [
           {
            "colorbar": {
             "outlinewidth": 0,
             "ticks": ""
            },
            "colorscale": [
             [
              0,
              "#0d0887"
             ],
             [
              0.1111111111111111,
              "#46039f"
             ],
             [
              0.2222222222222222,
              "#7201a8"
             ],
             [
              0.3333333333333333,
              "#9c179e"
             ],
             [
              0.4444444444444444,
              "#bd3786"
             ],
             [
              0.5555555555555556,
              "#d8576b"
             ],
             [
              0.6666666666666666,
              "#ed7953"
             ],
             [
              0.7777777777777778,
              "#fb9f3a"
             ],
             [
              0.8888888888888888,
              "#fdca26"
             ],
             [
              1,
              "#f0f921"
             ]
            ],
            "type": "histogram2d"
           }
          ],
          "histogram2dcontour": [
           {
            "colorbar": {
             "outlinewidth": 0,
             "ticks": ""
            },
            "colorscale": [
             [
              0,
              "#0d0887"
             ],
             [
              0.1111111111111111,
              "#46039f"
             ],
             [
              0.2222222222222222,
              "#7201a8"
             ],
             [
              0.3333333333333333,
              "#9c179e"
             ],
             [
              0.4444444444444444,
              "#bd3786"
             ],
             [
              0.5555555555555556,
              "#d8576b"
             ],
             [
              0.6666666666666666,
              "#ed7953"
             ],
             [
              0.7777777777777778,
              "#fb9f3a"
             ],
             [
              0.8888888888888888,
              "#fdca26"
             ],
             [
              1,
              "#f0f921"
             ]
            ],
            "type": "histogram2dcontour"
           }
          ],
          "mesh3d": [
           {
            "colorbar": {
             "outlinewidth": 0,
             "ticks": ""
            },
            "type": "mesh3d"
           }
          ],
          "parcoords": [
           {
            "line": {
             "colorbar": {
              "outlinewidth": 0,
              "ticks": ""
             }
            },
            "type": "parcoords"
           }
          ],
          "pie": [
           {
            "automargin": true,
            "type": "pie"
           }
          ],
          "scatter": [
           {
            "fillpattern": {
             "fillmode": "overlay",
             "size": 10,
             "solidity": 0.2
            },
            "type": "scatter"
           }
          ],
          "scatter3d": [
           {
            "line": {
             "colorbar": {
              "outlinewidth": 0,
              "ticks": ""
             }
            },
            "marker": {
             "colorbar": {
              "outlinewidth": 0,
              "ticks": ""
             }
            },
            "type": "scatter3d"
           }
          ],
          "scattercarpet": [
           {
            "marker": {
             "colorbar": {
              "outlinewidth": 0,
              "ticks": ""
             }
            },
            "type": "scattercarpet"
           }
          ],
          "scattergeo": [
           {
            "marker": {
             "colorbar": {
              "outlinewidth": 0,
              "ticks": ""
             }
            },
            "type": "scattergeo"
           }
          ],
          "scattergl": [
           {
            "marker": {
             "colorbar": {
              "outlinewidth": 0,
              "ticks": ""
             }
            },
            "type": "scattergl"
           }
          ],
          "scattermapbox": [
           {
            "marker": {
             "colorbar": {
              "outlinewidth": 0,
              "ticks": ""
             }
            },
            "type": "scattermapbox"
           }
          ],
          "scatterpolar": [
           {
            "marker": {
             "colorbar": {
              "outlinewidth": 0,
              "ticks": ""
             }
            },
            "type": "scatterpolar"
           }
          ],
          "scatterpolargl": [
           {
            "marker": {
             "colorbar": {
              "outlinewidth": 0,
              "ticks": ""
             }
            },
            "type": "scatterpolargl"
           }
          ],
          "scatterternary": [
           {
            "marker": {
             "colorbar": {
              "outlinewidth": 0,
              "ticks": ""
             }
            },
            "type": "scatterternary"
           }
          ],
          "surface": [
           {
            "colorbar": {
             "outlinewidth": 0,
             "ticks": ""
            },
            "colorscale": [
             [
              0,
              "#0d0887"
             ],
             [
              0.1111111111111111,
              "#46039f"
             ],
             [
              0.2222222222222222,
              "#7201a8"
             ],
             [
              0.3333333333333333,
              "#9c179e"
             ],
             [
              0.4444444444444444,
              "#bd3786"
             ],
             [
              0.5555555555555556,
              "#d8576b"
             ],
             [
              0.6666666666666666,
              "#ed7953"
             ],
             [
              0.7777777777777778,
              "#fb9f3a"
             ],
             [
              0.8888888888888888,
              "#fdca26"
             ],
             [
              1,
              "#f0f921"
             ]
            ],
            "type": "surface"
           }
          ],
          "table": [
           {
            "cells": {
             "fill": {
              "color": "#EBF0F8"
             },
             "line": {
              "color": "white"
             }
            },
            "header": {
             "fill": {
              "color": "#C8D4E3"
             },
             "line": {
              "color": "white"
             }
            },
            "type": "table"
           }
          ]
         },
         "layout": {
          "annotationdefaults": {
           "arrowcolor": "#2a3f5f",
           "arrowhead": 0,
           "arrowwidth": 1
          },
          "autotypenumbers": "strict",
          "coloraxis": {
           "colorbar": {
            "outlinewidth": 0,
            "ticks": ""
           }
          },
          "colorscale": {
           "diverging": [
            [
             0,
             "#8e0152"
            ],
            [
             0.1,
             "#c51b7d"
            ],
            [
             0.2,
             "#de77ae"
            ],
            [
             0.3,
             "#f1b6da"
            ],
            [
             0.4,
             "#fde0ef"
            ],
            [
             0.5,
             "#f7f7f7"
            ],
            [
             0.6,
             "#e6f5d0"
            ],
            [
             0.7,
             "#b8e186"
            ],
            [
             0.8,
             "#7fbc41"
            ],
            [
             0.9,
             "#4d9221"
            ],
            [
             1,
             "#276419"
            ]
           ],
           "sequential": [
            [
             0,
             "#0d0887"
            ],
            [
             0.1111111111111111,
             "#46039f"
            ],
            [
             0.2222222222222222,
             "#7201a8"
            ],
            [
             0.3333333333333333,
             "#9c179e"
            ],
            [
             0.4444444444444444,
             "#bd3786"
            ],
            [
             0.5555555555555556,
             "#d8576b"
            ],
            [
             0.6666666666666666,
             "#ed7953"
            ],
            [
             0.7777777777777778,
             "#fb9f3a"
            ],
            [
             0.8888888888888888,
             "#fdca26"
            ],
            [
             1,
             "#f0f921"
            ]
           ],
           "sequentialminus": [
            [
             0,
             "#0d0887"
            ],
            [
             0.1111111111111111,
             "#46039f"
            ],
            [
             0.2222222222222222,
             "#7201a8"
            ],
            [
             0.3333333333333333,
             "#9c179e"
            ],
            [
             0.4444444444444444,
             "#bd3786"
            ],
            [
             0.5555555555555556,
             "#d8576b"
            ],
            [
             0.6666666666666666,
             "#ed7953"
            ],
            [
             0.7777777777777778,
             "#fb9f3a"
            ],
            [
             0.8888888888888888,
             "#fdca26"
            ],
            [
             1,
             "#f0f921"
            ]
           ]
          },
          "colorway": [
           "#636efa",
           "#EF553B",
           "#00cc96",
           "#ab63fa",
           "#FFA15A",
           "#19d3f3",
           "#FF6692",
           "#B6E880",
           "#FF97FF",
           "#FECB52"
          ],
          "font": {
           "color": "#2a3f5f"
          },
          "geo": {
           "bgcolor": "white",
           "lakecolor": "white",
           "landcolor": "#E5ECF6",
           "showlakes": true,
           "showland": true,
           "subunitcolor": "white"
          },
          "hoverlabel": {
           "align": "left"
          },
          "hovermode": "closest",
          "mapbox": {
           "style": "light"
          },
          "paper_bgcolor": "white",
          "plot_bgcolor": "#E5ECF6",
          "polar": {
           "angularaxis": {
            "gridcolor": "white",
            "linecolor": "white",
            "ticks": ""
           },
           "bgcolor": "#E5ECF6",
           "radialaxis": {
            "gridcolor": "white",
            "linecolor": "white",
            "ticks": ""
           }
          },
          "scene": {
           "xaxis": {
            "backgroundcolor": "#E5ECF6",
            "gridcolor": "white",
            "gridwidth": 2,
            "linecolor": "white",
            "showbackground": true,
            "ticks": "",
            "zerolinecolor": "white"
           },
           "yaxis": {
            "backgroundcolor": "#E5ECF6",
            "gridcolor": "white",
            "gridwidth": 2,
            "linecolor": "white",
            "showbackground": true,
            "ticks": "",
            "zerolinecolor": "white"
           },
           "zaxis": {
            "backgroundcolor": "#E5ECF6",
            "gridcolor": "white",
            "gridwidth": 2,
            "linecolor": "white",
            "showbackground": true,
            "ticks": "",
            "zerolinecolor": "white"
           }
          },
          "shapedefaults": {
           "line": {
            "color": "#2a3f5f"
           }
          },
          "ternary": {
           "aaxis": {
            "gridcolor": "white",
            "linecolor": "white",
            "ticks": ""
           },
           "baxis": {
            "gridcolor": "white",
            "linecolor": "white",
            "ticks": ""
           },
           "bgcolor": "#E5ECF6",
           "caxis": {
            "gridcolor": "white",
            "linecolor": "white",
            "ticks": ""
           }
          },
          "title": {
           "x": 0.05
          },
          "xaxis": {
           "automargin": true,
           "gridcolor": "white",
           "linecolor": "white",
           "ticks": "",
           "title": {
            "standoff": 15
           },
           "zerolinecolor": "white",
           "zerolinewidth": 2
          },
          "yaxis": {
           "automargin": true,
           "gridcolor": "white",
           "linecolor": "white",
           "ticks": "",
           "title": {
            "standoff": 15
           },
           "zerolinecolor": "white",
           "zerolinewidth": 2
          }
         }
        },
        "title": {
         "text": "Average accuracy by Register"
        },
        "width": 1300,
        "xaxis": {
         "anchor": "y",
         "domain": [
          0,
          1
         ],
         "title": {
          "text": "register"
         }
        },
        "yaxis": {
         "anchor": "x",
         "domain": [
          0,
          1
         ],
         "title": {
          "text": "acc_norm"
         }
        }
       }
      },
      "text/html": [
       "<div>                            <div id=\"17ff006c-f3ce-4858-b53e-54c07d98305c\" class=\"plotly-graph-div\" style=\"height:500px; width:1300px;\"></div>            <script type=\"text/javascript\">                require([\"plotly\"], function(Plotly) {                    window.PLOTLYENV=window.PLOTLYENV || {};                                    if (document.getElementById(\"17ff006c-f3ce-4858-b53e-54c07d98305c\")) {                    Plotly.newPlot(                        \"17ff006c-f3ce-4858-b53e-54c07d98305c\",                        [{\"alignmentgroup\":\"True\",\"error_y\":{\"array\":[0.011150876738276841,0.011223123828834721,0.01116850504704278,0.011048246110021413,0.011262880434759096,0.01097053084763074,0.011058010895703883,0.011371331909432044]},\"hovertemplate\":\"step=3000\\u003cbr\\u003eregister=%{x}\\u003cbr\\u003eacc_norm=%{y}\\u003cextra\\u003e\\u003c\\u002fextra\\u003e\",\"legendgroup\":\"3000\",\"marker\":{\"color\":\"#636efa\",\"pattern\":{\"shape\":\"\"}},\"name\":\"3000\",\"offsetgroup\":\"3000\",\"orientation\":\"v\",\"showlegend\":true,\"textposition\":\"auto\",\"x\":[\"ID\",\"HI\",\"ne\",\"OP\",\"IN\",\"IP\",\"NA\",\"dtp\"],\"xaxis\":\"x\",\"y\":[0.33073516380409257,0.3650912475093716,0.32693300705758954,0.3298107022139187,0.34309729476671996,0.3255654853019858,0.32822171425120983,0.34938728142098485],\"yaxis\":\"y\",\"type\":\"bar\"},{\"alignmentgroup\":\"True\",\"error_y\":{\"array\":[0.011147750820398025,0.011086618669131059,0.011259167660888978,0.011097413803363461,0.011126443389669026,0.011143478337077555,0.011154820042488009,0.011298989502464711]},\"hovertemplate\":\"step=7000\\u003cbr\\u003eregister=%{x}\\u003cbr\\u003eacc_norm=%{y}\\u003cextra\\u003e\\u003c\\u002fextra\\u003e\",\"legendgroup\":\"7000\",\"marker\":{\"color\":\"#EF553B\",\"pattern\":{\"shape\":\"\"}},\"name\":\"7000\",\"offsetgroup\":\"7000\",\"orientation\":\"v\",\"showlegend\":true,\"textposition\":\"auto\",\"x\":[\"ne\",\"ID\",\"IN\",\"HI\",\"NA\",\"IP\",\"OP\",\"dtp\"],\"xaxis\":\"x\",\"y\":[0.3330691461498487,0.3442283150869593,0.35246811359630714,0.37281335688080697,0.3403144335377022,0.3411363331858931,0.3410323335463682,0.35418869394560515],\"yaxis\":\"y\",\"type\":\"bar\"},{\"alignmentgroup\":\"True\",\"error_y\":{\"array\":[0.011152677043715378,0.011005770202865531,0.011120139451591939,0.01118595124203868,0.011160709942156592,0.011319200943418251,0.011169064107198716,0.011137151798269417]},\"hovertemplate\":\"step=10000\\u003cbr\\u003eregister=%{x}\\u003cbr\\u003eacc_norm=%{y}\\u003cextra\\u003e\\u003c\\u002fextra\\u003e\",\"legendgroup\":\"10000\",\"marker\":{\"color\":\"#00cc96\",\"pattern\":{\"shape\":\"\"}},\"name\":\"10000\",\"offsetgroup\":\"10000\",\"orientation\":\"v\",\"showlegend\":true,\"textposition\":\"auto\",\"x\":[\"ID\",\"NA\",\"OP\",\"IN\",\"HI\",\"dtp\",\"ne\",\"IP\"],\"xaxis\":\"x\",\"y\":[0.346112781693103,0.33835738522113945,0.3472816820973313,0.35479288601580256,0.3785370653593695,0.3556621653746527,0.33801177873629584,0.3444876574966551],\"yaxis\":\"y\",\"type\":\"bar\"},{\"alignmentgroup\":\"True\",\"error_y\":{\"array\":[0.011276517057040355,0.011117404301378394,0.011281616547848665,0.011009909416140974,0.011212807950419838,0.011071424768576945,0.011178933451766354,0.011037281897329228]},\"hovertemplate\":\"step=14000\\u003cbr\\u003eregister=%{x}\\u003cbr\\u003eacc_norm=%{y}\\u003cextra\\u003e\\u003c\\u002fextra\\u003e\",\"legendgroup\":\"14000\",\"marker\":{\"color\":\"#ab63fa\",\"pattern\":{\"shape\":\"\"}},\"name\":\"14000\",\"offsetgroup\":\"14000\",\"orientation\":\"v\",\"showlegend\":true,\"textposition\":\"auto\",\"x\":[\"dtp\",\"ID\",\"IN\",\"NA\",\"ne\",\"IP\",\"OP\",\"HI\"],\"xaxis\":\"x\",\"y\":[0.360549925598243,0.3487659361287882,0.362771162664203,0.34324592343552646,0.3413775999158575,0.3456659835781309,0.35378229842278675,0.38837456001511794],\"yaxis\":\"y\",\"type\":\"bar\"}],                        {\"template\":{\"data\":{\"histogram2dcontour\":[{\"type\":\"histogram2dcontour\",\"colorbar\":{\"outlinewidth\":0,\"ticks\":\"\"},\"colorscale\":[[0.0,\"#0d0887\"],[0.1111111111111111,\"#46039f\"],[0.2222222222222222,\"#7201a8\"],[0.3333333333333333,\"#9c179e\"],[0.4444444444444444,\"#bd3786\"],[0.5555555555555556,\"#d8576b\"],[0.6666666666666666,\"#ed7953\"],[0.7777777777777778,\"#fb9f3a\"],[0.8888888888888888,\"#fdca26\"],[1.0,\"#f0f921\"]]}],\"choropleth\":[{\"type\":\"choropleth\",\"colorbar\":{\"outlinewidth\":0,\"ticks\":\"\"}}],\"histogram2d\":[{\"type\":\"histogram2d\",\"colorbar\":{\"outlinewidth\":0,\"ticks\":\"\"},\"colorscale\":[[0.0,\"#0d0887\"],[0.1111111111111111,\"#46039f\"],[0.2222222222222222,\"#7201a8\"],[0.3333333333333333,\"#9c179e\"],[0.4444444444444444,\"#bd3786\"],[0.5555555555555556,\"#d8576b\"],[0.6666666666666666,\"#ed7953\"],[0.7777777777777778,\"#fb9f3a\"],[0.8888888888888888,\"#fdca26\"],[1.0,\"#f0f921\"]]}],\"heatmap\":[{\"type\":\"heatmap\",\"colorbar\":{\"outlinewidth\":0,\"ticks\":\"\"},\"colorscale\":[[0.0,\"#0d0887\"],[0.1111111111111111,\"#46039f\"],[0.2222222222222222,\"#7201a8\"],[0.3333333333333333,\"#9c179e\"],[0.4444444444444444,\"#bd3786\"],[0.5555555555555556,\"#d8576b\"],[0.6666666666666666,\"#ed7953\"],[0.7777777777777778,\"#fb9f3a\"],[0.8888888888888888,\"#fdca26\"],[1.0,\"#f0f921\"]]}],\"heatmapgl\":[{\"type\":\"heatmapgl\",\"colorbar\":{\"outlinewidth\":0,\"ticks\":\"\"},\"colorscale\":[[0.0,\"#0d0887\"],[0.1111111111111111,\"#46039f\"],[0.2222222222222222,\"#7201a8\"],[0.3333333333333333,\"#9c179e\"],[0.4444444444444444,\"#bd3786\"],[0.5555555555555556,\"#d8576b\"],[0.6666666666666666,\"#ed7953\"],[0.7777777777777778,\"#fb9f3a\"],[0.8888888888888888,\"#fdca26\"],[1.0,\"#f0f921\"]]}],\"contourcarpet\":[{\"type\":\"contourcarpet\",\"colorbar\":{\"outlinewidth\":0,\"ticks\":\"\"}}],\"contour\":[{\"type\":\"contour\",\"colorbar\":{\"outlinewidth\":0,\"ticks\":\"\"},\"colorscale\":[[0.0,\"#0d0887\"],[0.1111111111111111,\"#46039f\"],[0.2222222222222222,\"#7201a8\"],[0.3333333333333333,\"#9c179e\"],[0.4444444444444444,\"#bd3786\"],[0.5555555555555556,\"#d8576b\"],[0.6666666666666666,\"#ed7953\"],[0.7777777777777778,\"#fb9f3a\"],[0.8888888888888888,\"#fdca26\"],[1.0,\"#f0f921\"]]}],\"surface\":[{\"type\":\"surface\",\"colorbar\":{\"outlinewidth\":0,\"ticks\":\"\"},\"colorscale\":[[0.0,\"#0d0887\"],[0.1111111111111111,\"#46039f\"],[0.2222222222222222,\"#7201a8\"],[0.3333333333333333,\"#9c179e\"],[0.4444444444444444,\"#bd3786\"],[0.5555555555555556,\"#d8576b\"],[0.6666666666666666,\"#ed7953\"],[0.7777777777777778,\"#fb9f3a\"],[0.8888888888888888,\"#fdca26\"],[1.0,\"#f0f921\"]]}],\"mesh3d\":[{\"type\":\"mesh3d\",\"colorbar\":{\"outlinewidth\":0,\"ticks\":\"\"}}],\"scatter\":[{\"fillpattern\":{\"fillmode\":\"overlay\",\"size\":10,\"solidity\":0.2},\"type\":\"scatter\"}],\"parcoords\":[{\"type\":\"parcoords\",\"line\":{\"colorbar\":{\"outlinewidth\":0,\"ticks\":\"\"}}}],\"scatterpolargl\":[{\"type\":\"scatterpolargl\",\"marker\":{\"colorbar\":{\"outlinewidth\":0,\"ticks\":\"\"}}}],\"bar\":[{\"error_x\":{\"color\":\"#2a3f5f\"},\"error_y\":{\"color\":\"#2a3f5f\"},\"marker\":{\"line\":{\"color\":\"#E5ECF6\",\"width\":0.5},\"pattern\":{\"fillmode\":\"overlay\",\"size\":10,\"solidity\":0.2}},\"type\":\"bar\"}],\"scattergeo\":[{\"type\":\"scattergeo\",\"marker\":{\"colorbar\":{\"outlinewidth\":0,\"ticks\":\"\"}}}],\"scatterpolar\":[{\"type\":\"scatterpolar\",\"marker\":{\"colorbar\":{\"outlinewidth\":0,\"ticks\":\"\"}}}],\"histogram\":[{\"marker\":{\"pattern\":{\"fillmode\":\"overlay\",\"size\":10,\"solidity\":0.2}},\"type\":\"histogram\"}],\"scattergl\":[{\"type\":\"scattergl\",\"marker\":{\"colorbar\":{\"outlinewidth\":0,\"ticks\":\"\"}}}],\"scatter3d\":[{\"type\":\"scatter3d\",\"line\":{\"colorbar\":{\"outlinewidth\":0,\"ticks\":\"\"}},\"marker\":{\"colorbar\":{\"outlinewidth\":0,\"ticks\":\"\"}}}],\"scattermapbox\":[{\"type\":\"scattermapbox\",\"marker\":{\"colorbar\":{\"outlinewidth\":0,\"ticks\":\"\"}}}],\"scatterternary\":[{\"type\":\"scatterternary\",\"marker\":{\"colorbar\":{\"outlinewidth\":0,\"ticks\":\"\"}}}],\"scattercarpet\":[{\"type\":\"scattercarpet\",\"marker\":{\"colorbar\":{\"outlinewidth\":0,\"ticks\":\"\"}}}],\"carpet\":[{\"aaxis\":{\"endlinecolor\":\"#2a3f5f\",\"gridcolor\":\"white\",\"linecolor\":\"white\",\"minorgridcolor\":\"white\",\"startlinecolor\":\"#2a3f5f\"},\"baxis\":{\"endlinecolor\":\"#2a3f5f\",\"gridcolor\":\"white\",\"linecolor\":\"white\",\"minorgridcolor\":\"white\",\"startlinecolor\":\"#2a3f5f\"},\"type\":\"carpet\"}],\"table\":[{\"cells\":{\"fill\":{\"color\":\"#EBF0F8\"},\"line\":{\"color\":\"white\"}},\"header\":{\"fill\":{\"color\":\"#C8D4E3\"},\"line\":{\"color\":\"white\"}},\"type\":\"table\"}],\"barpolar\":[{\"marker\":{\"line\":{\"color\":\"#E5ECF6\",\"width\":0.5},\"pattern\":{\"fillmode\":\"overlay\",\"size\":10,\"solidity\":0.2}},\"type\":\"barpolar\"}],\"pie\":[{\"automargin\":true,\"type\":\"pie\"}]},\"layout\":{\"autotypenumbers\":\"strict\",\"colorway\":[\"#636efa\",\"#EF553B\",\"#00cc96\",\"#ab63fa\",\"#FFA15A\",\"#19d3f3\",\"#FF6692\",\"#B6E880\",\"#FF97FF\",\"#FECB52\"],\"font\":{\"color\":\"#2a3f5f\"},\"hovermode\":\"closest\",\"hoverlabel\":{\"align\":\"left\"},\"paper_bgcolor\":\"white\",\"plot_bgcolor\":\"#E5ECF6\",\"polar\":{\"bgcolor\":\"#E5ECF6\",\"angularaxis\":{\"gridcolor\":\"white\",\"linecolor\":\"white\",\"ticks\":\"\"},\"radialaxis\":{\"gridcolor\":\"white\",\"linecolor\":\"white\",\"ticks\":\"\"}},\"ternary\":{\"bgcolor\":\"#E5ECF6\",\"aaxis\":{\"gridcolor\":\"white\",\"linecolor\":\"white\",\"ticks\":\"\"},\"baxis\":{\"gridcolor\":\"white\",\"linecolor\":\"white\",\"ticks\":\"\"},\"caxis\":{\"gridcolor\":\"white\",\"linecolor\":\"white\",\"ticks\":\"\"}},\"coloraxis\":{\"colorbar\":{\"outlinewidth\":0,\"ticks\":\"\"}},\"colorscale\":{\"sequential\":[[0.0,\"#0d0887\"],[0.1111111111111111,\"#46039f\"],[0.2222222222222222,\"#7201a8\"],[0.3333333333333333,\"#9c179e\"],[0.4444444444444444,\"#bd3786\"],[0.5555555555555556,\"#d8576b\"],[0.6666666666666666,\"#ed7953\"],[0.7777777777777778,\"#fb9f3a\"],[0.8888888888888888,\"#fdca26\"],[1.0,\"#f0f921\"]],\"sequentialminus\":[[0.0,\"#0d0887\"],[0.1111111111111111,\"#46039f\"],[0.2222222222222222,\"#7201a8\"],[0.3333333333333333,\"#9c179e\"],[0.4444444444444444,\"#bd3786\"],[0.5555555555555556,\"#d8576b\"],[0.6666666666666666,\"#ed7953\"],[0.7777777777777778,\"#fb9f3a\"],[0.8888888888888888,\"#fdca26\"],[1.0,\"#f0f921\"]],\"diverging\":[[0,\"#8e0152\"],[0.1,\"#c51b7d\"],[0.2,\"#de77ae\"],[0.3,\"#f1b6da\"],[0.4,\"#fde0ef\"],[0.5,\"#f7f7f7\"],[0.6,\"#e6f5d0\"],[0.7,\"#b8e186\"],[0.8,\"#7fbc41\"],[0.9,\"#4d9221\"],[1,\"#276419\"]]},\"xaxis\":{\"gridcolor\":\"white\",\"linecolor\":\"white\",\"ticks\":\"\",\"title\":{\"standoff\":15},\"zerolinecolor\":\"white\",\"automargin\":true,\"zerolinewidth\":2},\"yaxis\":{\"gridcolor\":\"white\",\"linecolor\":\"white\",\"ticks\":\"\",\"title\":{\"standoff\":15},\"zerolinecolor\":\"white\",\"automargin\":true,\"zerolinewidth\":2},\"scene\":{\"xaxis\":{\"backgroundcolor\":\"#E5ECF6\",\"gridcolor\":\"white\",\"linecolor\":\"white\",\"showbackground\":true,\"ticks\":\"\",\"zerolinecolor\":\"white\",\"gridwidth\":2},\"yaxis\":{\"backgroundcolor\":\"#E5ECF6\",\"gridcolor\":\"white\",\"linecolor\":\"white\",\"showbackground\":true,\"ticks\":\"\",\"zerolinecolor\":\"white\",\"gridwidth\":2},\"zaxis\":{\"backgroundcolor\":\"#E5ECF6\",\"gridcolor\":\"white\",\"linecolor\":\"white\",\"showbackground\":true,\"ticks\":\"\",\"zerolinecolor\":\"white\",\"gridwidth\":2}},\"shapedefaults\":{\"line\":{\"color\":\"#2a3f5f\"}},\"annotationdefaults\":{\"arrowcolor\":\"#2a3f5f\",\"arrowhead\":0,\"arrowwidth\":1},\"geo\":{\"bgcolor\":\"white\",\"landcolor\":\"#E5ECF6\",\"subunitcolor\":\"white\",\"showland\":true,\"showlakes\":true,\"lakecolor\":\"white\"},\"title\":{\"x\":0.05},\"mapbox\":{\"style\":\"light\"}}},\"xaxis\":{\"anchor\":\"y\",\"domain\":[0.0,1.0],\"title\":{\"text\":\"register\"}},\"yaxis\":{\"anchor\":\"x\",\"domain\":[0.0,1.0],\"title\":{\"text\":\"acc_norm\"}},\"legend\":{\"title\":{\"text\":\"step\"},\"tracegroupgap\":0},\"margin\":{\"t\":60},\"barmode\":\"group\",\"title\":{\"text\":\"Average accuracy by Register\"},\"height\":500,\"width\":1300,\"showlegend\":true},                        {\"responsive\": true}                    ).then(function(){\n",
       "                            \n",
       "var gd = document.getElementById('17ff006c-f3ce-4858-b53e-54c07d98305c');\n",
       "var x = new MutationObserver(function (mutations, observer) {{\n",
       "        var display = window.getComputedStyle(gd).display;\n",
       "        if (!display || display === 'none') {{\n",
       "            console.log([gd, 'removed!']);\n",
       "            Plotly.purge(gd);\n",
       "            observer.disconnect();\n",
       "        }}\n",
       "}});\n",
       "\n",
       "// Listen for the removal of the full notebook cells\n",
       "var notebookContainer = gd.closest('#notebook-container');\n",
       "if (notebookContainer) {{\n",
       "    x.observe(notebookContainer, {childList: true});\n",
       "}}\n",
       "\n",
       "// Listen for the clearing of the current output cell\n",
       "var outputEl = gd.closest('.output');\n",
       "if (outputEl) {{\n",
       "    x.observe(outputEl, {childList: true});\n",
       "}}\n",
       "\n",
       "                        })                };                });            </script>        </div>"
      ]
     },
     "metadata": {},
     "output_type": "display_data"
    }
   ],
   "source": [
    "filter_ = df[\"step\"].isin([\"3000\",\"7000\",\"10000\",\"14000\"])\n",
    "fig = px.bar(df[filter_], x=\"register\", y=\"acc_norm\", error_y=\"acc_norm_stderr\", barmode='group', color=\"step\")\n",
    "fig.update_layout(\n",
    "    title=\"Average accuracy by Register\",\n",
    "    height=500,  # Adjust the height of the plot\n",
    "    width=1300,\n",
    "    showlegend=True,  # Show legend\n",
    ")\n",
    "fig.show()\n"
   ]
  },
  {
   "cell_type": "code",
   "execution_count": 176,
   "metadata": {},
   "outputs": [
    {
     "data": {
      "application/vnd.plotly.v1+json": {
       "config": {
        "plotlyServerURL": "https://plot.ly"
       },
       "data": [
        {
         "hovertemplate": "register=IP<br>tokens=%{x}<br>acc_norm=%{y}<extra></extra>",
         "legendgroup": "IP",
         "line": {
          "color": "#636efa",
          "dash": "solid"
         },
         "marker": {
          "symbol": "circle"
         },
         "mode": "lines",
         "name": "IP",
         "orientation": "v",
         "showlegend": true,
         "type": "scatter",
         "x": [
          "2B",
          "4B",
          "6B",
          "8B",
          "10B",
          "13B",
          "15B",
          "17B",
          "19B",
          "21B",
          "23B",
          "25B",
          "27B",
          "29B"
         ],
         "xaxis": "x",
         "y": [
          0.3223482148702929,
          0.32857755739881134,
          0.3255654853019858,
          0.33491003460278057,
          0.33148463326288635,
          0.33541261745951184,
          0.3411363331858931,
          0.3412324498331877,
          0.344047267907341,
          0.3444876574966551,
          0.34364041451359423,
          0.33988991454052087,
          0.34394108272274904,
          0.3456659835781309
         ],
         "yaxis": "y"
        },
        {
         "hovertemplate": "register=HI<br>tokens=%{x}<br>acc_norm=%{y}<extra></extra>",
         "legendgroup": "HI",
         "line": {
          "color": "#EF553B",
          "dash": "solid"
         },
         "marker": {
          "symbol": "circle"
         },
         "mode": "lines",
         "name": "HI",
         "orientation": "v",
         "showlegend": true,
         "type": "scatter",
         "x": [
          "2B",
          "4B",
          "6B",
          "8B",
          "10B",
          "13B",
          "15B",
          "17B",
          "19B",
          "21B",
          "23B",
          "25B",
          "27B",
          "29B"
         ],
         "xaxis": "x",
         "y": [
          0.3381670612615162,
          0.3515792796258214,
          0.3650912475093716,
          0.3661800939262726,
          0.36909736957699335,
          0.3755435815548398,
          0.37281335688080697,
          0.37969984710745464,
          0.3796647080304437,
          0.3785370653593695,
          0.3824844863635324,
          0.38585015612568796,
          0.3885682580737867,
          0.38837456001511794
         ],
         "yaxis": "y"
        },
        {
         "hovertemplate": "register=NA<br>tokens=%{x}<br>acc_norm=%{y}<extra></extra>",
         "legendgroup": "NA",
         "line": {
          "color": "#00cc96",
          "dash": "solid"
         },
         "marker": {
          "symbol": "circle"
         },
         "mode": "lines",
         "name": "NA",
         "orientation": "v",
         "showlegend": true,
         "type": "scatter",
         "x": [
          "2B",
          "4B",
          "6B",
          "8B",
          "10B",
          "13B",
          "15B",
          "17B",
          "19B",
          "21B",
          "23B",
          "25B",
          "27B",
          "29B"
         ],
         "xaxis": "x",
         "y": [
          0.32813698929746055,
          0.3258267743961456,
          0.32822171425120983,
          0.3325998098298676,
          0.33205224493635455,
          0.33889215408111684,
          0.3403144335377022,
          0.34121903095551975,
          0.3401118152115898,
          0.33835738522113945,
          0.3407911411321305,
          0.3404228180203577,
          0.34981248417090144,
          0.34324592343552646
         ],
         "yaxis": "y"
        },
        {
         "hovertemplate": "register=dtp<br>tokens=%{x}<br>acc_norm=%{y}<extra></extra>",
         "legendgroup": "dtp",
         "line": {
          "color": "#ab63fa",
          "dash": "solid"
         },
         "marker": {
          "symbol": "circle"
         },
         "mode": "lines",
         "name": "dtp",
         "orientation": "v",
         "showlegend": true,
         "type": "scatter",
         "x": [
          "2B",
          "4B",
          "6B",
          "8B",
          "10B",
          "13B",
          "15B",
          "17B",
          "19B",
          "21B",
          "23B",
          "25B",
          "27B",
          "29B"
         ],
         "xaxis": "x",
         "y": [
          0.3269319462478983,
          0.3310953278240819,
          0.34938728142098485,
          0.3451139602133101,
          0.3436566797520195,
          0.35007127485141065,
          0.35418869394560515,
          0.3545768511315211,
          0.35672336195872756,
          0.3556621653746527,
          0.3599453834756036,
          0.35830166505868377,
          0.36485690096775686,
          0.360549925598243
         ],
         "yaxis": "y"
        },
        {
         "hovertemplate": "register=ne<br>tokens=%{x}<br>acc_norm=%{y}<extra></extra>",
         "legendgroup": "ne",
         "line": {
          "color": "#FFA15A",
          "dash": "solid"
         },
         "marker": {
          "symbol": "circle"
         },
         "mode": "lines",
         "name": "ne",
         "orientation": "v",
         "showlegend": true,
         "type": "scatter",
         "x": [
          "2B",
          "4B",
          "6B",
          "8B",
          "10B",
          "13B",
          "15B",
          "17B",
          "19B",
          "21B",
          "23B",
          "25B",
          "27B",
          "29B"
         ],
         "xaxis": "x",
         "y": [
          0.32654494073984863,
          0.3230767220630307,
          0.32693300705758954,
          0.3277490644084125,
          0.3325192272815277,
          0.3321014294678901,
          0.3330691461498487,
          0.3380224600804881,
          0.3327708249854628,
          0.33801177873629584,
          0.3416366936384104,
          0.3384408703381827,
          0.34210052752062203,
          0.3413775999158575
         ],
         "yaxis": "y"
        },
        {
         "hovertemplate": "register=OP<br>tokens=%{x}<br>acc_norm=%{y}<extra></extra>",
         "legendgroup": "OP",
         "line": {
          "color": "#19d3f3",
          "dash": "solid"
         },
         "marker": {
          "symbol": "circle"
         },
         "mode": "lines",
         "name": "OP",
         "orientation": "v",
         "showlegend": true,
         "type": "scatter",
         "x": [
          "2B",
          "4B",
          "6B",
          "8B",
          "10B",
          "13B",
          "15B",
          "17B",
          "19B",
          "21B",
          "23B",
          "25B",
          "27B",
          "29B"
         ],
         "xaxis": "x",
         "y": [
          0.31945738365172427,
          0.3315507901193958,
          0.3298107022139187,
          0.3327791964167543,
          0.33831830273659297,
          0.33857688485191056,
          0.3410323335463682,
          0.3446084007313708,
          0.34498784982371183,
          0.3472816820973313,
          0.3464973998202687,
          0.35143546289570937,
          0.3547464556221815,
          0.35378229842278675
         ],
         "yaxis": "y"
        },
        {
         "hovertemplate": "register=IN<br>tokens=%{x}<br>acc_norm=%{y}<extra></extra>",
         "legendgroup": "IN",
         "line": {
          "color": "#FF6692",
          "dash": "solid"
         },
         "marker": {
          "symbol": "circle"
         },
         "mode": "lines",
         "name": "IN",
         "orientation": "v",
         "showlegend": true,
         "type": "scatter",
         "x": [
          "2B",
          "4B",
          "6B",
          "8B",
          "10B",
          "13B",
          "15B",
          "17B",
          "19B",
          "21B",
          "23B",
          "25B",
          "27B",
          "29B"
         ],
         "xaxis": "x",
         "y": [
          0.32685782594455803,
          0.33977846916214816,
          0.34309729476671996,
          0.3419185650035772,
          0.3394220131456281,
          0.34868826616942383,
          0.35246811359630714,
          0.35424573162691375,
          0.3537566050389407,
          0.35479288601580256,
          0.3586006794980644,
          0.36568384522438113,
          0.36123896007348344,
          0.362771162664203
         ],
         "yaxis": "y"
        },
        {
         "hovertemplate": "register=ID<br>tokens=%{x}<br>acc_norm=%{y}<extra></extra>",
         "legendgroup": "ID",
         "line": {
          "color": "#B6E880",
          "dash": "solid"
         },
         "marker": {
          "symbol": "circle"
         },
         "mode": "lines",
         "name": "ID",
         "orientation": "v",
         "showlegend": true,
         "type": "scatter",
         "x": [
          "2B",
          "4B",
          "6B",
          "8B",
          "10B",
          "13B",
          "15B",
          "17B",
          "19B",
          "21B",
          "23B",
          "25B",
          "27B",
          "29B"
         ],
         "xaxis": "x",
         "y": [
          0.323238493993371,
          0.32086274209306176,
          0.33073516380409257,
          0.33583535205963044,
          0.33759672911543137,
          0.33762296824173044,
          0.3442283150869593,
          0.3382032376172065,
          0.34167549008978204,
          0.346112781693103,
          0.3463222296467716,
          0.3423617530969934,
          0.3523767954940824,
          0.3487659361287882
         ],
         "yaxis": "y"
        }
       ],
       "layout": {
        "height": 600,
        "legend": {
         "title": {
          "text": "register"
         },
         "tracegroupgap": 0
        },
        "margin": {
         "t": 60
        },
        "showlegend": true,
        "template": {
         "data": {
          "bar": [
           {
            "error_x": {
             "color": "#2a3f5f"
            },
            "error_y": {
             "color": "#2a3f5f"
            },
            "marker": {
             "line": {
              "color": "#E5ECF6",
              "width": 0.5
             },
             "pattern": {
              "fillmode": "overlay",
              "size": 10,
              "solidity": 0.2
             }
            },
            "type": "bar"
           }
          ],
          "barpolar": [
           {
            "marker": {
             "line": {
              "color": "#E5ECF6",
              "width": 0.5
             },
             "pattern": {
              "fillmode": "overlay",
              "size": 10,
              "solidity": 0.2
             }
            },
            "type": "barpolar"
           }
          ],
          "carpet": [
           {
            "aaxis": {
             "endlinecolor": "#2a3f5f",
             "gridcolor": "white",
             "linecolor": "white",
             "minorgridcolor": "white",
             "startlinecolor": "#2a3f5f"
            },
            "baxis": {
             "endlinecolor": "#2a3f5f",
             "gridcolor": "white",
             "linecolor": "white",
             "minorgridcolor": "white",
             "startlinecolor": "#2a3f5f"
            },
            "type": "carpet"
           }
          ],
          "choropleth": [
           {
            "colorbar": {
             "outlinewidth": 0,
             "ticks": ""
            },
            "type": "choropleth"
           }
          ],
          "contour": [
           {
            "colorbar": {
             "outlinewidth": 0,
             "ticks": ""
            },
            "colorscale": [
             [
              0,
              "#0d0887"
             ],
             [
              0.1111111111111111,
              "#46039f"
             ],
             [
              0.2222222222222222,
              "#7201a8"
             ],
             [
              0.3333333333333333,
              "#9c179e"
             ],
             [
              0.4444444444444444,
              "#bd3786"
             ],
             [
              0.5555555555555556,
              "#d8576b"
             ],
             [
              0.6666666666666666,
              "#ed7953"
             ],
             [
              0.7777777777777778,
              "#fb9f3a"
             ],
             [
              0.8888888888888888,
              "#fdca26"
             ],
             [
              1,
              "#f0f921"
             ]
            ],
            "type": "contour"
           }
          ],
          "contourcarpet": [
           {
            "colorbar": {
             "outlinewidth": 0,
             "ticks": ""
            },
            "type": "contourcarpet"
           }
          ],
          "heatmap": [
           {
            "colorbar": {
             "outlinewidth": 0,
             "ticks": ""
            },
            "colorscale": [
             [
              0,
              "#0d0887"
             ],
             [
              0.1111111111111111,
              "#46039f"
             ],
             [
              0.2222222222222222,
              "#7201a8"
             ],
             [
              0.3333333333333333,
              "#9c179e"
             ],
             [
              0.4444444444444444,
              "#bd3786"
             ],
             [
              0.5555555555555556,
              "#d8576b"
             ],
             [
              0.6666666666666666,
              "#ed7953"
             ],
             [
              0.7777777777777778,
              "#fb9f3a"
             ],
             [
              0.8888888888888888,
              "#fdca26"
             ],
             [
              1,
              "#f0f921"
             ]
            ],
            "type": "heatmap"
           }
          ],
          "heatmapgl": [
           {
            "colorbar": {
             "outlinewidth": 0,
             "ticks": ""
            },
            "colorscale": [
             [
              0,
              "#0d0887"
             ],
             [
              0.1111111111111111,
              "#46039f"
             ],
             [
              0.2222222222222222,
              "#7201a8"
             ],
             [
              0.3333333333333333,
              "#9c179e"
             ],
             [
              0.4444444444444444,
              "#bd3786"
             ],
             [
              0.5555555555555556,
              "#d8576b"
             ],
             [
              0.6666666666666666,
              "#ed7953"
             ],
             [
              0.7777777777777778,
              "#fb9f3a"
             ],
             [
              0.8888888888888888,
              "#fdca26"
             ],
             [
              1,
              "#f0f921"
             ]
            ],
            "type": "heatmapgl"
           }
          ],
          "histogram": [
           {
            "marker": {
             "pattern": {
              "fillmode": "overlay",
              "size": 10,
              "solidity": 0.2
             }
            },
            "type": "histogram"
           }
          ],
          "histogram2d": [
           {
            "colorbar": {
             "outlinewidth": 0,
             "ticks": ""
            },
            "colorscale": [
             [
              0,
              "#0d0887"
             ],
             [
              0.1111111111111111,
              "#46039f"
             ],
             [
              0.2222222222222222,
              "#7201a8"
             ],
             [
              0.3333333333333333,
              "#9c179e"
             ],
             [
              0.4444444444444444,
              "#bd3786"
             ],
             [
              0.5555555555555556,
              "#d8576b"
             ],
             [
              0.6666666666666666,
              "#ed7953"
             ],
             [
              0.7777777777777778,
              "#fb9f3a"
             ],
             [
              0.8888888888888888,
              "#fdca26"
             ],
             [
              1,
              "#f0f921"
             ]
            ],
            "type": "histogram2d"
           }
          ],
          "histogram2dcontour": [
           {
            "colorbar": {
             "outlinewidth": 0,
             "ticks": ""
            },
            "colorscale": [
             [
              0,
              "#0d0887"
             ],
             [
              0.1111111111111111,
              "#46039f"
             ],
             [
              0.2222222222222222,
              "#7201a8"
             ],
             [
              0.3333333333333333,
              "#9c179e"
             ],
             [
              0.4444444444444444,
              "#bd3786"
             ],
             [
              0.5555555555555556,
              "#d8576b"
             ],
             [
              0.6666666666666666,
              "#ed7953"
             ],
             [
              0.7777777777777778,
              "#fb9f3a"
             ],
             [
              0.8888888888888888,
              "#fdca26"
             ],
             [
              1,
              "#f0f921"
             ]
            ],
            "type": "histogram2dcontour"
           }
          ],
          "mesh3d": [
           {
            "colorbar": {
             "outlinewidth": 0,
             "ticks": ""
            },
            "type": "mesh3d"
           }
          ],
          "parcoords": [
           {
            "line": {
             "colorbar": {
              "outlinewidth": 0,
              "ticks": ""
             }
            },
            "type": "parcoords"
           }
          ],
          "pie": [
           {
            "automargin": true,
            "type": "pie"
           }
          ],
          "scatter": [
           {
            "fillpattern": {
             "fillmode": "overlay",
             "size": 10,
             "solidity": 0.2
            },
            "type": "scatter"
           }
          ],
          "scatter3d": [
           {
            "line": {
             "colorbar": {
              "outlinewidth": 0,
              "ticks": ""
             }
            },
            "marker": {
             "colorbar": {
              "outlinewidth": 0,
              "ticks": ""
             }
            },
            "type": "scatter3d"
           }
          ],
          "scattercarpet": [
           {
            "marker": {
             "colorbar": {
              "outlinewidth": 0,
              "ticks": ""
             }
            },
            "type": "scattercarpet"
           }
          ],
          "scattergeo": [
           {
            "marker": {
             "colorbar": {
              "outlinewidth": 0,
              "ticks": ""
             }
            },
            "type": "scattergeo"
           }
          ],
          "scattergl": [
           {
            "marker": {
             "colorbar": {
              "outlinewidth": 0,
              "ticks": ""
             }
            },
            "type": "scattergl"
           }
          ],
          "scattermapbox": [
           {
            "marker": {
             "colorbar": {
              "outlinewidth": 0,
              "ticks": ""
             }
            },
            "type": "scattermapbox"
           }
          ],
          "scatterpolar": [
           {
            "marker": {
             "colorbar": {
              "outlinewidth": 0,
              "ticks": ""
             }
            },
            "type": "scatterpolar"
           }
          ],
          "scatterpolargl": [
           {
            "marker": {
             "colorbar": {
              "outlinewidth": 0,
              "ticks": ""
             }
            },
            "type": "scatterpolargl"
           }
          ],
          "scatterternary": [
           {
            "marker": {
             "colorbar": {
              "outlinewidth": 0,
              "ticks": ""
             }
            },
            "type": "scatterternary"
           }
          ],
          "surface": [
           {
            "colorbar": {
             "outlinewidth": 0,
             "ticks": ""
            },
            "colorscale": [
             [
              0,
              "#0d0887"
             ],
             [
              0.1111111111111111,
              "#46039f"
             ],
             [
              0.2222222222222222,
              "#7201a8"
             ],
             [
              0.3333333333333333,
              "#9c179e"
             ],
             [
              0.4444444444444444,
              "#bd3786"
             ],
             [
              0.5555555555555556,
              "#d8576b"
             ],
             [
              0.6666666666666666,
              "#ed7953"
             ],
             [
              0.7777777777777778,
              "#fb9f3a"
             ],
             [
              0.8888888888888888,
              "#fdca26"
             ],
             [
              1,
              "#f0f921"
             ]
            ],
            "type": "surface"
           }
          ],
          "table": [
           {
            "cells": {
             "fill": {
              "color": "#EBF0F8"
             },
             "line": {
              "color": "white"
             }
            },
            "header": {
             "fill": {
              "color": "#C8D4E3"
             },
             "line": {
              "color": "white"
             }
            },
            "type": "table"
           }
          ]
         },
         "layout": {
          "annotationdefaults": {
           "arrowcolor": "#2a3f5f",
           "arrowhead": 0,
           "arrowwidth": 1
          },
          "autotypenumbers": "strict",
          "coloraxis": {
           "colorbar": {
            "outlinewidth": 0,
            "ticks": ""
           }
          },
          "colorscale": {
           "diverging": [
            [
             0,
             "#8e0152"
            ],
            [
             0.1,
             "#c51b7d"
            ],
            [
             0.2,
             "#de77ae"
            ],
            [
             0.3,
             "#f1b6da"
            ],
            [
             0.4,
             "#fde0ef"
            ],
            [
             0.5,
             "#f7f7f7"
            ],
            [
             0.6,
             "#e6f5d0"
            ],
            [
             0.7,
             "#b8e186"
            ],
            [
             0.8,
             "#7fbc41"
            ],
            [
             0.9,
             "#4d9221"
            ],
            [
             1,
             "#276419"
            ]
           ],
           "sequential": [
            [
             0,
             "#0d0887"
            ],
            [
             0.1111111111111111,
             "#46039f"
            ],
            [
             0.2222222222222222,
             "#7201a8"
            ],
            [
             0.3333333333333333,
             "#9c179e"
            ],
            [
             0.4444444444444444,
             "#bd3786"
            ],
            [
             0.5555555555555556,
             "#d8576b"
            ],
            [
             0.6666666666666666,
             "#ed7953"
            ],
            [
             0.7777777777777778,
             "#fb9f3a"
            ],
            [
             0.8888888888888888,
             "#fdca26"
            ],
            [
             1,
             "#f0f921"
            ]
           ],
           "sequentialminus": [
            [
             0,
             "#0d0887"
            ],
            [
             0.1111111111111111,
             "#46039f"
            ],
            [
             0.2222222222222222,
             "#7201a8"
            ],
            [
             0.3333333333333333,
             "#9c179e"
            ],
            [
             0.4444444444444444,
             "#bd3786"
            ],
            [
             0.5555555555555556,
             "#d8576b"
            ],
            [
             0.6666666666666666,
             "#ed7953"
            ],
            [
             0.7777777777777778,
             "#fb9f3a"
            ],
            [
             0.8888888888888888,
             "#fdca26"
            ],
            [
             1,
             "#f0f921"
            ]
           ]
          },
          "colorway": [
           "#636efa",
           "#EF553B",
           "#00cc96",
           "#ab63fa",
           "#FFA15A",
           "#19d3f3",
           "#FF6692",
           "#B6E880",
           "#FF97FF",
           "#FECB52"
          ],
          "font": {
           "color": "#2a3f5f"
          },
          "geo": {
           "bgcolor": "white",
           "lakecolor": "white",
           "landcolor": "#E5ECF6",
           "showlakes": true,
           "showland": true,
           "subunitcolor": "white"
          },
          "hoverlabel": {
           "align": "left"
          },
          "hovermode": "closest",
          "mapbox": {
           "style": "light"
          },
          "paper_bgcolor": "white",
          "plot_bgcolor": "#E5ECF6",
          "polar": {
           "angularaxis": {
            "gridcolor": "white",
            "linecolor": "white",
            "ticks": ""
           },
           "bgcolor": "#E5ECF6",
           "radialaxis": {
            "gridcolor": "white",
            "linecolor": "white",
            "ticks": ""
           }
          },
          "scene": {
           "xaxis": {
            "backgroundcolor": "#E5ECF6",
            "gridcolor": "white",
            "gridwidth": 2,
            "linecolor": "white",
            "showbackground": true,
            "ticks": "",
            "zerolinecolor": "white"
           },
           "yaxis": {
            "backgroundcolor": "#E5ECF6",
            "gridcolor": "white",
            "gridwidth": 2,
            "linecolor": "white",
            "showbackground": true,
            "ticks": "",
            "zerolinecolor": "white"
           },
           "zaxis": {
            "backgroundcolor": "#E5ECF6",
            "gridcolor": "white",
            "gridwidth": 2,
            "linecolor": "white",
            "showbackground": true,
            "ticks": "",
            "zerolinecolor": "white"
           }
          },
          "shapedefaults": {
           "line": {
            "color": "#2a3f5f"
           }
          },
          "ternary": {
           "aaxis": {
            "gridcolor": "white",
            "linecolor": "white",
            "ticks": ""
           },
           "baxis": {
            "gridcolor": "white",
            "linecolor": "white",
            "ticks": ""
           },
           "bgcolor": "#E5ECF6",
           "caxis": {
            "gridcolor": "white",
            "linecolor": "white",
            "ticks": ""
           }
          },
          "title": {
           "x": 0.05
          },
          "xaxis": {
           "automargin": true,
           "gridcolor": "white",
           "linecolor": "white",
           "ticks": "",
           "title": {
            "standoff": 15
           },
           "zerolinecolor": "white",
           "zerolinewidth": 2
          },
          "yaxis": {
           "automargin": true,
           "gridcolor": "white",
           "linecolor": "white",
           "ticks": "",
           "title": {
            "standoff": 15
           },
           "zerolinecolor": "white",
           "zerolinewidth": 2
          }
         }
        },
        "title": {
         "text": "Average accuracy by Register"
        },
        "width": 1100,
        "xaxis": {
         "anchor": "y",
         "domain": [
          0,
          1
         ],
         "title": {
          "text": "tokens"
         }
        },
        "yaxis": {
         "anchor": "x",
         "domain": [
          0,
          1
         ],
         "title": {
          "text": "acc_norm"
         }
        }
       }
      },
      "text/html": [
       "<div>                            <div id=\"cca09261-8a06-4bd8-919a-89e559c479a0\" class=\"plotly-graph-div\" style=\"height:600px; width:1100px;\"></div>            <script type=\"text/javascript\">                require([\"plotly\"], function(Plotly) {                    window.PLOTLYENV=window.PLOTLYENV || {};                                    if (document.getElementById(\"cca09261-8a06-4bd8-919a-89e559c479a0\")) {                    Plotly.newPlot(                        \"cca09261-8a06-4bd8-919a-89e559c479a0\",                        [{\"hovertemplate\":\"register=IP\\u003cbr\\u003etokens=%{x}\\u003cbr\\u003eacc_norm=%{y}\\u003cextra\\u003e\\u003c\\u002fextra\\u003e\",\"legendgroup\":\"IP\",\"line\":{\"color\":\"#636efa\",\"dash\":\"solid\"},\"marker\":{\"symbol\":\"circle\"},\"mode\":\"lines\",\"name\":\"IP\",\"orientation\":\"v\",\"showlegend\":true,\"x\":[\"2B\",\"4B\",\"6B\",\"8B\",\"10B\",\"13B\",\"15B\",\"17B\",\"19B\",\"21B\",\"23B\",\"25B\",\"27B\",\"29B\"],\"xaxis\":\"x\",\"y\":[0.3223482148702929,0.32857755739881134,0.3255654853019858,0.33491003460278057,0.33148463326288635,0.33541261745951184,0.3411363331858931,0.3412324498331877,0.344047267907341,0.3444876574966551,0.34364041451359423,0.33988991454052087,0.34394108272274904,0.3456659835781309],\"yaxis\":\"y\",\"type\":\"scatter\"},{\"hovertemplate\":\"register=HI\\u003cbr\\u003etokens=%{x}\\u003cbr\\u003eacc_norm=%{y}\\u003cextra\\u003e\\u003c\\u002fextra\\u003e\",\"legendgroup\":\"HI\",\"line\":{\"color\":\"#EF553B\",\"dash\":\"solid\"},\"marker\":{\"symbol\":\"circle\"},\"mode\":\"lines\",\"name\":\"HI\",\"orientation\":\"v\",\"showlegend\":true,\"x\":[\"2B\",\"4B\",\"6B\",\"8B\",\"10B\",\"13B\",\"15B\",\"17B\",\"19B\",\"21B\",\"23B\",\"25B\",\"27B\",\"29B\"],\"xaxis\":\"x\",\"y\":[0.3381670612615162,0.3515792796258214,0.3650912475093716,0.3661800939262726,0.36909736957699335,0.3755435815548398,0.37281335688080697,0.37969984710745464,0.3796647080304437,0.3785370653593695,0.3824844863635324,0.38585015612568796,0.3885682580737867,0.38837456001511794],\"yaxis\":\"y\",\"type\":\"scatter\"},{\"hovertemplate\":\"register=NA\\u003cbr\\u003etokens=%{x}\\u003cbr\\u003eacc_norm=%{y}\\u003cextra\\u003e\\u003c\\u002fextra\\u003e\",\"legendgroup\":\"NA\",\"line\":{\"color\":\"#00cc96\",\"dash\":\"solid\"},\"marker\":{\"symbol\":\"circle\"},\"mode\":\"lines\",\"name\":\"NA\",\"orientation\":\"v\",\"showlegend\":true,\"x\":[\"2B\",\"4B\",\"6B\",\"8B\",\"10B\",\"13B\",\"15B\",\"17B\",\"19B\",\"21B\",\"23B\",\"25B\",\"27B\",\"29B\"],\"xaxis\":\"x\",\"y\":[0.32813698929746055,0.3258267743961456,0.32822171425120983,0.3325998098298676,0.33205224493635455,0.33889215408111684,0.3403144335377022,0.34121903095551975,0.3401118152115898,0.33835738522113945,0.3407911411321305,0.3404228180203577,0.34981248417090144,0.34324592343552646],\"yaxis\":\"y\",\"type\":\"scatter\"},{\"hovertemplate\":\"register=dtp\\u003cbr\\u003etokens=%{x}\\u003cbr\\u003eacc_norm=%{y}\\u003cextra\\u003e\\u003c\\u002fextra\\u003e\",\"legendgroup\":\"dtp\",\"line\":{\"color\":\"#ab63fa\",\"dash\":\"solid\"},\"marker\":{\"symbol\":\"circle\"},\"mode\":\"lines\",\"name\":\"dtp\",\"orientation\":\"v\",\"showlegend\":true,\"x\":[\"2B\",\"4B\",\"6B\",\"8B\",\"10B\",\"13B\",\"15B\",\"17B\",\"19B\",\"21B\",\"23B\",\"25B\",\"27B\",\"29B\"],\"xaxis\":\"x\",\"y\":[0.3269319462478983,0.3310953278240819,0.34938728142098485,0.3451139602133101,0.3436566797520195,0.35007127485141065,0.35418869394560515,0.3545768511315211,0.35672336195872756,0.3556621653746527,0.3599453834756036,0.35830166505868377,0.36485690096775686,0.360549925598243],\"yaxis\":\"y\",\"type\":\"scatter\"},{\"hovertemplate\":\"register=ne\\u003cbr\\u003etokens=%{x}\\u003cbr\\u003eacc_norm=%{y}\\u003cextra\\u003e\\u003c\\u002fextra\\u003e\",\"legendgroup\":\"ne\",\"line\":{\"color\":\"#FFA15A\",\"dash\":\"solid\"},\"marker\":{\"symbol\":\"circle\"},\"mode\":\"lines\",\"name\":\"ne\",\"orientation\":\"v\",\"showlegend\":true,\"x\":[\"2B\",\"4B\",\"6B\",\"8B\",\"10B\",\"13B\",\"15B\",\"17B\",\"19B\",\"21B\",\"23B\",\"25B\",\"27B\",\"29B\"],\"xaxis\":\"x\",\"y\":[0.32654494073984863,0.3230767220630307,0.32693300705758954,0.3277490644084125,0.3325192272815277,0.3321014294678901,0.3330691461498487,0.3380224600804881,0.3327708249854628,0.33801177873629584,0.3416366936384104,0.3384408703381827,0.34210052752062203,0.3413775999158575],\"yaxis\":\"y\",\"type\":\"scatter\"},{\"hovertemplate\":\"register=OP\\u003cbr\\u003etokens=%{x}\\u003cbr\\u003eacc_norm=%{y}\\u003cextra\\u003e\\u003c\\u002fextra\\u003e\",\"legendgroup\":\"OP\",\"line\":{\"color\":\"#19d3f3\",\"dash\":\"solid\"},\"marker\":{\"symbol\":\"circle\"},\"mode\":\"lines\",\"name\":\"OP\",\"orientation\":\"v\",\"showlegend\":true,\"x\":[\"2B\",\"4B\",\"6B\",\"8B\",\"10B\",\"13B\",\"15B\",\"17B\",\"19B\",\"21B\",\"23B\",\"25B\",\"27B\",\"29B\"],\"xaxis\":\"x\",\"y\":[0.31945738365172427,0.3315507901193958,0.3298107022139187,0.3327791964167543,0.33831830273659297,0.33857688485191056,0.3410323335463682,0.3446084007313708,0.34498784982371183,0.3472816820973313,0.3464973998202687,0.35143546289570937,0.3547464556221815,0.35378229842278675],\"yaxis\":\"y\",\"type\":\"scatter\"},{\"hovertemplate\":\"register=IN\\u003cbr\\u003etokens=%{x}\\u003cbr\\u003eacc_norm=%{y}\\u003cextra\\u003e\\u003c\\u002fextra\\u003e\",\"legendgroup\":\"IN\",\"line\":{\"color\":\"#FF6692\",\"dash\":\"solid\"},\"marker\":{\"symbol\":\"circle\"},\"mode\":\"lines\",\"name\":\"IN\",\"orientation\":\"v\",\"showlegend\":true,\"x\":[\"2B\",\"4B\",\"6B\",\"8B\",\"10B\",\"13B\",\"15B\",\"17B\",\"19B\",\"21B\",\"23B\",\"25B\",\"27B\",\"29B\"],\"xaxis\":\"x\",\"y\":[0.32685782594455803,0.33977846916214816,0.34309729476671996,0.3419185650035772,0.3394220131456281,0.34868826616942383,0.35246811359630714,0.35424573162691375,0.3537566050389407,0.35479288601580256,0.3586006794980644,0.36568384522438113,0.36123896007348344,0.362771162664203],\"yaxis\":\"y\",\"type\":\"scatter\"},{\"hovertemplate\":\"register=ID\\u003cbr\\u003etokens=%{x}\\u003cbr\\u003eacc_norm=%{y}\\u003cextra\\u003e\\u003c\\u002fextra\\u003e\",\"legendgroup\":\"ID\",\"line\":{\"color\":\"#B6E880\",\"dash\":\"solid\"},\"marker\":{\"symbol\":\"circle\"},\"mode\":\"lines\",\"name\":\"ID\",\"orientation\":\"v\",\"showlegend\":true,\"x\":[\"2B\",\"4B\",\"6B\",\"8B\",\"10B\",\"13B\",\"15B\",\"17B\",\"19B\",\"21B\",\"23B\",\"25B\",\"27B\",\"29B\"],\"xaxis\":\"x\",\"y\":[0.323238493993371,0.32086274209306176,0.33073516380409257,0.33583535205963044,0.33759672911543137,0.33762296824173044,0.3442283150869593,0.3382032376172065,0.34167549008978204,0.346112781693103,0.3463222296467716,0.3423617530969934,0.3523767954940824,0.3487659361287882],\"yaxis\":\"y\",\"type\":\"scatter\"}],                        {\"template\":{\"data\":{\"histogram2dcontour\":[{\"type\":\"histogram2dcontour\",\"colorbar\":{\"outlinewidth\":0,\"ticks\":\"\"},\"colorscale\":[[0.0,\"#0d0887\"],[0.1111111111111111,\"#46039f\"],[0.2222222222222222,\"#7201a8\"],[0.3333333333333333,\"#9c179e\"],[0.4444444444444444,\"#bd3786\"],[0.5555555555555556,\"#d8576b\"],[0.6666666666666666,\"#ed7953\"],[0.7777777777777778,\"#fb9f3a\"],[0.8888888888888888,\"#fdca26\"],[1.0,\"#f0f921\"]]}],\"choropleth\":[{\"type\":\"choropleth\",\"colorbar\":{\"outlinewidth\":0,\"ticks\":\"\"}}],\"histogram2d\":[{\"type\":\"histogram2d\",\"colorbar\":{\"outlinewidth\":0,\"ticks\":\"\"},\"colorscale\":[[0.0,\"#0d0887\"],[0.1111111111111111,\"#46039f\"],[0.2222222222222222,\"#7201a8\"],[0.3333333333333333,\"#9c179e\"],[0.4444444444444444,\"#bd3786\"],[0.5555555555555556,\"#d8576b\"],[0.6666666666666666,\"#ed7953\"],[0.7777777777777778,\"#fb9f3a\"],[0.8888888888888888,\"#fdca26\"],[1.0,\"#f0f921\"]]}],\"heatmap\":[{\"type\":\"heatmap\",\"colorbar\":{\"outlinewidth\":0,\"ticks\":\"\"},\"colorscale\":[[0.0,\"#0d0887\"],[0.1111111111111111,\"#46039f\"],[0.2222222222222222,\"#7201a8\"],[0.3333333333333333,\"#9c179e\"],[0.4444444444444444,\"#bd3786\"],[0.5555555555555556,\"#d8576b\"],[0.6666666666666666,\"#ed7953\"],[0.7777777777777778,\"#fb9f3a\"],[0.8888888888888888,\"#fdca26\"],[1.0,\"#f0f921\"]]}],\"heatmapgl\":[{\"type\":\"heatmapgl\",\"colorbar\":{\"outlinewidth\":0,\"ticks\":\"\"},\"colorscale\":[[0.0,\"#0d0887\"],[0.1111111111111111,\"#46039f\"],[0.2222222222222222,\"#7201a8\"],[0.3333333333333333,\"#9c179e\"],[0.4444444444444444,\"#bd3786\"],[0.5555555555555556,\"#d8576b\"],[0.6666666666666666,\"#ed7953\"],[0.7777777777777778,\"#fb9f3a\"],[0.8888888888888888,\"#fdca26\"],[1.0,\"#f0f921\"]]}],\"contourcarpet\":[{\"type\":\"contourcarpet\",\"colorbar\":{\"outlinewidth\":0,\"ticks\":\"\"}}],\"contour\":[{\"type\":\"contour\",\"colorbar\":{\"outlinewidth\":0,\"ticks\":\"\"},\"colorscale\":[[0.0,\"#0d0887\"],[0.1111111111111111,\"#46039f\"],[0.2222222222222222,\"#7201a8\"],[0.3333333333333333,\"#9c179e\"],[0.4444444444444444,\"#bd3786\"],[0.5555555555555556,\"#d8576b\"],[0.6666666666666666,\"#ed7953\"],[0.7777777777777778,\"#fb9f3a\"],[0.8888888888888888,\"#fdca26\"],[1.0,\"#f0f921\"]]}],\"surface\":[{\"type\":\"surface\",\"colorbar\":{\"outlinewidth\":0,\"ticks\":\"\"},\"colorscale\":[[0.0,\"#0d0887\"],[0.1111111111111111,\"#46039f\"],[0.2222222222222222,\"#7201a8\"],[0.3333333333333333,\"#9c179e\"],[0.4444444444444444,\"#bd3786\"],[0.5555555555555556,\"#d8576b\"],[0.6666666666666666,\"#ed7953\"],[0.7777777777777778,\"#fb9f3a\"],[0.8888888888888888,\"#fdca26\"],[1.0,\"#f0f921\"]]}],\"mesh3d\":[{\"type\":\"mesh3d\",\"colorbar\":{\"outlinewidth\":0,\"ticks\":\"\"}}],\"scatter\":[{\"fillpattern\":{\"fillmode\":\"overlay\",\"size\":10,\"solidity\":0.2},\"type\":\"scatter\"}],\"parcoords\":[{\"type\":\"parcoords\",\"line\":{\"colorbar\":{\"outlinewidth\":0,\"ticks\":\"\"}}}],\"scatterpolargl\":[{\"type\":\"scatterpolargl\",\"marker\":{\"colorbar\":{\"outlinewidth\":0,\"ticks\":\"\"}}}],\"bar\":[{\"error_x\":{\"color\":\"#2a3f5f\"},\"error_y\":{\"color\":\"#2a3f5f\"},\"marker\":{\"line\":{\"color\":\"#E5ECF6\",\"width\":0.5},\"pattern\":{\"fillmode\":\"overlay\",\"size\":10,\"solidity\":0.2}},\"type\":\"bar\"}],\"scattergeo\":[{\"type\":\"scattergeo\",\"marker\":{\"colorbar\":{\"outlinewidth\":0,\"ticks\":\"\"}}}],\"scatterpolar\":[{\"type\":\"scatterpolar\",\"marker\":{\"colorbar\":{\"outlinewidth\":0,\"ticks\":\"\"}}}],\"histogram\":[{\"marker\":{\"pattern\":{\"fillmode\":\"overlay\",\"size\":10,\"solidity\":0.2}},\"type\":\"histogram\"}],\"scattergl\":[{\"type\":\"scattergl\",\"marker\":{\"colorbar\":{\"outlinewidth\":0,\"ticks\":\"\"}}}],\"scatter3d\":[{\"type\":\"scatter3d\",\"line\":{\"colorbar\":{\"outlinewidth\":0,\"ticks\":\"\"}},\"marker\":{\"colorbar\":{\"outlinewidth\":0,\"ticks\":\"\"}}}],\"scattermapbox\":[{\"type\":\"scattermapbox\",\"marker\":{\"colorbar\":{\"outlinewidth\":0,\"ticks\":\"\"}}}],\"scatterternary\":[{\"type\":\"scatterternary\",\"marker\":{\"colorbar\":{\"outlinewidth\":0,\"ticks\":\"\"}}}],\"scattercarpet\":[{\"type\":\"scattercarpet\",\"marker\":{\"colorbar\":{\"outlinewidth\":0,\"ticks\":\"\"}}}],\"carpet\":[{\"aaxis\":{\"endlinecolor\":\"#2a3f5f\",\"gridcolor\":\"white\",\"linecolor\":\"white\",\"minorgridcolor\":\"white\",\"startlinecolor\":\"#2a3f5f\"},\"baxis\":{\"endlinecolor\":\"#2a3f5f\",\"gridcolor\":\"white\",\"linecolor\":\"white\",\"minorgridcolor\":\"white\",\"startlinecolor\":\"#2a3f5f\"},\"type\":\"carpet\"}],\"table\":[{\"cells\":{\"fill\":{\"color\":\"#EBF0F8\"},\"line\":{\"color\":\"white\"}},\"header\":{\"fill\":{\"color\":\"#C8D4E3\"},\"line\":{\"color\":\"white\"}},\"type\":\"table\"}],\"barpolar\":[{\"marker\":{\"line\":{\"color\":\"#E5ECF6\",\"width\":0.5},\"pattern\":{\"fillmode\":\"overlay\",\"size\":10,\"solidity\":0.2}},\"type\":\"barpolar\"}],\"pie\":[{\"automargin\":true,\"type\":\"pie\"}]},\"layout\":{\"autotypenumbers\":\"strict\",\"colorway\":[\"#636efa\",\"#EF553B\",\"#00cc96\",\"#ab63fa\",\"#FFA15A\",\"#19d3f3\",\"#FF6692\",\"#B6E880\",\"#FF97FF\",\"#FECB52\"],\"font\":{\"color\":\"#2a3f5f\"},\"hovermode\":\"closest\",\"hoverlabel\":{\"align\":\"left\"},\"paper_bgcolor\":\"white\",\"plot_bgcolor\":\"#E5ECF6\",\"polar\":{\"bgcolor\":\"#E5ECF6\",\"angularaxis\":{\"gridcolor\":\"white\",\"linecolor\":\"white\",\"ticks\":\"\"},\"radialaxis\":{\"gridcolor\":\"white\",\"linecolor\":\"white\",\"ticks\":\"\"}},\"ternary\":{\"bgcolor\":\"#E5ECF6\",\"aaxis\":{\"gridcolor\":\"white\",\"linecolor\":\"white\",\"ticks\":\"\"},\"baxis\":{\"gridcolor\":\"white\",\"linecolor\":\"white\",\"ticks\":\"\"},\"caxis\":{\"gridcolor\":\"white\",\"linecolor\":\"white\",\"ticks\":\"\"}},\"coloraxis\":{\"colorbar\":{\"outlinewidth\":0,\"ticks\":\"\"}},\"colorscale\":{\"sequential\":[[0.0,\"#0d0887\"],[0.1111111111111111,\"#46039f\"],[0.2222222222222222,\"#7201a8\"],[0.3333333333333333,\"#9c179e\"],[0.4444444444444444,\"#bd3786\"],[0.5555555555555556,\"#d8576b\"],[0.6666666666666666,\"#ed7953\"],[0.7777777777777778,\"#fb9f3a\"],[0.8888888888888888,\"#fdca26\"],[1.0,\"#f0f921\"]],\"sequentialminus\":[[0.0,\"#0d0887\"],[0.1111111111111111,\"#46039f\"],[0.2222222222222222,\"#7201a8\"],[0.3333333333333333,\"#9c179e\"],[0.4444444444444444,\"#bd3786\"],[0.5555555555555556,\"#d8576b\"],[0.6666666666666666,\"#ed7953\"],[0.7777777777777778,\"#fb9f3a\"],[0.8888888888888888,\"#fdca26\"],[1.0,\"#f0f921\"]],\"diverging\":[[0,\"#8e0152\"],[0.1,\"#c51b7d\"],[0.2,\"#de77ae\"],[0.3,\"#f1b6da\"],[0.4,\"#fde0ef\"],[0.5,\"#f7f7f7\"],[0.6,\"#e6f5d0\"],[0.7,\"#b8e186\"],[0.8,\"#7fbc41\"],[0.9,\"#4d9221\"],[1,\"#276419\"]]},\"xaxis\":{\"gridcolor\":\"white\",\"linecolor\":\"white\",\"ticks\":\"\",\"title\":{\"standoff\":15},\"zerolinecolor\":\"white\",\"automargin\":true,\"zerolinewidth\":2},\"yaxis\":{\"gridcolor\":\"white\",\"linecolor\":\"white\",\"ticks\":\"\",\"title\":{\"standoff\":15},\"zerolinecolor\":\"white\",\"automargin\":true,\"zerolinewidth\":2},\"scene\":{\"xaxis\":{\"backgroundcolor\":\"#E5ECF6\",\"gridcolor\":\"white\",\"linecolor\":\"white\",\"showbackground\":true,\"ticks\":\"\",\"zerolinecolor\":\"white\",\"gridwidth\":2},\"yaxis\":{\"backgroundcolor\":\"#E5ECF6\",\"gridcolor\":\"white\",\"linecolor\":\"white\",\"showbackground\":true,\"ticks\":\"\",\"zerolinecolor\":\"white\",\"gridwidth\":2},\"zaxis\":{\"backgroundcolor\":\"#E5ECF6\",\"gridcolor\":\"white\",\"linecolor\":\"white\",\"showbackground\":true,\"ticks\":\"\",\"zerolinecolor\":\"white\",\"gridwidth\":2}},\"shapedefaults\":{\"line\":{\"color\":\"#2a3f5f\"}},\"annotationdefaults\":{\"arrowcolor\":\"#2a3f5f\",\"arrowhead\":0,\"arrowwidth\":1},\"geo\":{\"bgcolor\":\"white\",\"landcolor\":\"#E5ECF6\",\"subunitcolor\":\"white\",\"showland\":true,\"showlakes\":true,\"lakecolor\":\"white\"},\"title\":{\"x\":0.05},\"mapbox\":{\"style\":\"light\"}}},\"xaxis\":{\"anchor\":\"y\",\"domain\":[0.0,1.0],\"title\":{\"text\":\"tokens\"}},\"yaxis\":{\"anchor\":\"x\",\"domain\":[0.0,1.0],\"title\":{\"text\":\"acc_norm\"}},\"legend\":{\"title\":{\"text\":\"register\"},\"tracegroupgap\":0},\"margin\":{\"t\":60},\"title\":{\"text\":\"Average accuracy by Register\"},\"height\":600,\"width\":1100,\"showlegend\":true},                        {\"responsive\": true}                    ).then(function(){\n",
       "                            \n",
       "var gd = document.getElementById('cca09261-8a06-4bd8-919a-89e559c479a0');\n",
       "var x = new MutationObserver(function (mutations, observer) {{\n",
       "        var display = window.getComputedStyle(gd).display;\n",
       "        if (!display || display === 'none') {{\n",
       "            console.log([gd, 'removed!']);\n",
       "            Plotly.purge(gd);\n",
       "            observer.disconnect();\n",
       "        }}\n",
       "}});\n",
       "\n",
       "// Listen for the removal of the full notebook cells\n",
       "var notebookContainer = gd.closest('#notebook-container');\n",
       "if (notebookContainer) {{\n",
       "    x.observe(notebookContainer, {childList: true});\n",
       "}}\n",
       "\n",
       "// Listen for the clearing of the current output cell\n",
       "var outputEl = gd.closest('.output');\n",
       "if (outputEl) {{\n",
       "    x.observe(outputEl, {childList: true});\n",
       "}}\n",
       "\n",
       "                        })                };                });            </script>        </div>"
      ]
     },
     "metadata": {},
     "output_type": "display_data"
    }
   ],
   "source": [
    "fig = px.line(df, y=\"acc_norm\", x=\"tokens\", color=\"register\")\n",
    "fig.update_layout(\n",
    "    title=\"Average accuracy by Register\",\n",
    "    height=600,  # Adjust the height of the plot\n",
    "    width=1100,\n",
    "    showlegend=True,  # Show legend\n",
    ")\n",
    "fig.show()"
   ]
  },
  {
   "cell_type": "code",
   "execution_count": 168,
   "metadata": {},
   "outputs": [
    {
     "name": "stdout",
     "output_type": "stream",
     "text": [
      "{'IP': '#636EFA', 'HI': '#EF553B', 'NA': '#00CC96', 'dtp': '#AB63FA', 'ne': '#FFA15A', 'OP': '#19D3F3', 'IN': '#FF6692', 'ID': '#B6E880'}\n"
     ]
    }
   ],
   "source": [
    "unique_registers = df[\"register\"].unique()\n",
    "#colors = px.colors.sample_colorscale(\"mygbm\",len(unique_registers))  # for other colormaps\n",
    "c_map={}\n",
    "for i, register in enumerate(unique_registers):\n",
    "    c_map[register] = px.colors.qualitative.Plotly[i]   # this is the same as above\n",
    "print(c_map)\n",
    "\n"
   ]
  },
  {
   "cell_type": "code",
   "execution_count": 170,
   "metadata": {},
   "outputs": [
    {
     "data": {
      "application/vnd.plotly.v1+json": {
       "config": {
        "plotlyServerURL": "https://plot.ly"
       },
       "data": [
        {
         "legendgroup": "IP",
         "line": {
          "color": "#636EFA"
         },
         "mode": "lines",
         "name": "IP",
         "showlegend": true,
         "type": "scatter",
         "x": [
          "2B",
          "4B",
          "6B",
          "8B",
          "10B",
          "13B",
          "15B",
          "17B",
          "19B",
          "21B",
          "23B",
          "25B",
          "27B",
          "29B"
         ],
         "xaxis": "x",
         "y": [
          0.2638888888888889,
          0.2638888888888889,
          0.2756734006734007,
          0.2878787878787879,
          0.2765151515151515,
          0.27904040404040403,
          0.2916666666666667,
          0.28914141414141414,
          0.2878787878787879,
          0.28745791245791247,
          0.289983164983165,
          0.2887205387205387,
          0.2908249158249158,
          0.29292929292929293
         ],
         "yaxis": "y"
        },
        {
         "legendgroup": "HI",
         "line": {
          "color": "#EF553B"
         },
         "mode": "lines",
         "name": "HI",
         "showlegend": true,
         "type": "scatter",
         "x": [
          "2B",
          "4B",
          "6B",
          "8B",
          "10B",
          "13B",
          "15B",
          "17B",
          "19B",
          "21B",
          "23B",
          "25B",
          "27B",
          "29B"
         ],
         "xaxis": "x",
         "y": [
          0.2680976430976431,
          0.2824074074074074,
          0.2895622895622896,
          0.28619528619528617,
          0.29208754208754206,
          0.29124579124579125,
          0.29208754208754206,
          0.2904040404040404,
          0.2925084175084175,
          0.29503367003367004,
          0.29713804713804715,
          0.30303030303030304,
          0.30808080808080807,
          0.30765993265993263
         ],
         "yaxis": "y"
        },
        {
         "legendgroup": "NA",
         "line": {
          "color": "#00CC96"
         },
         "mode": "lines",
         "name": "NA",
         "showlegend": true,
         "type": "scatter",
         "x": [
          "2B",
          "4B",
          "6B",
          "8B",
          "10B",
          "13B",
          "15B",
          "17B",
          "19B",
          "21B",
          "23B",
          "25B",
          "27B",
          "29B"
         ],
         "xaxis": "x",
         "y": [
          0.26641414141414144,
          0.26346801346801346,
          0.2798821548821549,
          0.2824074074074074,
          0.2878787878787879,
          0.2967171717171717,
          0.29292929292929293,
          0.30345117845117847,
          0.30345117845117847,
          0.30092592592592593,
          0.29924242424242425,
          0.30092592592592593,
          0.31986531986531985,
          0.31313131313131315
         ],
         "yaxis": "y"
        },
        {
         "legendgroup": "dtp",
         "line": {
          "color": "#AB63FA"
         },
         "mode": "lines",
         "name": "dtp",
         "showlegend": true,
         "type": "scatter",
         "x": [
          "2B",
          "4B",
          "6B",
          "8B",
          "10B",
          "13B",
          "15B",
          "17B",
          "19B",
          "21B",
          "23B",
          "25B",
          "27B",
          "29B"
         ],
         "xaxis": "x",
         "y": [
          0.281986531986532,
          0.2916666666666667,
          0.3261784511784512,
          0.32491582491582494,
          0.32365319865319864,
          0.3362794612794613,
          0.3392255892255892,
          0.32996632996632996,
          0.35563973063973064,
          0.33880471380471383,
          0.33880471380471383,
          0.3514309764309764,
          0.3514309764309764,
          0.3569023569023569
         ],
         "yaxis": "y"
        },
        {
         "legendgroup": "ne",
         "line": {
          "color": "#FFA15A"
         },
         "mode": "lines",
         "name": "ne",
         "showlegend": true,
         "type": "scatter",
         "x": [
          "2B",
          "4B",
          "6B",
          "8B",
          "10B",
          "13B",
          "15B",
          "17B",
          "19B",
          "21B",
          "23B",
          "25B",
          "27B",
          "29B"
         ],
         "xaxis": "x",
         "y": [
          0.26304713804713803,
          0.2769360269360269,
          0.28914141414141414,
          0.29503367003367004,
          0.2962962962962963,
          0.2946127946127946,
          0.3005050505050505,
          0.30134680134680136,
          0.29797979797979796,
          0.3055555555555556,
          0.30345117845117847,
          0.30303030303030304,
          0.3143939393939394,
          0.3207070707070707
         ],
         "yaxis": "y"
        },
        {
         "legendgroup": "OP",
         "line": {
          "color": "#19D3F3"
         },
         "mode": "lines",
         "name": "OP",
         "showlegend": true,
         "type": "scatter",
         "x": [
          "2B",
          "4B",
          "6B",
          "8B",
          "10B",
          "13B",
          "15B",
          "17B",
          "19B",
          "21B",
          "23B",
          "25B",
          "27B",
          "29B"
         ],
         "xaxis": "x",
         "y": [
          0.2588383838383838,
          0.27735690235690236,
          0.28324915824915825,
          0.2748316498316498,
          0.28745791245791247,
          0.30976430976430974,
          0.29503367003367004,
          0.3068181818181818,
          0.3101851851851852,
          0.3085016835016835,
          0.2996632996632997,
          0.3127104377104377,
          0.32154882154882153,
          0.3164983164983165
         ],
         "yaxis": "y"
        },
        {
         "legendgroup": "IN",
         "line": {
          "color": "#FF6692"
         },
         "mode": "lines",
         "name": "IN",
         "showlegend": true,
         "type": "scatter",
         "x": [
          "2B",
          "4B",
          "6B",
          "8B",
          "10B",
          "13B",
          "15B",
          "17B",
          "19B",
          "21B",
          "23B",
          "25B",
          "27B",
          "29B"
         ],
         "xaxis": "x",
         "y": [
          0.2824074074074074,
          0.2988215488215488,
          0.30723905723905726,
          0.30387205387205385,
          0.3042929292929293,
          0.31986531986531985,
          0.32996632996632996,
          0.335016835016835,
          0.3312289562289562,
          0.3324915824915825,
          0.32786195286195285,
          0.34175084175084175,
          0.3489057239057239,
          0.343013468013468
         ],
         "yaxis": "y"
        },
        {
         "legendgroup": "ID",
         "line": {
          "color": "#B6E880"
         },
         "mode": "lines",
         "name": "ID",
         "showlegend": true,
         "type": "scatter",
         "x": [
          "2B",
          "4B",
          "6B",
          "8B",
          "10B",
          "13B",
          "15B",
          "17B",
          "19B",
          "21B",
          "23B",
          "25B",
          "27B",
          "29B"
         ],
         "xaxis": "x",
         "y": [
          0.26725589225589225,
          0.26136363636363635,
          0.2803030303030303,
          0.2836700336700337,
          0.30303030303030304,
          0.29924242424242425,
          0.30387205387205385,
          0.29419191919191917,
          0.3122895622895623,
          0.3101851851851852,
          0.30934343434343436,
          0.3101851851851852,
          0.31607744107744107,
          0.31565656565656564
         ],
         "yaxis": "y"
        },
        {
         "legendgroup": "IP",
         "line": {
          "color": "#636EFA"
         },
         "mode": "lines",
         "name": "IP",
         "showlegend": false,
         "type": "scatter",
         "x": [
          "2B",
          "4B",
          "6B",
          "8B",
          "10B",
          "13B",
          "15B",
          "17B",
          "19B",
          "21B",
          "23B",
          "25B",
          "27B",
          "29B"
         ],
         "xaxis": "x2",
         "y": [
          0.2557259510057757,
          0.26249751045608444,
          0.2666799442342163,
          0.26548496315475006,
          0.2680740888269269,
          0.27165903206532566,
          0.27066321449910374,
          0.27723561043616807,
          0.2748456482772356,
          0.27902808205536744,
          0.2747460665206134,
          0.2748456482772356,
          0.2727544313881697,
          0.2779326827325234
         ],
         "yaxis": "y2"
        },
        {
         "legendgroup": "HI",
         "line": {
          "color": "#EF553B"
         },
         "mode": "lines",
         "name": "HI",
         "showlegend": false,
         "type": "scatter",
         "x": [
          "2B",
          "4B",
          "6B",
          "8B",
          "10B",
          "13B",
          "15B",
          "17B",
          "19B",
          "21B",
          "23B",
          "25B",
          "27B",
          "29B"
         ],
         "xaxis": "x2",
         "y": [
          0.25403306114319857,
          0.2613025293766182,
          0.27185819557857,
          0.27743477394941246,
          0.2801234813782115,
          0.2855008962358096,
          0.2862975502887871,
          0.2982473610834495,
          0.2976498705437164,
          0.3013343955387373,
          0.30322644891455885,
          0.30462059350726944,
          0.30989842660824535,
          0.31467835092611035
         ],
         "yaxis": "y2"
        },
        {
         "legendgroup": "NA",
         "line": {
          "color": "#00CC96"
         },
         "mode": "lines",
         "name": "NA",
         "showlegend": false,
         "type": "scatter",
         "x": [
          "2B",
          "4B",
          "6B",
          "8B",
          "10B",
          "13B",
          "15B",
          "17B",
          "19B",
          "21B",
          "23B",
          "25B",
          "27B",
          "29B"
         ],
         "xaxis": "x2",
         "y": [
          0.25144393547102173,
          0.2619000199163513,
          0.26000796654052977,
          0.2642899820752838,
          0.2608046205935073,
          0.2610037841067516,
          0.2664807807209719,
          0.2644891455885282,
          0.2636924915355507,
          0.2695678151762597,
          0.2671778530173272,
          0.2665803624775941,
          0.2704640509858594,
          0.2696673969328819
         ],
         "yaxis": "y2"
        },
        {
         "legendgroup": "dtp",
         "line": {
          "color": "#AB63FA"
         },
         "mode": "lines",
         "name": "dtp",
         "showlegend": false,
         "type": "scatter",
         "x": [
          "2B",
          "4B",
          "6B",
          "8B",
          "10B",
          "13B",
          "15B",
          "17B",
          "19B",
          "21B",
          "23B",
          "25B",
          "27B",
          "29B"
         ],
         "xaxis": "x2",
         "y": [
          0.2561242780322645,
          0.25642302330213107,
          0.26528579964150567,
          0.26289583748257317,
          0.2621987651862179,
          0.26867157936666003,
          0.2727544313881697,
          0.2735510854411472,
          0.2717586138219478,
          0.27126070503883687,
          0.2751443935471022,
          0.26976697868950406,
          0.27325234017128064,
          0.2787293367855009
         ],
         "yaxis": "y2"
        },
        {
         "legendgroup": "ne",
         "line": {
          "color": "#FFA15A"
         },
         "mode": "lines",
         "name": "ne",
         "showlegend": false,
         "type": "scatter",
         "x": [
          "2B",
          "4B",
          "6B",
          "8B",
          "10B",
          "13B",
          "15B",
          "17B",
          "19B",
          "21B",
          "23B",
          "25B",
          "27B",
          "29B"
         ],
         "xaxis": "x2",
         "y": [
          0.24447321250746862,
          0.26319458275243973,
          0.2597092212706632,
          0.25871340370444135,
          0.25403306114319857,
          0.26239792869946227,
          0.2582154949213304,
          0.2633937462656841,
          0.2619000199163513,
          0.25951005775741887,
          0.2633937462656841,
          0.2693686516630153,
          0.261202947619996,
          0.26598287193786097
         ],
         "yaxis": "y2"
        },
        {
         "legendgroup": "OP",
         "line": {
          "color": "#19D3F3"
         },
         "mode": "lines",
         "name": "OP",
         "showlegend": false,
         "type": "scatter",
         "x": [
          "2B",
          "4B",
          "6B",
          "8B",
          "10B",
          "13B",
          "15B",
          "17B",
          "19B",
          "21B",
          "23B",
          "25B",
          "27B",
          "29B"
         ],
         "xaxis": "x2",
         "y": [
          0.2539334793865764,
          0.2529376618203545,
          0.2590121489743079,
          0.2582154949213304,
          0.26598287193786097,
          0.2657837084246166,
          0.26379207329217286,
          0.26797450707030473,
          0.2748456482772356,
          0.2733519219279028,
          0.27305317665803625,
          0.27305317665803625,
          0.27454690300736906,
          0.2788289185421231
         ],
         "yaxis": "y2"
        },
        {
         "legendgroup": "IN",
         "line": {
          "color": "#FF6692"
         },
         "mode": "lines",
         "name": "IN",
         "showlegend": false,
         "type": "scatter",
         "x": [
          "2B",
          "4B",
          "6B",
          "8B",
          "10B",
          "13B",
          "15B",
          "17B",
          "19B",
          "21B",
          "23B",
          "25B",
          "27B",
          "29B"
         ],
         "xaxis": "x2",
         "y": [
          0.24815773750248954,
          0.25891256721768574,
          0.26090420235012945,
          0.25941047600079664,
          0.2619000199163513,
          0.2664807807209719,
          0.2689703246365266,
          0.27285401314479185,
          0.27305317665803625,
          0.26996614220274845,
          0.27365066719776937,
          0.2757418840868353,
          0.2742481577375025,
          0.27972515435172274
         ],
         "yaxis": "y2"
        },
        {
         "legendgroup": "ID",
         "line": {
          "color": "#B6E880"
         },
         "mode": "lines",
         "name": "ID",
         "showlegend": false,
         "type": "scatter",
         "x": [
          "2B",
          "4B",
          "6B",
          "8B",
          "10B",
          "13B",
          "15B",
          "17B",
          "19B",
          "21B",
          "23B",
          "25B",
          "27B",
          "29B"
         ],
         "xaxis": "x2",
         "y": [
          0.24865564628560047,
          0.25323640709022105,
          0.25781716789484166,
          0.26110336586337385,
          0.2625970922127066,
          0.26269667396932883,
          0.2666799442342163,
          0.2625970922127066,
          0.2674765982871938,
          0.2700657239593706,
          0.26687910774746065,
          0.27145986855208126,
          0.273451503684525,
          0.2719577773351922
         ],
         "yaxis": "y2"
        },
        {
         "legendgroup": "IP",
         "line": {
          "color": "#636EFA"
         },
         "mode": "lines",
         "name": "IP",
         "showlegend": false,
         "type": "scatter",
         "x": [
          "2B",
          "4B",
          "6B",
          "8B",
          "10B",
          "13B",
          "15B",
          "17B",
          "19B",
          "21B",
          "23B",
          "25B",
          "27B",
          "29B"
         ],
         "xaxis": "x3",
         "y": [
          0.515778019586507,
          0.529923830250272,
          0.5359085963003264,
          0.5342763873775843,
          0.5413492927094669,
          0.5549510337323177,
          0.558215451577802,
          0.5685527747551686,
          0.5674646354733406,
          0.5674646354733406,
          0.5658324265505985,
          0.573993471164309,
          0.5701849836779108,
          0.5778019586507073
         ],
         "yaxis": "y3"
        },
        {
         "legendgroup": "HI",
         "line": {
          "color": "#EF553B"
         },
         "mode": "lines",
         "name": "HI",
         "showlegend": false,
         "type": "scatter",
         "x": [
          "2B",
          "4B",
          "6B",
          "8B",
          "10B",
          "13B",
          "15B",
          "17B",
          "19B",
          "21B",
          "23B",
          "25B",
          "27B",
          "29B"
         ],
         "xaxis": "x3",
         "y": [
          0.5745375408052231,
          0.6186071817192601,
          0.6289445048966268,
          0.6430903155603918,
          0.6441784548422198,
          0.6534276387377584,
          0.6588683351468988,
          0.6561479869423286,
          0.6605005440696409,
          0.6577801958650707,
          0.6675734494015234,
          0.6697497279651795,
          0.6702937976060935,
          0.6871599564744287
         ],
         "yaxis": "y3"
        },
        {
         "legendgroup": "NA",
         "line": {
          "color": "#00CC96"
         },
         "mode": "lines",
         "name": "NA",
         "showlegend": false,
         "type": "scatter",
         "x": [
          "2B",
          "4B",
          "6B",
          "8B",
          "10B",
          "13B",
          "15B",
          "17B",
          "19B",
          "21B",
          "23B",
          "25B",
          "27B",
          "29B"
         ],
         "xaxis": "x3",
         "y": [
          0.514689880304679,
          0.5239390642002176,
          0.5369967355821545,
          0.5457018498367792,
          0.543525571273123,
          0.559847660500544,
          0.559847660500544,
          0.5609357997823722,
          0.55930359085963,
          0.5609357997823722,
          0.5647442872687704,
          0.5701849836779108,
          0.5669205658324266,
          0.5701849836779108
         ],
         "yaxis": "y3"
        },
        {
         "legendgroup": "dtp",
         "line": {
          "color": "#AB63FA"
         },
         "mode": "lines",
         "name": "dtp",
         "showlegend": false,
         "type": "scatter",
         "x": [
          "2B",
          "4B",
          "6B",
          "8B",
          "10B",
          "13B",
          "15B",
          "17B",
          "19B",
          "21B",
          "23B",
          "25B",
          "27B",
          "29B"
         ],
         "xaxis": "x3",
         "y": [
          0.5076169749727966,
          0.5282916213275299,
          0.5380848748639826,
          0.5326441784548422,
          0.5527747551686616,
          0.5473340587595212,
          0.5527747551686616,
          0.5467899891186072,
          0.5554951033732318,
          0.5565832426550599,
          0.5658324265505985,
          0.5680087051142546,
          0.5647442872687704,
          0.5625680087051143
         ],
         "yaxis": "y3"
        },
        {
         "legendgroup": "ne",
         "line": {
          "color": "#FFA15A"
         },
         "mode": "lines",
         "name": "ne",
         "showlegend": false,
         "type": "scatter",
         "x": [
          "2B",
          "4B",
          "6B",
          "8B",
          "10B",
          "13B",
          "15B",
          "17B",
          "19B",
          "21B",
          "23B",
          "25B",
          "27B",
          "29B"
         ],
         "xaxis": "x3",
         "y": [
          0.5266594124047879,
          0.5021762785636561,
          0.5108813928182807,
          0.5092491838955386,
          0.5277475516866159,
          0.5233949945593036,
          0.5315560391730142,
          0.5413492927094669,
          0.5272034820457019,
          0.5429815016322089,
          0.5457018498367792,
          0.5353645266594124,
          0.5408052230685527,
          0.5348204570184983
         ],
         "yaxis": "y3"
        },
        {
         "legendgroup": "OP",
         "line": {
          "color": "#19D3F3"
         },
         "mode": "lines",
         "name": "OP",
         "showlegend": false,
         "type": "scatter",
         "x": [
          "2B",
          "4B",
          "6B",
          "8B",
          "10B",
          "13B",
          "15B",
          "17B",
          "19B",
          "21B",
          "23B",
          "25B",
          "27B",
          "29B"
         ],
         "xaxis": "x3",
         "y": [
          0.5130576713819369,
          0.5359085963003264,
          0.5429815016322089,
          0.544069640914037,
          0.5658324265505985,
          0.558759521218716,
          0.55930359085963,
          0.5696409140369967,
          0.5669205658324266,
          0.5712731229597389,
          0.5712731229597389,
          0.5799782372143635,
          0.5788900979325353,
          0.5778019586507073
         ],
         "yaxis": "y3"
        },
        {
         "legendgroup": "IN",
         "line": {
          "color": "#FF6692"
         },
         "mode": "lines",
         "name": "IN",
         "showlegend": false,
         "type": "scatter",
         "x": [
          "2B",
          "4B",
          "6B",
          "8B",
          "10B",
          "13B",
          "15B",
          "17B",
          "19B",
          "21B",
          "23B",
          "25B",
          "27B",
          "29B"
         ],
         "xaxis": "x3",
         "y": [
          0.5168661588683352,
          0.529379760609358,
          0.5462459194776932,
          0.5603917301414582,
          0.5554951033732318,
          0.5544069640914037,
          0.5609357997823722,
          0.5631120783460283,
          0.5647442872687704,
          0.5767138193688792,
          0.5788900979325353,
          0.5832426550598476,
          0.5778019586507073,
          0.5783460282916213
         ],
         "yaxis": "y3"
        },
        {
         "legendgroup": "ID",
         "line": {
          "color": "#B6E880"
         },
         "mode": "lines",
         "name": "ID",
         "showlegend": false,
         "type": "scatter",
         "x": [
          "2B",
          "4B",
          "6B",
          "8B",
          "10B",
          "13B",
          "15B",
          "17B",
          "19B",
          "21B",
          "23B",
          "25B",
          "27B",
          "29B"
         ],
         "xaxis": "x3",
         "y": [
          0.5190424374319913,
          0.5228509249183896,
          0.5348204570184983,
          0.5625680087051143,
          0.558759521218716,
          0.5685527747551686,
          0.5723612622415669,
          0.5620239390642002,
          0.5609357997823722,
          0.5642002176278563,
          0.5810663764961915,
          0.5778019586507073,
          0.5799782372143635,
          0.573449401523395
         ],
         "yaxis": "y3"
        },
        {
         "legendgroup": "IP",
         "line": {
          "color": "#636EFA"
         },
         "mode": "lines",
         "name": "IP",
         "showlegend": false,
         "type": "scatter",
         "x": [
          "2B",
          "4B",
          "6B",
          "8B",
          "10B",
          "13B",
          "15B",
          "17B",
          "19B",
          "21B",
          "23B",
          "25B",
          "27B",
          "29B"
         ],
         "xaxis": "x4",
         "y": [
          0.254,
          0.258,
          0.224,
          0.252,
          0.24,
          0.236,
          0.244,
          0.23,
          0.246,
          0.244,
          0.244,
          0.222,
          0.242,
          0.234
         ],
         "yaxis": "y4"
        },
        {
         "legendgroup": "HI",
         "line": {
          "color": "#EF553B"
         },
         "mode": "lines",
         "name": "HI",
         "showlegend": false,
         "type": "scatter",
         "x": [
          "2B",
          "4B",
          "6B",
          "8B",
          "10B",
          "13B",
          "15B",
          "17B",
          "19B",
          "21B",
          "23B",
          "25B",
          "27B",
          "29B"
         ],
         "xaxis": "x4",
         "y": [
          0.256,
          0.244,
          0.27,
          0.258,
          0.26,
          0.272,
          0.254,
          0.274,
          0.268,
          0.26,
          0.262,
          0.266,
          0.266,
          0.244
         ],
         "yaxis": "y4"
        },
        {
         "legendgroup": "NA",
         "line": {
          "color": "#00CC96"
         },
         "mode": "lines",
         "name": "NA",
         "showlegend": false,
         "type": "scatter",
         "x": [
          "2B",
          "4B",
          "6B",
          "8B",
          "10B",
          "13B",
          "15B",
          "17B",
          "19B",
          "21B",
          "23B",
          "25B",
          "27B",
          "29B"
         ],
         "xaxis": "x4",
         "y": [
          0.28,
          0.254,
          0.236,
          0.238,
          0.236,
          0.238,
          0.242,
          0.236,
          0.234,
          0.222,
          0.232,
          0.224,
          0.242,
          0.22
         ],
         "yaxis": "y4"
        },
        {
         "legendgroup": "dtp",
         "line": {
          "color": "#AB63FA"
         },
         "mode": "lines",
         "name": "dtp",
         "showlegend": false,
         "type": "scatter",
         "x": [
          "2B",
          "4B",
          "6B",
          "8B",
          "10B",
          "13B",
          "15B",
          "17B",
          "19B",
          "21B",
          "23B",
          "25B",
          "27B",
          "29B"
         ],
         "xaxis": "x4",
         "y": [
          0.262,
          0.248,
          0.268,
          0.26,
          0.236,
          0.248,
          0.252,
          0.268,
          0.244,
          0.256,
          0.26,
          0.244,
          0.27,
          0.244
         ],
         "yaxis": "y4"
        },
        {
         "legendgroup": "ne",
         "line": {
          "color": "#FFA15A"
         },
         "mode": "lines",
         "name": "ne",
         "showlegend": false,
         "type": "scatter",
         "x": [
          "2B",
          "4B",
          "6B",
          "8B",
          "10B",
          "13B",
          "15B",
          "17B",
          "19B",
          "21B",
          "23B",
          "25B",
          "27B",
          "29B"
         ],
         "xaxis": "x4",
         "y": [
          0.272,
          0.25,
          0.248,
          0.248,
          0.252,
          0.248,
          0.242,
          0.246,
          0.244,
          0.244,
          0.254,
          0.246,
          0.252,
          0.244
         ],
         "yaxis": "y4"
        },
        {
         "legendgroup": "OP",
         "line": {
          "color": "#19D3F3"
         },
         "mode": "lines",
         "name": "OP",
         "showlegend": false,
         "type": "scatter",
         "x": [
          "2B",
          "4B",
          "6B",
          "8B",
          "10B",
          "13B",
          "15B",
          "17B",
          "19B",
          "21B",
          "23B",
          "25B",
          "27B",
          "29B"
         ],
         "xaxis": "x4",
         "y": [
          0.252,
          0.26,
          0.234,
          0.254,
          0.234,
          0.22,
          0.246,
          0.234,
          0.228,
          0.236,
          0.242,
          0.24,
          0.244,
          0.242
         ],
         "yaxis": "y4"
        },
        {
         "legendgroup": "IN",
         "line": {
          "color": "#FF6692"
         },
         "mode": "lines",
         "name": "IN",
         "showlegend": false,
         "type": "scatter",
         "x": [
          "2B",
          "4B",
          "6B",
          "8B",
          "10B",
          "13B",
          "15B",
          "17B",
          "19B",
          "21B",
          "23B",
          "25B",
          "27B",
          "29B"
         ],
         "xaxis": "x4",
         "y": [
          0.26,
          0.272,
          0.258,
          0.244,
          0.236,
          0.254,
          0.25,
          0.246,
          0.246,
          0.24,
          0.254,
          0.262,
          0.244,
          0.25
         ],
         "yaxis": "y4"
        },
        {
         "legendgroup": "ID",
         "line": {
          "color": "#B6E880"
         },
         "mode": "lines",
         "name": "ID",
         "showlegend": false,
         "type": "scatter",
         "x": [
          "2B",
          "4B",
          "6B",
          "8B",
          "10B",
          "13B",
          "15B",
          "17B",
          "19B",
          "21B",
          "23B",
          "25B",
          "27B",
          "29B"
         ],
         "xaxis": "x4",
         "y": [
          0.258,
          0.246,
          0.25,
          0.236,
          0.226,
          0.22,
          0.234,
          0.234,
          0.226,
          0.24,
          0.228,
          0.21,
          0.24,
          0.234
         ],
         "yaxis": "y4"
        }
       ],
       "layout": {
        "annotations": [
         {
          "font": {
           "size": 16
          },
          "showarrow": false,
          "text": "arc:easy",
          "x": 0.225,
          "xanchor": "center",
          "xref": "paper",
          "y": 1,
          "yanchor": "bottom",
          "yref": "paper"
         },
         {
          "font": {
           "size": 16
          },
          "showarrow": false,
          "text": "hellaswag",
          "x": 0.775,
          "xanchor": "center",
          "xref": "paper",
          "y": 1,
          "yanchor": "bottom",
          "yref": "paper"
         },
         {
          "font": {
           "size": 16
          },
          "showarrow": false,
          "text": "piqa",
          "x": 0.225,
          "xanchor": "center",
          "xref": "paper",
          "y": 0.425,
          "yanchor": "bottom",
          "yref": "paper"
         },
         {
          "font": {
           "size": 16
          },
          "showarrow": false,
          "text": "openbookqa",
          "x": 0.775,
          "xanchor": "center",
          "xref": "paper",
          "y": 0.425,
          "yanchor": "bottom",
          "yref": "paper"
         },
         {
          "font": {
           "size": 16
          },
          "showarrow": false,
          "text": "Tokens",
          "x": 0.5,
          "xanchor": "center",
          "xref": "paper",
          "y": 0,
          "yanchor": "top",
          "yref": "paper",
          "yshift": -30
         },
         {
          "font": {
           "size": 16
          },
          "showarrow": false,
          "text": "Accuracy score",
          "textangle": -90,
          "x": 0,
          "xanchor": "right",
          "xref": "paper",
          "xshift": -40,
          "y": 0.5,
          "yanchor": "middle",
          "yref": "paper"
         }
        ],
        "height": 800,
        "showlegend": true,
        "template": {
         "data": {
          "bar": [
           {
            "error_x": {
             "color": "#2a3f5f"
            },
            "error_y": {
             "color": "#2a3f5f"
            },
            "marker": {
             "line": {
              "color": "#E5ECF6",
              "width": 0.5
             },
             "pattern": {
              "fillmode": "overlay",
              "size": 10,
              "solidity": 0.2
             }
            },
            "type": "bar"
           }
          ],
          "barpolar": [
           {
            "marker": {
             "line": {
              "color": "#E5ECF6",
              "width": 0.5
             },
             "pattern": {
              "fillmode": "overlay",
              "size": 10,
              "solidity": 0.2
             }
            },
            "type": "barpolar"
           }
          ],
          "carpet": [
           {
            "aaxis": {
             "endlinecolor": "#2a3f5f",
             "gridcolor": "white",
             "linecolor": "white",
             "minorgridcolor": "white",
             "startlinecolor": "#2a3f5f"
            },
            "baxis": {
             "endlinecolor": "#2a3f5f",
             "gridcolor": "white",
             "linecolor": "white",
             "minorgridcolor": "white",
             "startlinecolor": "#2a3f5f"
            },
            "type": "carpet"
           }
          ],
          "choropleth": [
           {
            "colorbar": {
             "outlinewidth": 0,
             "ticks": ""
            },
            "type": "choropleth"
           }
          ],
          "contour": [
           {
            "colorbar": {
             "outlinewidth": 0,
             "ticks": ""
            },
            "colorscale": [
             [
              0,
              "#0d0887"
             ],
             [
              0.1111111111111111,
              "#46039f"
             ],
             [
              0.2222222222222222,
              "#7201a8"
             ],
             [
              0.3333333333333333,
              "#9c179e"
             ],
             [
              0.4444444444444444,
              "#bd3786"
             ],
             [
              0.5555555555555556,
              "#d8576b"
             ],
             [
              0.6666666666666666,
              "#ed7953"
             ],
             [
              0.7777777777777778,
              "#fb9f3a"
             ],
             [
              0.8888888888888888,
              "#fdca26"
             ],
             [
              1,
              "#f0f921"
             ]
            ],
            "type": "contour"
           }
          ],
          "contourcarpet": [
           {
            "colorbar": {
             "outlinewidth": 0,
             "ticks": ""
            },
            "type": "contourcarpet"
           }
          ],
          "heatmap": [
           {
            "colorbar": {
             "outlinewidth": 0,
             "ticks": ""
            },
            "colorscale": [
             [
              0,
              "#0d0887"
             ],
             [
              0.1111111111111111,
              "#46039f"
             ],
             [
              0.2222222222222222,
              "#7201a8"
             ],
             [
              0.3333333333333333,
              "#9c179e"
             ],
             [
              0.4444444444444444,
              "#bd3786"
             ],
             [
              0.5555555555555556,
              "#d8576b"
             ],
             [
              0.6666666666666666,
              "#ed7953"
             ],
             [
              0.7777777777777778,
              "#fb9f3a"
             ],
             [
              0.8888888888888888,
              "#fdca26"
             ],
             [
              1,
              "#f0f921"
             ]
            ],
            "type": "heatmap"
           }
          ],
          "heatmapgl": [
           {
            "colorbar": {
             "outlinewidth": 0,
             "ticks": ""
            },
            "colorscale": [
             [
              0,
              "#0d0887"
             ],
             [
              0.1111111111111111,
              "#46039f"
             ],
             [
              0.2222222222222222,
              "#7201a8"
             ],
             [
              0.3333333333333333,
              "#9c179e"
             ],
             [
              0.4444444444444444,
              "#bd3786"
             ],
             [
              0.5555555555555556,
              "#d8576b"
             ],
             [
              0.6666666666666666,
              "#ed7953"
             ],
             [
              0.7777777777777778,
              "#fb9f3a"
             ],
             [
              0.8888888888888888,
              "#fdca26"
             ],
             [
              1,
              "#f0f921"
             ]
            ],
            "type": "heatmapgl"
           }
          ],
          "histogram": [
           {
            "marker": {
             "pattern": {
              "fillmode": "overlay",
              "size": 10,
              "solidity": 0.2
             }
            },
            "type": "histogram"
           }
          ],
          "histogram2d": [
           {
            "colorbar": {
             "outlinewidth": 0,
             "ticks": ""
            },
            "colorscale": [
             [
              0,
              "#0d0887"
             ],
             [
              0.1111111111111111,
              "#46039f"
             ],
             [
              0.2222222222222222,
              "#7201a8"
             ],
             [
              0.3333333333333333,
              "#9c179e"
             ],
             [
              0.4444444444444444,
              "#bd3786"
             ],
             [
              0.5555555555555556,
              "#d8576b"
             ],
             [
              0.6666666666666666,
              "#ed7953"
             ],
             [
              0.7777777777777778,
              "#fb9f3a"
             ],
             [
              0.8888888888888888,
              "#fdca26"
             ],
             [
              1,
              "#f0f921"
             ]
            ],
            "type": "histogram2d"
           }
          ],
          "histogram2dcontour": [
           {
            "colorbar": {
             "outlinewidth": 0,
             "ticks": ""
            },
            "colorscale": [
             [
              0,
              "#0d0887"
             ],
             [
              0.1111111111111111,
              "#46039f"
             ],
             [
              0.2222222222222222,
              "#7201a8"
             ],
             [
              0.3333333333333333,
              "#9c179e"
             ],
             [
              0.4444444444444444,
              "#bd3786"
             ],
             [
              0.5555555555555556,
              "#d8576b"
             ],
             [
              0.6666666666666666,
              "#ed7953"
             ],
             [
              0.7777777777777778,
              "#fb9f3a"
             ],
             [
              0.8888888888888888,
              "#fdca26"
             ],
             [
              1,
              "#f0f921"
             ]
            ],
            "type": "histogram2dcontour"
           }
          ],
          "mesh3d": [
           {
            "colorbar": {
             "outlinewidth": 0,
             "ticks": ""
            },
            "type": "mesh3d"
           }
          ],
          "parcoords": [
           {
            "line": {
             "colorbar": {
              "outlinewidth": 0,
              "ticks": ""
             }
            },
            "type": "parcoords"
           }
          ],
          "pie": [
           {
            "automargin": true,
            "type": "pie"
           }
          ],
          "scatter": [
           {
            "fillpattern": {
             "fillmode": "overlay",
             "size": 10,
             "solidity": 0.2
            },
            "type": "scatter"
           }
          ],
          "scatter3d": [
           {
            "line": {
             "colorbar": {
              "outlinewidth": 0,
              "ticks": ""
             }
            },
            "marker": {
             "colorbar": {
              "outlinewidth": 0,
              "ticks": ""
             }
            },
            "type": "scatter3d"
           }
          ],
          "scattercarpet": [
           {
            "marker": {
             "colorbar": {
              "outlinewidth": 0,
              "ticks": ""
             }
            },
            "type": "scattercarpet"
           }
          ],
          "scattergeo": [
           {
            "marker": {
             "colorbar": {
              "outlinewidth": 0,
              "ticks": ""
             }
            },
            "type": "scattergeo"
           }
          ],
          "scattergl": [
           {
            "marker": {
             "colorbar": {
              "outlinewidth": 0,
              "ticks": ""
             }
            },
            "type": "scattergl"
           }
          ],
          "scattermapbox": [
           {
            "marker": {
             "colorbar": {
              "outlinewidth": 0,
              "ticks": ""
             }
            },
            "type": "scattermapbox"
           }
          ],
          "scatterpolar": [
           {
            "marker": {
             "colorbar": {
              "outlinewidth": 0,
              "ticks": ""
             }
            },
            "type": "scatterpolar"
           }
          ],
          "scatterpolargl": [
           {
            "marker": {
             "colorbar": {
              "outlinewidth": 0,
              "ticks": ""
             }
            },
            "type": "scatterpolargl"
           }
          ],
          "scatterternary": [
           {
            "marker": {
             "colorbar": {
              "outlinewidth": 0,
              "ticks": ""
             }
            },
            "type": "scatterternary"
           }
          ],
          "surface": [
           {
            "colorbar": {
             "outlinewidth": 0,
             "ticks": ""
            },
            "colorscale": [
             [
              0,
              "#0d0887"
             ],
             [
              0.1111111111111111,
              "#46039f"
             ],
             [
              0.2222222222222222,
              "#7201a8"
             ],
             [
              0.3333333333333333,
              "#9c179e"
             ],
             [
              0.4444444444444444,
              "#bd3786"
             ],
             [
              0.5555555555555556,
              "#d8576b"
             ],
             [
              0.6666666666666666,
              "#ed7953"
             ],
             [
              0.7777777777777778,
              "#fb9f3a"
             ],
             [
              0.8888888888888888,
              "#fdca26"
             ],
             [
              1,
              "#f0f921"
             ]
            ],
            "type": "surface"
           }
          ],
          "table": [
           {
            "cells": {
             "fill": {
              "color": "#EBF0F8"
             },
             "line": {
              "color": "white"
             }
            },
            "header": {
             "fill": {
              "color": "#C8D4E3"
             },
             "line": {
              "color": "white"
             }
            },
            "type": "table"
           }
          ]
         },
         "layout": {
          "annotationdefaults": {
           "arrowcolor": "#2a3f5f",
           "arrowhead": 0,
           "arrowwidth": 1
          },
          "autotypenumbers": "strict",
          "coloraxis": {
           "colorbar": {
            "outlinewidth": 0,
            "ticks": ""
           }
          },
          "colorscale": {
           "diverging": [
            [
             0,
             "#8e0152"
            ],
            [
             0.1,
             "#c51b7d"
            ],
            [
             0.2,
             "#de77ae"
            ],
            [
             0.3,
             "#f1b6da"
            ],
            [
             0.4,
             "#fde0ef"
            ],
            [
             0.5,
             "#f7f7f7"
            ],
            [
             0.6,
             "#e6f5d0"
            ],
            [
             0.7,
             "#b8e186"
            ],
            [
             0.8,
             "#7fbc41"
            ],
            [
             0.9,
             "#4d9221"
            ],
            [
             1,
             "#276419"
            ]
           ],
           "sequential": [
            [
             0,
             "#0d0887"
            ],
            [
             0.1111111111111111,
             "#46039f"
            ],
            [
             0.2222222222222222,
             "#7201a8"
            ],
            [
             0.3333333333333333,
             "#9c179e"
            ],
            [
             0.4444444444444444,
             "#bd3786"
            ],
            [
             0.5555555555555556,
             "#d8576b"
            ],
            [
             0.6666666666666666,
             "#ed7953"
            ],
            [
             0.7777777777777778,
             "#fb9f3a"
            ],
            [
             0.8888888888888888,
             "#fdca26"
            ],
            [
             1,
             "#f0f921"
            ]
           ],
           "sequentialminus": [
            [
             0,
             "#0d0887"
            ],
            [
             0.1111111111111111,
             "#46039f"
            ],
            [
             0.2222222222222222,
             "#7201a8"
            ],
            [
             0.3333333333333333,
             "#9c179e"
            ],
            [
             0.4444444444444444,
             "#bd3786"
            ],
            [
             0.5555555555555556,
             "#d8576b"
            ],
            [
             0.6666666666666666,
             "#ed7953"
            ],
            [
             0.7777777777777778,
             "#fb9f3a"
            ],
            [
             0.8888888888888888,
             "#fdca26"
            ],
            [
             1,
             "#f0f921"
            ]
           ]
          },
          "colorway": [
           "#636efa",
           "#EF553B",
           "#00cc96",
           "#ab63fa",
           "#FFA15A",
           "#19d3f3",
           "#FF6692",
           "#B6E880",
           "#FF97FF",
           "#FECB52"
          ],
          "font": {
           "color": "#2a3f5f"
          },
          "geo": {
           "bgcolor": "white",
           "lakecolor": "white",
           "landcolor": "#E5ECF6",
           "showlakes": true,
           "showland": true,
           "subunitcolor": "white"
          },
          "hoverlabel": {
           "align": "left"
          },
          "hovermode": "closest",
          "mapbox": {
           "style": "light"
          },
          "paper_bgcolor": "white",
          "plot_bgcolor": "#E5ECF6",
          "polar": {
           "angularaxis": {
            "gridcolor": "white",
            "linecolor": "white",
            "ticks": ""
           },
           "bgcolor": "#E5ECF6",
           "radialaxis": {
            "gridcolor": "white",
            "linecolor": "white",
            "ticks": ""
           }
          },
          "scene": {
           "xaxis": {
            "backgroundcolor": "#E5ECF6",
            "gridcolor": "white",
            "gridwidth": 2,
            "linecolor": "white",
            "showbackground": true,
            "ticks": "",
            "zerolinecolor": "white"
           },
           "yaxis": {
            "backgroundcolor": "#E5ECF6",
            "gridcolor": "white",
            "gridwidth": 2,
            "linecolor": "white",
            "showbackground": true,
            "ticks": "",
            "zerolinecolor": "white"
           },
           "zaxis": {
            "backgroundcolor": "#E5ECF6",
            "gridcolor": "white",
            "gridwidth": 2,
            "linecolor": "white",
            "showbackground": true,
            "ticks": "",
            "zerolinecolor": "white"
           }
          },
          "shapedefaults": {
           "line": {
            "color": "#2a3f5f"
           }
          },
          "ternary": {
           "aaxis": {
            "gridcolor": "white",
            "linecolor": "white",
            "ticks": ""
           },
           "baxis": {
            "gridcolor": "white",
            "linecolor": "white",
            "ticks": ""
           },
           "bgcolor": "#E5ECF6",
           "caxis": {
            "gridcolor": "white",
            "linecolor": "white",
            "ticks": ""
           }
          },
          "title": {
           "x": 0.05
          },
          "xaxis": {
           "automargin": true,
           "gridcolor": "white",
           "linecolor": "white",
           "ticks": "",
           "title": {
            "standoff": 15
           },
           "zerolinecolor": "white",
           "zerolinewidth": 2
          },
          "yaxis": {
           "automargin": true,
           "gridcolor": "white",
           "linecolor": "white",
           "ticks": "",
           "title": {
            "standoff": 15
           },
           "zerolinecolor": "white",
           "zerolinewidth": 2
          }
         }
        },
        "title": {
         "text": "Accuracy Metrics by Task and Register"
        },
        "width": 1300,
        "xaxis": {
         "anchor": "y",
         "domain": [
          0,
          0.45
         ]
        },
        "xaxis2": {
         "anchor": "y2",
         "domain": [
          0.55,
          1
         ]
        },
        "xaxis3": {
         "anchor": "y3",
         "domain": [
          0,
          0.45
         ]
        },
        "xaxis4": {
         "anchor": "y4",
         "domain": [
          0.55,
          1
         ]
        },
        "yaxis": {
         "anchor": "x",
         "domain": [
          0.575,
          1
         ]
        },
        "yaxis2": {
         "anchor": "x2",
         "domain": [
          0.575,
          1
         ]
        },
        "yaxis3": {
         "anchor": "x3",
         "domain": [
          0,
          0.425
         ]
        },
        "yaxis4": {
         "anchor": "x4",
         "domain": [
          0,
          0.425
         ]
        }
       }
      },
      "text/html": [
       "<div>                            <div id=\"3673a2dd-e2ad-4546-b82f-8a05219d8ef8\" class=\"plotly-graph-div\" style=\"height:800px; width:1300px;\"></div>            <script type=\"text/javascript\">                require([\"plotly\"], function(Plotly) {                    window.PLOTLYENV=window.PLOTLYENV || {};                                    if (document.getElementById(\"3673a2dd-e2ad-4546-b82f-8a05219d8ef8\")) {                    Plotly.newPlot(                        \"3673a2dd-e2ad-4546-b82f-8a05219d8ef8\",                        [{\"legendgroup\":\"IP\",\"line\":{\"color\":\"#636EFA\"},\"mode\":\"lines\",\"name\":\"IP\",\"showlegend\":true,\"x\":[\"2B\",\"4B\",\"6B\",\"8B\",\"10B\",\"13B\",\"15B\",\"17B\",\"19B\",\"21B\",\"23B\",\"25B\",\"27B\",\"29B\"],\"y\":[0.2638888888888889,0.2638888888888889,0.2756734006734007,0.2878787878787879,0.2765151515151515,0.27904040404040403,0.2916666666666667,0.28914141414141414,0.2878787878787879,0.28745791245791247,0.289983164983165,0.2887205387205387,0.2908249158249158,0.29292929292929293],\"type\":\"scatter\",\"xaxis\":\"x\",\"yaxis\":\"y\"},{\"legendgroup\":\"HI\",\"line\":{\"color\":\"#EF553B\"},\"mode\":\"lines\",\"name\":\"HI\",\"showlegend\":true,\"x\":[\"2B\",\"4B\",\"6B\",\"8B\",\"10B\",\"13B\",\"15B\",\"17B\",\"19B\",\"21B\",\"23B\",\"25B\",\"27B\",\"29B\"],\"y\":[0.2680976430976431,0.2824074074074074,0.2895622895622896,0.28619528619528617,0.29208754208754206,0.29124579124579125,0.29208754208754206,0.2904040404040404,0.2925084175084175,0.29503367003367004,0.29713804713804715,0.30303030303030304,0.30808080808080807,0.30765993265993263],\"type\":\"scatter\",\"xaxis\":\"x\",\"yaxis\":\"y\"},{\"legendgroup\":\"NA\",\"line\":{\"color\":\"#00CC96\"},\"mode\":\"lines\",\"name\":\"NA\",\"showlegend\":true,\"x\":[\"2B\",\"4B\",\"6B\",\"8B\",\"10B\",\"13B\",\"15B\",\"17B\",\"19B\",\"21B\",\"23B\",\"25B\",\"27B\",\"29B\"],\"y\":[0.26641414141414144,0.26346801346801346,0.2798821548821549,0.2824074074074074,0.2878787878787879,0.2967171717171717,0.29292929292929293,0.30345117845117847,0.30345117845117847,0.30092592592592593,0.29924242424242425,0.30092592592592593,0.31986531986531985,0.31313131313131315],\"type\":\"scatter\",\"xaxis\":\"x\",\"yaxis\":\"y\"},{\"legendgroup\":\"dtp\",\"line\":{\"color\":\"#AB63FA\"},\"mode\":\"lines\",\"name\":\"dtp\",\"showlegend\":true,\"x\":[\"2B\",\"4B\",\"6B\",\"8B\",\"10B\",\"13B\",\"15B\",\"17B\",\"19B\",\"21B\",\"23B\",\"25B\",\"27B\",\"29B\"],\"y\":[0.281986531986532,0.2916666666666667,0.3261784511784512,0.32491582491582494,0.32365319865319864,0.3362794612794613,0.3392255892255892,0.32996632996632996,0.35563973063973064,0.33880471380471383,0.33880471380471383,0.3514309764309764,0.3514309764309764,0.3569023569023569],\"type\":\"scatter\",\"xaxis\":\"x\",\"yaxis\":\"y\"},{\"legendgroup\":\"ne\",\"line\":{\"color\":\"#FFA15A\"},\"mode\":\"lines\",\"name\":\"ne\",\"showlegend\":true,\"x\":[\"2B\",\"4B\",\"6B\",\"8B\",\"10B\",\"13B\",\"15B\",\"17B\",\"19B\",\"21B\",\"23B\",\"25B\",\"27B\",\"29B\"],\"y\":[0.26304713804713803,0.2769360269360269,0.28914141414141414,0.29503367003367004,0.2962962962962963,0.2946127946127946,0.3005050505050505,0.30134680134680136,0.29797979797979796,0.3055555555555556,0.30345117845117847,0.30303030303030304,0.3143939393939394,0.3207070707070707],\"type\":\"scatter\",\"xaxis\":\"x\",\"yaxis\":\"y\"},{\"legendgroup\":\"OP\",\"line\":{\"color\":\"#19D3F3\"},\"mode\":\"lines\",\"name\":\"OP\",\"showlegend\":true,\"x\":[\"2B\",\"4B\",\"6B\",\"8B\",\"10B\",\"13B\",\"15B\",\"17B\",\"19B\",\"21B\",\"23B\",\"25B\",\"27B\",\"29B\"],\"y\":[0.2588383838383838,0.27735690235690236,0.28324915824915825,0.2748316498316498,0.28745791245791247,0.30976430976430974,0.29503367003367004,0.3068181818181818,0.3101851851851852,0.3085016835016835,0.2996632996632997,0.3127104377104377,0.32154882154882153,0.3164983164983165],\"type\":\"scatter\",\"xaxis\":\"x\",\"yaxis\":\"y\"},{\"legendgroup\":\"IN\",\"line\":{\"color\":\"#FF6692\"},\"mode\":\"lines\",\"name\":\"IN\",\"showlegend\":true,\"x\":[\"2B\",\"4B\",\"6B\",\"8B\",\"10B\",\"13B\",\"15B\",\"17B\",\"19B\",\"21B\",\"23B\",\"25B\",\"27B\",\"29B\"],\"y\":[0.2824074074074074,0.2988215488215488,0.30723905723905726,0.30387205387205385,0.3042929292929293,0.31986531986531985,0.32996632996632996,0.335016835016835,0.3312289562289562,0.3324915824915825,0.32786195286195285,0.34175084175084175,0.3489057239057239,0.343013468013468],\"type\":\"scatter\",\"xaxis\":\"x\",\"yaxis\":\"y\"},{\"legendgroup\":\"ID\",\"line\":{\"color\":\"#B6E880\"},\"mode\":\"lines\",\"name\":\"ID\",\"showlegend\":true,\"x\":[\"2B\",\"4B\",\"6B\",\"8B\",\"10B\",\"13B\",\"15B\",\"17B\",\"19B\",\"21B\",\"23B\",\"25B\",\"27B\",\"29B\"],\"y\":[0.26725589225589225,0.26136363636363635,0.2803030303030303,0.2836700336700337,0.30303030303030304,0.29924242424242425,0.30387205387205385,0.29419191919191917,0.3122895622895623,0.3101851851851852,0.30934343434343436,0.3101851851851852,0.31607744107744107,0.31565656565656564],\"type\":\"scatter\",\"xaxis\":\"x\",\"yaxis\":\"y\"},{\"legendgroup\":\"IP\",\"line\":{\"color\":\"#636EFA\"},\"mode\":\"lines\",\"name\":\"IP\",\"showlegend\":false,\"x\":[\"2B\",\"4B\",\"6B\",\"8B\",\"10B\",\"13B\",\"15B\",\"17B\",\"19B\",\"21B\",\"23B\",\"25B\",\"27B\",\"29B\"],\"y\":[0.2557259510057757,0.26249751045608444,0.2666799442342163,0.26548496315475006,0.2680740888269269,0.27165903206532566,0.27066321449910374,0.27723561043616807,0.2748456482772356,0.27902808205536744,0.2747460665206134,0.2748456482772356,0.2727544313881697,0.2779326827325234],\"type\":\"scatter\",\"xaxis\":\"x2\",\"yaxis\":\"y2\"},{\"legendgroup\":\"HI\",\"line\":{\"color\":\"#EF553B\"},\"mode\":\"lines\",\"name\":\"HI\",\"showlegend\":false,\"x\":[\"2B\",\"4B\",\"6B\",\"8B\",\"10B\",\"13B\",\"15B\",\"17B\",\"19B\",\"21B\",\"23B\",\"25B\",\"27B\",\"29B\"],\"y\":[0.25403306114319857,0.2613025293766182,0.27185819557857,0.27743477394941246,0.2801234813782115,0.2855008962358096,0.2862975502887871,0.2982473610834495,0.2976498705437164,0.3013343955387373,0.30322644891455885,0.30462059350726944,0.30989842660824535,0.31467835092611035],\"type\":\"scatter\",\"xaxis\":\"x2\",\"yaxis\":\"y2\"},{\"legendgroup\":\"NA\",\"line\":{\"color\":\"#00CC96\"},\"mode\":\"lines\",\"name\":\"NA\",\"showlegend\":false,\"x\":[\"2B\",\"4B\",\"6B\",\"8B\",\"10B\",\"13B\",\"15B\",\"17B\",\"19B\",\"21B\",\"23B\",\"25B\",\"27B\",\"29B\"],\"y\":[0.25144393547102173,0.2619000199163513,0.26000796654052977,0.2642899820752838,0.2608046205935073,0.2610037841067516,0.2664807807209719,0.2644891455885282,0.2636924915355507,0.2695678151762597,0.2671778530173272,0.2665803624775941,0.2704640509858594,0.2696673969328819],\"type\":\"scatter\",\"xaxis\":\"x2\",\"yaxis\":\"y2\"},{\"legendgroup\":\"dtp\",\"line\":{\"color\":\"#AB63FA\"},\"mode\":\"lines\",\"name\":\"dtp\",\"showlegend\":false,\"x\":[\"2B\",\"4B\",\"6B\",\"8B\",\"10B\",\"13B\",\"15B\",\"17B\",\"19B\",\"21B\",\"23B\",\"25B\",\"27B\",\"29B\"],\"y\":[0.2561242780322645,0.25642302330213107,0.26528579964150567,0.26289583748257317,0.2621987651862179,0.26867157936666003,0.2727544313881697,0.2735510854411472,0.2717586138219478,0.27126070503883687,0.2751443935471022,0.26976697868950406,0.27325234017128064,0.2787293367855009],\"type\":\"scatter\",\"xaxis\":\"x2\",\"yaxis\":\"y2\"},{\"legendgroup\":\"ne\",\"line\":{\"color\":\"#FFA15A\"},\"mode\":\"lines\",\"name\":\"ne\",\"showlegend\":false,\"x\":[\"2B\",\"4B\",\"6B\",\"8B\",\"10B\",\"13B\",\"15B\",\"17B\",\"19B\",\"21B\",\"23B\",\"25B\",\"27B\",\"29B\"],\"y\":[0.24447321250746862,0.26319458275243973,0.2597092212706632,0.25871340370444135,0.25403306114319857,0.26239792869946227,0.2582154949213304,0.2633937462656841,0.2619000199163513,0.25951005775741887,0.2633937462656841,0.2693686516630153,0.261202947619996,0.26598287193786097],\"type\":\"scatter\",\"xaxis\":\"x2\",\"yaxis\":\"y2\"},{\"legendgroup\":\"OP\",\"line\":{\"color\":\"#19D3F3\"},\"mode\":\"lines\",\"name\":\"OP\",\"showlegend\":false,\"x\":[\"2B\",\"4B\",\"6B\",\"8B\",\"10B\",\"13B\",\"15B\",\"17B\",\"19B\",\"21B\",\"23B\",\"25B\",\"27B\",\"29B\"],\"y\":[0.2539334793865764,0.2529376618203545,0.2590121489743079,0.2582154949213304,0.26598287193786097,0.2657837084246166,0.26379207329217286,0.26797450707030473,0.2748456482772356,0.2733519219279028,0.27305317665803625,0.27305317665803625,0.27454690300736906,0.2788289185421231],\"type\":\"scatter\",\"xaxis\":\"x2\",\"yaxis\":\"y2\"},{\"legendgroup\":\"IN\",\"line\":{\"color\":\"#FF6692\"},\"mode\":\"lines\",\"name\":\"IN\",\"showlegend\":false,\"x\":[\"2B\",\"4B\",\"6B\",\"8B\",\"10B\",\"13B\",\"15B\",\"17B\",\"19B\",\"21B\",\"23B\",\"25B\",\"27B\",\"29B\"],\"y\":[0.24815773750248954,0.25891256721768574,0.26090420235012945,0.25941047600079664,0.2619000199163513,0.2664807807209719,0.2689703246365266,0.27285401314479185,0.27305317665803625,0.26996614220274845,0.27365066719776937,0.2757418840868353,0.2742481577375025,0.27972515435172274],\"type\":\"scatter\",\"xaxis\":\"x2\",\"yaxis\":\"y2\"},{\"legendgroup\":\"ID\",\"line\":{\"color\":\"#B6E880\"},\"mode\":\"lines\",\"name\":\"ID\",\"showlegend\":false,\"x\":[\"2B\",\"4B\",\"6B\",\"8B\",\"10B\",\"13B\",\"15B\",\"17B\",\"19B\",\"21B\",\"23B\",\"25B\",\"27B\",\"29B\"],\"y\":[0.24865564628560047,0.25323640709022105,0.25781716789484166,0.26110336586337385,0.2625970922127066,0.26269667396932883,0.2666799442342163,0.2625970922127066,0.2674765982871938,0.2700657239593706,0.26687910774746065,0.27145986855208126,0.273451503684525,0.2719577773351922],\"type\":\"scatter\",\"xaxis\":\"x2\",\"yaxis\":\"y2\"},{\"legendgroup\":\"IP\",\"line\":{\"color\":\"#636EFA\"},\"mode\":\"lines\",\"name\":\"IP\",\"showlegend\":false,\"x\":[\"2B\",\"4B\",\"6B\",\"8B\",\"10B\",\"13B\",\"15B\",\"17B\",\"19B\",\"21B\",\"23B\",\"25B\",\"27B\",\"29B\"],\"y\":[0.515778019586507,0.529923830250272,0.5359085963003264,0.5342763873775843,0.5413492927094669,0.5549510337323177,0.558215451577802,0.5685527747551686,0.5674646354733406,0.5674646354733406,0.5658324265505985,0.573993471164309,0.5701849836779108,0.5778019586507073],\"type\":\"scatter\",\"xaxis\":\"x3\",\"yaxis\":\"y3\"},{\"legendgroup\":\"HI\",\"line\":{\"color\":\"#EF553B\"},\"mode\":\"lines\",\"name\":\"HI\",\"showlegend\":false,\"x\":[\"2B\",\"4B\",\"6B\",\"8B\",\"10B\",\"13B\",\"15B\",\"17B\",\"19B\",\"21B\",\"23B\",\"25B\",\"27B\",\"29B\"],\"y\":[0.5745375408052231,0.6186071817192601,0.6289445048966268,0.6430903155603918,0.6441784548422198,0.6534276387377584,0.6588683351468988,0.6561479869423286,0.6605005440696409,0.6577801958650707,0.6675734494015234,0.6697497279651795,0.6702937976060935,0.6871599564744287],\"type\":\"scatter\",\"xaxis\":\"x3\",\"yaxis\":\"y3\"},{\"legendgroup\":\"NA\",\"line\":{\"color\":\"#00CC96\"},\"mode\":\"lines\",\"name\":\"NA\",\"showlegend\":false,\"x\":[\"2B\",\"4B\",\"6B\",\"8B\",\"10B\",\"13B\",\"15B\",\"17B\",\"19B\",\"21B\",\"23B\",\"25B\",\"27B\",\"29B\"],\"y\":[0.514689880304679,0.5239390642002176,0.5369967355821545,0.5457018498367792,0.543525571273123,0.559847660500544,0.559847660500544,0.5609357997823722,0.55930359085963,0.5609357997823722,0.5647442872687704,0.5701849836779108,0.5669205658324266,0.5701849836779108],\"type\":\"scatter\",\"xaxis\":\"x3\",\"yaxis\":\"y3\"},{\"legendgroup\":\"dtp\",\"line\":{\"color\":\"#AB63FA\"},\"mode\":\"lines\",\"name\":\"dtp\",\"showlegend\":false,\"x\":[\"2B\",\"4B\",\"6B\",\"8B\",\"10B\",\"13B\",\"15B\",\"17B\",\"19B\",\"21B\",\"23B\",\"25B\",\"27B\",\"29B\"],\"y\":[0.5076169749727966,0.5282916213275299,0.5380848748639826,0.5326441784548422,0.5527747551686616,0.5473340587595212,0.5527747551686616,0.5467899891186072,0.5554951033732318,0.5565832426550599,0.5658324265505985,0.5680087051142546,0.5647442872687704,0.5625680087051143],\"type\":\"scatter\",\"xaxis\":\"x3\",\"yaxis\":\"y3\"},{\"legendgroup\":\"ne\",\"line\":{\"color\":\"#FFA15A\"},\"mode\":\"lines\",\"name\":\"ne\",\"showlegend\":false,\"x\":[\"2B\",\"4B\",\"6B\",\"8B\",\"10B\",\"13B\",\"15B\",\"17B\",\"19B\",\"21B\",\"23B\",\"25B\",\"27B\",\"29B\"],\"y\":[0.5266594124047879,0.5021762785636561,0.5108813928182807,0.5092491838955386,0.5277475516866159,0.5233949945593036,0.5315560391730142,0.5413492927094669,0.5272034820457019,0.5429815016322089,0.5457018498367792,0.5353645266594124,0.5408052230685527,0.5348204570184983],\"type\":\"scatter\",\"xaxis\":\"x3\",\"yaxis\":\"y3\"},{\"legendgroup\":\"OP\",\"line\":{\"color\":\"#19D3F3\"},\"mode\":\"lines\",\"name\":\"OP\",\"showlegend\":false,\"x\":[\"2B\",\"4B\",\"6B\",\"8B\",\"10B\",\"13B\",\"15B\",\"17B\",\"19B\",\"21B\",\"23B\",\"25B\",\"27B\",\"29B\"],\"y\":[0.5130576713819369,0.5359085963003264,0.5429815016322089,0.544069640914037,0.5658324265505985,0.558759521218716,0.55930359085963,0.5696409140369967,0.5669205658324266,0.5712731229597389,0.5712731229597389,0.5799782372143635,0.5788900979325353,0.5778019586507073],\"type\":\"scatter\",\"xaxis\":\"x3\",\"yaxis\":\"y3\"},{\"legendgroup\":\"IN\",\"line\":{\"color\":\"#FF6692\"},\"mode\":\"lines\",\"name\":\"IN\",\"showlegend\":false,\"x\":[\"2B\",\"4B\",\"6B\",\"8B\",\"10B\",\"13B\",\"15B\",\"17B\",\"19B\",\"21B\",\"23B\",\"25B\",\"27B\",\"29B\"],\"y\":[0.5168661588683352,0.529379760609358,0.5462459194776932,0.5603917301414582,0.5554951033732318,0.5544069640914037,0.5609357997823722,0.5631120783460283,0.5647442872687704,0.5767138193688792,0.5788900979325353,0.5832426550598476,0.5778019586507073,0.5783460282916213],\"type\":\"scatter\",\"xaxis\":\"x3\",\"yaxis\":\"y3\"},{\"legendgroup\":\"ID\",\"line\":{\"color\":\"#B6E880\"},\"mode\":\"lines\",\"name\":\"ID\",\"showlegend\":false,\"x\":[\"2B\",\"4B\",\"6B\",\"8B\",\"10B\",\"13B\",\"15B\",\"17B\",\"19B\",\"21B\",\"23B\",\"25B\",\"27B\",\"29B\"],\"y\":[0.5190424374319913,0.5228509249183896,0.5348204570184983,0.5625680087051143,0.558759521218716,0.5685527747551686,0.5723612622415669,0.5620239390642002,0.5609357997823722,0.5642002176278563,0.5810663764961915,0.5778019586507073,0.5799782372143635,0.573449401523395],\"type\":\"scatter\",\"xaxis\":\"x3\",\"yaxis\":\"y3\"},{\"legendgroup\":\"IP\",\"line\":{\"color\":\"#636EFA\"},\"mode\":\"lines\",\"name\":\"IP\",\"showlegend\":false,\"x\":[\"2B\",\"4B\",\"6B\",\"8B\",\"10B\",\"13B\",\"15B\",\"17B\",\"19B\",\"21B\",\"23B\",\"25B\",\"27B\",\"29B\"],\"y\":[0.254,0.258,0.224,0.252,0.24,0.236,0.244,0.23,0.246,0.244,0.244,0.222,0.242,0.234],\"type\":\"scatter\",\"xaxis\":\"x4\",\"yaxis\":\"y4\"},{\"legendgroup\":\"HI\",\"line\":{\"color\":\"#EF553B\"},\"mode\":\"lines\",\"name\":\"HI\",\"showlegend\":false,\"x\":[\"2B\",\"4B\",\"6B\",\"8B\",\"10B\",\"13B\",\"15B\",\"17B\",\"19B\",\"21B\",\"23B\",\"25B\",\"27B\",\"29B\"],\"y\":[0.256,0.244,0.27,0.258,0.26,0.272,0.254,0.274,0.268,0.26,0.262,0.266,0.266,0.244],\"type\":\"scatter\",\"xaxis\":\"x4\",\"yaxis\":\"y4\"},{\"legendgroup\":\"NA\",\"line\":{\"color\":\"#00CC96\"},\"mode\":\"lines\",\"name\":\"NA\",\"showlegend\":false,\"x\":[\"2B\",\"4B\",\"6B\",\"8B\",\"10B\",\"13B\",\"15B\",\"17B\",\"19B\",\"21B\",\"23B\",\"25B\",\"27B\",\"29B\"],\"y\":[0.28,0.254,0.236,0.238,0.236,0.238,0.242,0.236,0.234,0.222,0.232,0.224,0.242,0.22],\"type\":\"scatter\",\"xaxis\":\"x4\",\"yaxis\":\"y4\"},{\"legendgroup\":\"dtp\",\"line\":{\"color\":\"#AB63FA\"},\"mode\":\"lines\",\"name\":\"dtp\",\"showlegend\":false,\"x\":[\"2B\",\"4B\",\"6B\",\"8B\",\"10B\",\"13B\",\"15B\",\"17B\",\"19B\",\"21B\",\"23B\",\"25B\",\"27B\",\"29B\"],\"y\":[0.262,0.248,0.268,0.26,0.236,0.248,0.252,0.268,0.244,0.256,0.26,0.244,0.27,0.244],\"type\":\"scatter\",\"xaxis\":\"x4\",\"yaxis\":\"y4\"},{\"legendgroup\":\"ne\",\"line\":{\"color\":\"#FFA15A\"},\"mode\":\"lines\",\"name\":\"ne\",\"showlegend\":false,\"x\":[\"2B\",\"4B\",\"6B\",\"8B\",\"10B\",\"13B\",\"15B\",\"17B\",\"19B\",\"21B\",\"23B\",\"25B\",\"27B\",\"29B\"],\"y\":[0.272,0.25,0.248,0.248,0.252,0.248,0.242,0.246,0.244,0.244,0.254,0.246,0.252,0.244],\"type\":\"scatter\",\"xaxis\":\"x4\",\"yaxis\":\"y4\"},{\"legendgroup\":\"OP\",\"line\":{\"color\":\"#19D3F3\"},\"mode\":\"lines\",\"name\":\"OP\",\"showlegend\":false,\"x\":[\"2B\",\"4B\",\"6B\",\"8B\",\"10B\",\"13B\",\"15B\",\"17B\",\"19B\",\"21B\",\"23B\",\"25B\",\"27B\",\"29B\"],\"y\":[0.252,0.26,0.234,0.254,0.234,0.22,0.246,0.234,0.228,0.236,0.242,0.24,0.244,0.242],\"type\":\"scatter\",\"xaxis\":\"x4\",\"yaxis\":\"y4\"},{\"legendgroup\":\"IN\",\"line\":{\"color\":\"#FF6692\"},\"mode\":\"lines\",\"name\":\"IN\",\"showlegend\":false,\"x\":[\"2B\",\"4B\",\"6B\",\"8B\",\"10B\",\"13B\",\"15B\",\"17B\",\"19B\",\"21B\",\"23B\",\"25B\",\"27B\",\"29B\"],\"y\":[0.26,0.272,0.258,0.244,0.236,0.254,0.25,0.246,0.246,0.24,0.254,0.262,0.244,0.25],\"type\":\"scatter\",\"xaxis\":\"x4\",\"yaxis\":\"y4\"},{\"legendgroup\":\"ID\",\"line\":{\"color\":\"#B6E880\"},\"mode\":\"lines\",\"name\":\"ID\",\"showlegend\":false,\"x\":[\"2B\",\"4B\",\"6B\",\"8B\",\"10B\",\"13B\",\"15B\",\"17B\",\"19B\",\"21B\",\"23B\",\"25B\",\"27B\",\"29B\"],\"y\":[0.258,0.246,0.25,0.236,0.226,0.22,0.234,0.234,0.226,0.24,0.228,0.21,0.24,0.234],\"type\":\"scatter\",\"xaxis\":\"x4\",\"yaxis\":\"y4\"}],                        {\"template\":{\"data\":{\"histogram2dcontour\":[{\"type\":\"histogram2dcontour\",\"colorbar\":{\"outlinewidth\":0,\"ticks\":\"\"},\"colorscale\":[[0.0,\"#0d0887\"],[0.1111111111111111,\"#46039f\"],[0.2222222222222222,\"#7201a8\"],[0.3333333333333333,\"#9c179e\"],[0.4444444444444444,\"#bd3786\"],[0.5555555555555556,\"#d8576b\"],[0.6666666666666666,\"#ed7953\"],[0.7777777777777778,\"#fb9f3a\"],[0.8888888888888888,\"#fdca26\"],[1.0,\"#f0f921\"]]}],\"choropleth\":[{\"type\":\"choropleth\",\"colorbar\":{\"outlinewidth\":0,\"ticks\":\"\"}}],\"histogram2d\":[{\"type\":\"histogram2d\",\"colorbar\":{\"outlinewidth\":0,\"ticks\":\"\"},\"colorscale\":[[0.0,\"#0d0887\"],[0.1111111111111111,\"#46039f\"],[0.2222222222222222,\"#7201a8\"],[0.3333333333333333,\"#9c179e\"],[0.4444444444444444,\"#bd3786\"],[0.5555555555555556,\"#d8576b\"],[0.6666666666666666,\"#ed7953\"],[0.7777777777777778,\"#fb9f3a\"],[0.8888888888888888,\"#fdca26\"],[1.0,\"#f0f921\"]]}],\"heatmap\":[{\"type\":\"heatmap\",\"colorbar\":{\"outlinewidth\":0,\"ticks\":\"\"},\"colorscale\":[[0.0,\"#0d0887\"],[0.1111111111111111,\"#46039f\"],[0.2222222222222222,\"#7201a8\"],[0.3333333333333333,\"#9c179e\"],[0.4444444444444444,\"#bd3786\"],[0.5555555555555556,\"#d8576b\"],[0.6666666666666666,\"#ed7953\"],[0.7777777777777778,\"#fb9f3a\"],[0.8888888888888888,\"#fdca26\"],[1.0,\"#f0f921\"]]}],\"heatmapgl\":[{\"type\":\"heatmapgl\",\"colorbar\":{\"outlinewidth\":0,\"ticks\":\"\"},\"colorscale\":[[0.0,\"#0d0887\"],[0.1111111111111111,\"#46039f\"],[0.2222222222222222,\"#7201a8\"],[0.3333333333333333,\"#9c179e\"],[0.4444444444444444,\"#bd3786\"],[0.5555555555555556,\"#d8576b\"],[0.6666666666666666,\"#ed7953\"],[0.7777777777777778,\"#fb9f3a\"],[0.8888888888888888,\"#fdca26\"],[1.0,\"#f0f921\"]]}],\"contourcarpet\":[{\"type\":\"contourcarpet\",\"colorbar\":{\"outlinewidth\":0,\"ticks\":\"\"}}],\"contour\":[{\"type\":\"contour\",\"colorbar\":{\"outlinewidth\":0,\"ticks\":\"\"},\"colorscale\":[[0.0,\"#0d0887\"],[0.1111111111111111,\"#46039f\"],[0.2222222222222222,\"#7201a8\"],[0.3333333333333333,\"#9c179e\"],[0.4444444444444444,\"#bd3786\"],[0.5555555555555556,\"#d8576b\"],[0.6666666666666666,\"#ed7953\"],[0.7777777777777778,\"#fb9f3a\"],[0.8888888888888888,\"#fdca26\"],[1.0,\"#f0f921\"]]}],\"surface\":[{\"type\":\"surface\",\"colorbar\":{\"outlinewidth\":0,\"ticks\":\"\"},\"colorscale\":[[0.0,\"#0d0887\"],[0.1111111111111111,\"#46039f\"],[0.2222222222222222,\"#7201a8\"],[0.3333333333333333,\"#9c179e\"],[0.4444444444444444,\"#bd3786\"],[0.5555555555555556,\"#d8576b\"],[0.6666666666666666,\"#ed7953\"],[0.7777777777777778,\"#fb9f3a\"],[0.8888888888888888,\"#fdca26\"],[1.0,\"#f0f921\"]]}],\"mesh3d\":[{\"type\":\"mesh3d\",\"colorbar\":{\"outlinewidth\":0,\"ticks\":\"\"}}],\"scatter\":[{\"fillpattern\":{\"fillmode\":\"overlay\",\"size\":10,\"solidity\":0.2},\"type\":\"scatter\"}],\"parcoords\":[{\"type\":\"parcoords\",\"line\":{\"colorbar\":{\"outlinewidth\":0,\"ticks\":\"\"}}}],\"scatterpolargl\":[{\"type\":\"scatterpolargl\",\"marker\":{\"colorbar\":{\"outlinewidth\":0,\"ticks\":\"\"}}}],\"bar\":[{\"error_x\":{\"color\":\"#2a3f5f\"},\"error_y\":{\"color\":\"#2a3f5f\"},\"marker\":{\"line\":{\"color\":\"#E5ECF6\",\"width\":0.5},\"pattern\":{\"fillmode\":\"overlay\",\"size\":10,\"solidity\":0.2}},\"type\":\"bar\"}],\"scattergeo\":[{\"type\":\"scattergeo\",\"marker\":{\"colorbar\":{\"outlinewidth\":0,\"ticks\":\"\"}}}],\"scatterpolar\":[{\"type\":\"scatterpolar\",\"marker\":{\"colorbar\":{\"outlinewidth\":0,\"ticks\":\"\"}}}],\"histogram\":[{\"marker\":{\"pattern\":{\"fillmode\":\"overlay\",\"size\":10,\"solidity\":0.2}},\"type\":\"histogram\"}],\"scattergl\":[{\"type\":\"scattergl\",\"marker\":{\"colorbar\":{\"outlinewidth\":0,\"ticks\":\"\"}}}],\"scatter3d\":[{\"type\":\"scatter3d\",\"line\":{\"colorbar\":{\"outlinewidth\":0,\"ticks\":\"\"}},\"marker\":{\"colorbar\":{\"outlinewidth\":0,\"ticks\":\"\"}}}],\"scattermapbox\":[{\"type\":\"scattermapbox\",\"marker\":{\"colorbar\":{\"outlinewidth\":0,\"ticks\":\"\"}}}],\"scatterternary\":[{\"type\":\"scatterternary\",\"marker\":{\"colorbar\":{\"outlinewidth\":0,\"ticks\":\"\"}}}],\"scattercarpet\":[{\"type\":\"scattercarpet\",\"marker\":{\"colorbar\":{\"outlinewidth\":0,\"ticks\":\"\"}}}],\"carpet\":[{\"aaxis\":{\"endlinecolor\":\"#2a3f5f\",\"gridcolor\":\"white\",\"linecolor\":\"white\",\"minorgridcolor\":\"white\",\"startlinecolor\":\"#2a3f5f\"},\"baxis\":{\"endlinecolor\":\"#2a3f5f\",\"gridcolor\":\"white\",\"linecolor\":\"white\",\"minorgridcolor\":\"white\",\"startlinecolor\":\"#2a3f5f\"},\"type\":\"carpet\"}],\"table\":[{\"cells\":{\"fill\":{\"color\":\"#EBF0F8\"},\"line\":{\"color\":\"white\"}},\"header\":{\"fill\":{\"color\":\"#C8D4E3\"},\"line\":{\"color\":\"white\"}},\"type\":\"table\"}],\"barpolar\":[{\"marker\":{\"line\":{\"color\":\"#E5ECF6\",\"width\":0.5},\"pattern\":{\"fillmode\":\"overlay\",\"size\":10,\"solidity\":0.2}},\"type\":\"barpolar\"}],\"pie\":[{\"automargin\":true,\"type\":\"pie\"}]},\"layout\":{\"autotypenumbers\":\"strict\",\"colorway\":[\"#636efa\",\"#EF553B\",\"#00cc96\",\"#ab63fa\",\"#FFA15A\",\"#19d3f3\",\"#FF6692\",\"#B6E880\",\"#FF97FF\",\"#FECB52\"],\"font\":{\"color\":\"#2a3f5f\"},\"hovermode\":\"closest\",\"hoverlabel\":{\"align\":\"left\"},\"paper_bgcolor\":\"white\",\"plot_bgcolor\":\"#E5ECF6\",\"polar\":{\"bgcolor\":\"#E5ECF6\",\"angularaxis\":{\"gridcolor\":\"white\",\"linecolor\":\"white\",\"ticks\":\"\"},\"radialaxis\":{\"gridcolor\":\"white\",\"linecolor\":\"white\",\"ticks\":\"\"}},\"ternary\":{\"bgcolor\":\"#E5ECF6\",\"aaxis\":{\"gridcolor\":\"white\",\"linecolor\":\"white\",\"ticks\":\"\"},\"baxis\":{\"gridcolor\":\"white\",\"linecolor\":\"white\",\"ticks\":\"\"},\"caxis\":{\"gridcolor\":\"white\",\"linecolor\":\"white\",\"ticks\":\"\"}},\"coloraxis\":{\"colorbar\":{\"outlinewidth\":0,\"ticks\":\"\"}},\"colorscale\":{\"sequential\":[[0.0,\"#0d0887\"],[0.1111111111111111,\"#46039f\"],[0.2222222222222222,\"#7201a8\"],[0.3333333333333333,\"#9c179e\"],[0.4444444444444444,\"#bd3786\"],[0.5555555555555556,\"#d8576b\"],[0.6666666666666666,\"#ed7953\"],[0.7777777777777778,\"#fb9f3a\"],[0.8888888888888888,\"#fdca26\"],[1.0,\"#f0f921\"]],\"sequentialminus\":[[0.0,\"#0d0887\"],[0.1111111111111111,\"#46039f\"],[0.2222222222222222,\"#7201a8\"],[0.3333333333333333,\"#9c179e\"],[0.4444444444444444,\"#bd3786\"],[0.5555555555555556,\"#d8576b\"],[0.6666666666666666,\"#ed7953\"],[0.7777777777777778,\"#fb9f3a\"],[0.8888888888888888,\"#fdca26\"],[1.0,\"#f0f921\"]],\"diverging\":[[0,\"#8e0152\"],[0.1,\"#c51b7d\"],[0.2,\"#de77ae\"],[0.3,\"#f1b6da\"],[0.4,\"#fde0ef\"],[0.5,\"#f7f7f7\"],[0.6,\"#e6f5d0\"],[0.7,\"#b8e186\"],[0.8,\"#7fbc41\"],[0.9,\"#4d9221\"],[1,\"#276419\"]]},\"xaxis\":{\"gridcolor\":\"white\",\"linecolor\":\"white\",\"ticks\":\"\",\"title\":{\"standoff\":15},\"zerolinecolor\":\"white\",\"automargin\":true,\"zerolinewidth\":2},\"yaxis\":{\"gridcolor\":\"white\",\"linecolor\":\"white\",\"ticks\":\"\",\"title\":{\"standoff\":15},\"zerolinecolor\":\"white\",\"automargin\":true,\"zerolinewidth\":2},\"scene\":{\"xaxis\":{\"backgroundcolor\":\"#E5ECF6\",\"gridcolor\":\"white\",\"linecolor\":\"white\",\"showbackground\":true,\"ticks\":\"\",\"zerolinecolor\":\"white\",\"gridwidth\":2},\"yaxis\":{\"backgroundcolor\":\"#E5ECF6\",\"gridcolor\":\"white\",\"linecolor\":\"white\",\"showbackground\":true,\"ticks\":\"\",\"zerolinecolor\":\"white\",\"gridwidth\":2},\"zaxis\":{\"backgroundcolor\":\"#E5ECF6\",\"gridcolor\":\"white\",\"linecolor\":\"white\",\"showbackground\":true,\"ticks\":\"\",\"zerolinecolor\":\"white\",\"gridwidth\":2}},\"shapedefaults\":{\"line\":{\"color\":\"#2a3f5f\"}},\"annotationdefaults\":{\"arrowcolor\":\"#2a3f5f\",\"arrowhead\":0,\"arrowwidth\":1},\"geo\":{\"bgcolor\":\"white\",\"landcolor\":\"#E5ECF6\",\"subunitcolor\":\"white\",\"showland\":true,\"showlakes\":true,\"lakecolor\":\"white\"},\"title\":{\"x\":0.05},\"mapbox\":{\"style\":\"light\"}}},\"xaxis\":{\"anchor\":\"y\",\"domain\":[0.0,0.45]},\"yaxis\":{\"anchor\":\"x\",\"domain\":[0.575,1.0]},\"xaxis2\":{\"anchor\":\"y2\",\"domain\":[0.55,1.0]},\"yaxis2\":{\"anchor\":\"x2\",\"domain\":[0.575,1.0]},\"xaxis3\":{\"anchor\":\"y3\",\"domain\":[0.0,0.45]},\"yaxis3\":{\"anchor\":\"x3\",\"domain\":[0.0,0.425]},\"xaxis4\":{\"anchor\":\"y4\",\"domain\":[0.55,1.0]},\"yaxis4\":{\"anchor\":\"x4\",\"domain\":[0.0,0.425]},\"annotations\":[{\"font\":{\"size\":16},\"showarrow\":false,\"text\":\"arc:easy\",\"x\":0.225,\"xanchor\":\"center\",\"xref\":\"paper\",\"y\":1.0,\"yanchor\":\"bottom\",\"yref\":\"paper\"},{\"font\":{\"size\":16},\"showarrow\":false,\"text\":\"hellaswag\",\"x\":0.775,\"xanchor\":\"center\",\"xref\":\"paper\",\"y\":1.0,\"yanchor\":\"bottom\",\"yref\":\"paper\"},{\"font\":{\"size\":16},\"showarrow\":false,\"text\":\"piqa\",\"x\":0.225,\"xanchor\":\"center\",\"xref\":\"paper\",\"y\":0.425,\"yanchor\":\"bottom\",\"yref\":\"paper\"},{\"font\":{\"size\":16},\"showarrow\":false,\"text\":\"openbookqa\",\"x\":0.775,\"xanchor\":\"center\",\"xref\":\"paper\",\"y\":0.425,\"yanchor\":\"bottom\",\"yref\":\"paper\"},{\"font\":{\"size\":16},\"showarrow\":false,\"text\":\"Tokens\",\"x\":0.5,\"xanchor\":\"center\",\"xref\":\"paper\",\"y\":0,\"yanchor\":\"top\",\"yref\":\"paper\",\"yshift\":-30},{\"font\":{\"size\":16},\"showarrow\":false,\"text\":\"Accuracy score\",\"textangle\":-90,\"x\":0,\"xanchor\":\"right\",\"xref\":\"paper\",\"xshift\":-40,\"y\":0.5,\"yanchor\":\"middle\",\"yref\":\"paper\"}],\"title\":{\"text\":\"Accuracy Metrics by Task and Register\"},\"height\":800,\"width\":1300,\"showlegend\":true},                        {\"responsive\": true}                    ).then(function(){\n",
       "                            \n",
       "var gd = document.getElementById('3673a2dd-e2ad-4546-b82f-8a05219d8ef8');\n",
       "var x = new MutationObserver(function (mutations, observer) {{\n",
       "        var display = window.getComputedStyle(gd).display;\n",
       "        if (!display || display === 'none') {{\n",
       "            console.log([gd, 'removed!']);\n",
       "            Plotly.purge(gd);\n",
       "            observer.disconnect();\n",
       "        }}\n",
       "}});\n",
       "\n",
       "// Listen for the removal of the full notebook cells\n",
       "var notebookContainer = gd.closest('#notebook-container');\n",
       "if (notebookContainer) {{\n",
       "    x.observe(notebookContainer, {childList: true});\n",
       "}}\n",
       "\n",
       "// Listen for the clearing of the current output cell\n",
       "var outputEl = gd.closest('.output');\n",
       "if (outputEl) {{\n",
       "    x.observe(outputEl, {childList: true});\n",
       "}}\n",
       "\n",
       "                        })                };                });            </script>        </div>"
      ]
     },
     "metadata": {},
     "output_type": "display_data"
    }
   ],
   "source": [
    "\n",
    "\n",
    "# Create a 2x2 grid of subplots\n",
    "fig = make_subplots(\n",
    "    rows=2, cols=2, \n",
    "    subplot_titles=[\"arc:easy\", \"hellaswag\", \"piqa\", \"openbookqa\"],\n",
    "    x_title=\"Tokens\",\n",
    "    y_title=\"Accuracy score\",\n",
    "    #shared_xaxes=True,  # Share the x-axis across all subplots\n",
    "    vertical_spacing=0.15,  # Adjust space between subplots\n",
    ")\n",
    "\n",
    "# List of accuracy columns\n",
    "accuracy_columns = ['acc_norm_arc_easy', 'acc_norm_hellaswag', 'acc_norm_piqa', 'acc_norm_openbookqa']\n",
    "\n",
    "# Loop over each accuracy metric and add traces to the subplots\n",
    "for i, accuracy_col in enumerate(accuracy_columns):\n",
    "    row = (i // 2) + 1  # Determine the row for the subplot (1 or 2)\n",
    "    col = (i % 2) + 1   # Determine the column for the subplot (1 or 2)\n",
    "    \n",
    "    # Group by label and plot each group with a different color\n",
    "    for label in df['register'].unique():\n",
    "        label_data = df[df['register'] == label]\n",
    "        \n",
    "        fig.add_trace(\n",
    "            go.Scatter(\n",
    "                x=label_data['tokens'], \n",
    "                y=label_data[accuracy_col], \n",
    "                mode='lines', \n",
    "                showlegend=True if row==1 and col==1 else False,\n",
    "                name=f'{label}', #if row==0 and col==0 else None,#name=f'{accuracy_col} - {label}', \n",
    "                legendgroup=f'{label}',\n",
    "                line=dict(color=c_map[label])#dict(color=px.colors.qualitative.Set1[list(df['register'].unique()).index(label)])\n",
    "            ),\n",
    "            row=row, col=col\n",
    "        )\n",
    "\n",
    "# Update layout for better appearance\n",
    "fig.update_layout(\n",
    "    title=\"Accuracy Metrics by Task and Register\",\n",
    "    height=800,  # Adjust the height of the plot\n",
    "    width=1300,\n",
    "    showlegend=True,  # Show legend\n",
    ")\n",
    "\n",
    "\n",
    "# Show the plot\n",
    "fig.show()\n"
   ]
  },
  {
   "cell_type": "code",
   "execution_count": null,
   "metadata": {},
   "outputs": [],
   "source": []
  }
 ],
 "metadata": {
  "kernelspec": {
   "display_name": "Python 3",
   "language": "python",
   "name": "python3"
  },
  "language_info": {
   "codemirror_mode": {
    "name": "ipython",
    "version": 3
   },
   "file_extension": ".py",
   "mimetype": "text/x-python",
   "name": "python",
   "nbconvert_exporter": "python",
   "pygments_lexer": "ipython3",
   "version": "3.6.15"
  }
 },
 "nbformat": 4,
 "nbformat_minor": 2
}
